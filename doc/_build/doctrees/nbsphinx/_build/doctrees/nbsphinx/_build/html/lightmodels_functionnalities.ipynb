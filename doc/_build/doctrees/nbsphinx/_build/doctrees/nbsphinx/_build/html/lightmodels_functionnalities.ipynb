{
 "cells": [
  {
   "cell_type": "markdown",
   "id": "971cb814",
   "metadata": {},
   "source": [
    "# Light models options: how to set up the light models\n",
    "\n",
    "## Content\n",
    "\n",
    "- CARIBU\n",
    "    - Computing the sun position\n",
    "    - Grid of virtual sensors\n",
    "    - Other parameters\n",
    "- RATP\n",
    "    - Leaf angle distribution\n",
    "    - Triangles tesselation in a grid\n",
    "    - Other parameters\n",
    "    \n",
    "## Introduction\n",
    "\n",
    "During our use of lightvegemanager, we added special features for each known light models. This notebook gives you a small introduction to them.\n",
    "\n",
    "The parameters of those features are stored in a dict."
   ]
  },
  {
   "cell_type": "code",
   "execution_count": 1,
   "id": "293a40d2",
   "metadata": {},
   "outputs": [],
   "source": [
    "import os\n",
    "from lightvegemanager.LVM import LightVegeManager\n",
    "from pgljupyter import SceneWidget\n",
    "from lightvegemanager.trianglesmesh import random_triangle_generator"
   ]
  },
  {
   "cell_type": "markdown",
   "id": "232237fe",
   "metadata": {},
   "source": [
    "## CARIBU\n",
    "\n",
    "This is the complete parameters you can provide with CARIBU: \n",
    "\n",
    "```python\n",
    "caribu_args = {\n",
    "                    \"sun algo\" : \"ratp\",\n",
    "                    \"sun algo\" : \"caribu\",\n",
    "\n",
    "                    \"caribu opt\" : {\n",
    "                                    band0 = (reflectance, transmittance),\n",
    "                                    band1 = (reflectance, transmittance),\n",
    "                                    ...\n",
    "                                    },\n",
    "                    \"debug\" : bool,\n",
    "                    \"soil mesh\" : bool,\n",
    "                    \"sensors\" : [\"grid\", dxyz, nxyz, orig, vtkpath, \"vtk\"]\n",
    "                }\n",
    "```"
   ]
  },
  {
   "cell_type": "markdown",
   "id": "7a847443",
   "metadata": {},
   "source": [
    "### Computing the sun position\n",
    "\n",
    "In order to compute the sun position, you can use either the algorithm from RATP or CARIBU. The (x, y, z) output is formatted in CARIBU format."
   ]
  },
  {
   "cell_type": "code",
   "execution_count": 2,
   "id": "00259bc9",
   "metadata": {},
   "outputs": [
    {
     "name": "stdout",
     "output_type": "stream",
     "text": [
      "(0.33506553253259913, -0.8798617206271511, -0.3370080733212115)\n"
     ]
    }
   ],
   "source": [
    "caribu_args = { \"sun algo\" : \"caribu\" }\n",
    "\n",
    "lighting = LightVegeManager(lightmodel=\"caribu\", lightmodel_parameters=caribu_args)\n",
    "lighting.build(geometry=[(0., 0., 0.), (1., 0., 0.), (1., 1., 1.)])\n",
    "energy = 500.\n",
    "hour = 15\n",
    "day = 264\n",
    "lighting.run(energy=energy, hour=hour, day=day)\n",
    "\n",
    "sun_caribu = lighting.sun\n",
    "print(sun_caribu)"
   ]
  },
  {
   "cell_type": "code",
   "execution_count": 3,
   "id": "20273c93",
   "metadata": {},
   "outputs": [
    {
     "name": "stdout",
     "output_type": "stream",
     "text": [
      "(0.33241183146897624, -0.8800565622452903, -0.3391206592769639)\n"
     ]
    }
   ],
   "source": [
    "caribu_args = { \"sun algo\" : \"ratp\" }\n",
    "\n",
    "lighting = LightVegeManager(lightmodel=\"caribu\", lightmodel_parameters=caribu_args)\n",
    "lighting.build(geometry=[(0., 0., 0.), (1., 0., 0.), (1., 1., 1.)])\n",
    "energy = 500.\n",
    "hour = 15\n",
    "day = 264\n",
    "lighting.run(energy=energy, hour=hour, day=day)\n",
    "\n",
    "sun_ratp = lighting.sun\n",
    "print(sun_ratp)"
   ]
  },
  {
   "cell_type": "code",
   "execution_count": 4,
   "id": "7b0e119e",
   "metadata": {},
   "outputs": [
    {
     "name": "stdout",
     "output_type": "stream",
     "text": [
      "euclidean dist =  0.003397515564596359  m\n"
     ]
    }
   ],
   "source": [
    "dist = (sum([ (x-y)**2 for x,y in zip(sun_ratp, sun_caribu) ])) ** (1/2)\n",
    "print(\"euclidean dist = \",dist,\" m\")"
   ]
  },
  {
   "cell_type": "markdown",
   "id": "b1febd05",
   "metadata": {},
   "source": [
    "### Grid of virtual sensors\n",
    "\n",
    "If you can to match a grid of voxels, you can generate a set of virtual sensors following a 3D grid. You need to precise the dimension of the grid:\n",
    "- dxyz: `[dx, dy, dz]` size of one voxel\n",
    "- nxyz: `[nx, ny, nz]` number of voxels on each xyz axis\n",
    "- orig: `[0x, 0y, 0z]` origin point of the grid\n",
    "\n",
    "Optionnaly, you can write a geometric visualisation of the sensors in VTK format. You need to provide the file path and the flag `\"vtk\"`."
   ]
  },
  {
   "cell_type": "code",
   "execution_count": 5,
   "id": "556e7a16",
   "metadata": {},
   "outputs": [],
   "source": [
    "# grid dimensions\n",
    "dxyz = [1.] * 3\n",
    "nxyz = [5, 5, 7]\n",
    "orig = [0.] * 3"
   ]
  },
  {
   "cell_type": "code",
   "execution_count": 6,
   "id": "95967c93",
   "metadata": {},
   "outputs": [],
   "source": [
    "# random triangles\n",
    "nb_triangles = 50\n",
    "spheresize = (1., 0.3) # vertices of triangles are the sphere surface\n",
    "triangles = []\n",
    "for i in range(nb_triangles):\n",
    "    triangles.append(random_triangle_generator(worldsize=(0., 5.), spheresize=spheresize))"
   ]
  },
  {
   "cell_type": "code",
   "execution_count": 7,
   "id": "ed022b4c",
   "metadata": {},
   "outputs": [],
   "source": [
    "caribu_args = { \"sensors\" : [\"grid\", dxyz, nxyz, orig] }\n",
    "\n",
    "lighting = LightVegeManager(lightmodel=\"caribu\", lightmodel_parameters=caribu_args, environment={\"infinite\":True})\n",
    "lighting.build(geometry=triangles)"
   ]
  },
  {
   "cell_type": "markdown",
   "id": "d11f570b",
   "metadata": {},
   "source": [
    "You can visualize the grid of sensors with plantGL through the method `plantGL_sensors`"
   ]
  },
  {
   "cell_type": "code",
   "execution_count": 8,
   "id": "8c5f06e2",
   "metadata": {},
   "outputs": [
    {
     "data": {
      "application/vnd.jupyter.widget-view+json": {
       "model_id": "0a38db459b934f7f973c2b2a40610095",
       "version_major": 2,
       "version_minor": 0
      },
      "text/plain": [
       "SceneWidget(axes_helper=True, scenes=[{'id': 'PeUbme32J7raIm5wbjhizJGRd', 'data': b'x\\xda\\x85\\x9ai\\xbf\\x15G\\x1…"
      ]
     },
     "execution_count": 8,
     "metadata": {},
     "output_type": "execute_result"
    }
   ],
   "source": [
    "SceneWidget(lighting.plantGL_sensors(), \n",
    "            position=(-2.5, -2.5, 0.0), \n",
    "            size_display=(600, 400), \n",
    "            plane=True, \n",
    "            size_world = 10, \n",
    "            axes_helper=True)"
   ]
  },
  {
   "cell_type": "markdown",
   "id": "c33fec94",
   "metadata": {},
   "source": [
    "The lighting results are stored in `sensors_outputs`"
   ]
  },
  {
   "cell_type": "code",
   "execution_count": 9,
   "id": "fcd4be39",
   "metadata": {},
   "outputs": [
    {
     "name": "stdout",
     "output_type": "stream",
     "text": [
      "{'par': {0: 0.5357183881257019, 1: 0.4686494843618967, 2: 0.43585410695767945, 3: 0.7773054342426935, 4: 0.7653565097977126, 5: 0.8234079750501035, 6: 0.4758490954881396, 7: 0.5623902514683649, 8: 0.6648303684704121, 9: 0.7523744755517257, 10: 0.757628513619047, 11: 0.7759095328197766, 12: 0.5042164344666725, 13: 0.5273952940619577, 14: 0.618460535502636, 15: 0.7471856369784272, 16: 0.7002461334186968, 17: 0.8083881379807872, 18: 0.5731391756180516, 19: 0.6005392197593685, 20: 0.5830230691495272, 21: 0.668598834740319, 22: 0.7491856052337844, 23: 0.7778896638896193, 24: 0.45941263771422963, 25: 0.5231994757990336, 26: 0.5730702589058677, 27: 0.6802830730422291, 28: 0.768563206195468, 29: 0.8783160299524551, 30: 0.4879256729568832, 31: 0.3986838108537597, 32: 0.5107879595674222, 33: 0.7104544959233176, 34: 0.6104289235914225, 35: 0.8335714361222757, 36: 0.49402264002060914, 37: 0.5236661627298473, 38: 0.5559437694123442, 39: 0.7801809144392181, 40: 0.7482355370820352, 41: 0.8703959530204384, 42: 0.4437212327094782, 43: 0.48943914843165776, 44: 0.6265471398912993, 45: 0.6242676962673399, 46: 0.6242541832847409, 47: 0.8029465687456536, 48: 0.4552489809791363, 49: 0.5706269863386113, 50: 0.6707753329147661, 51: 0.6173647331272717, 52: 0.5817093348224309, 53: 0.8761273435958801, 54: 0.39061205289281303, 55: 0.4876144245567773, 56: 0.6081462607497906, 57: 0.6490748578167109, 58: 0.6112989310198034, 59: 0.9081399625253275, 60: 0.4382387194995509, 61: 0.24511969967129915, 62: 0.5564013821314899, 63: 0.6811375757235048, 64: 0.770734538810677, 65: 0.6876474556435463, 66: 0.4333876306307797, 67: 0.5117511864924423, 68: 0.5452643050348251, 69: 0.5855297120040052, 70: 0.7679378169458118, 71: 0.7374054106105965, 72: 0.46718762617607673, 73: 0.515406942360565, 74: 0.5498630958709402, 75: 0.38157016078052153, 76: 0.6230183331063252, 77: 0.9297880197486428, 78: 0.42012696485414797, 79: 0.43441190921900263, 80: 0.576547648435128, 81: 0.575563926783583, 82: 0.5587431661289568, 83: 0.9428844615982549, 84: 0.40797647513225416, 85: 0.32045180842520204, 86: 0.3860501936085704, 87: 0.6035746806015782, 88: 0.6761415094988514, 89: 0.9147231881446279, 90: 0.35723846481058197, 91: 0.29971902254716964, 92: 0.4617676006672053, 93: 0.6670186733643282, 94: 0.7729889949287282, 95: 0.8223626142139061, 96: 0.43689040185742767, 97: 0.5034266289477778, 98: 0.614485119215983, 99: 0.6753609146208617, 100: 0.8209389374222003, 101: 0.88137358368075, 102: 0.5060744695288328, 103: 0.5006922321596806, 104: 0.5450143532935812, 105: 0.669825913948119, 106: 0.7948585486270389, 107: 0.9497236962858565, 108: 0.5240235293870577, 109: 0.5291828813059647, 110: 0.5584025594129878, 111: 0.7009911880575855, 112: 0.6644575143621863, 113: 0.896722396622886, 114: 0.48066310311501675, 115: 0.45339172597584754, 116: 0.4928664818657807, 117: 0.6921498380364002, 118: 0.6582322232034805, 119: 0.8062622917317241, 120: 0.4165301298570477, 121: 0.47752211531730254, 122: 0.5422072915168136, 123: 0.7320985553256096, 124: 0.760961505134305, 125: 0.8425522336315453, 126: 0.48285036844495494, 127: 0.4897295356464291, 128: 0.6751897497018744, 129: 0.7650357314236249, 130: 0.6888417962718921, 131: 0.9099594684378505, 132: 0.4801370709108044, 133: 0.5233846696457297, 134: 0.5942217135899492, 135: 0.7384234333722701, 136: 0.8064837117567087, 137: 0.955340358423788, 138: 0.5755258055313021, 139: 0.5351956047253674, 140: 0.5430459909905389, 141: 0.7603523762894485, 142: 0.8096038729562012, 143: 0.9210479253387107, 144: 0.49256349385820036, 145: 0.4352151194578986, 146: 0.4353486297408457, 147: 0.7458275318718196, 148: 0.7991276473463365, 149: 0.9117731862505419}}\n"
     ]
    }
   ],
   "source": [
    "energy = 500.\n",
    "hour = 15\n",
    "day = 264\n",
    "lighting.run(energy=energy, hour=hour, day=day)\n",
    "\n",
    "print(lighting.sensors_outputs)"
   ]
  },
  {
   "cell_type": "markdown",
   "id": "028f5975",
   "metadata": {},
   "source": [
    "You can also visualize the results in the plantGL scene"
   ]
  },
  {
   "cell_type": "code",
   "execution_count": 10,
   "id": "3258001b",
   "metadata": {},
   "outputs": [
    {
     "data": {
      "application/vnd.jupyter.widget-view+json": {
       "model_id": "5552af150fc94d0e86071b0102a0bff8",
       "version_major": 2,
       "version_minor": 0
      },
      "text/plain": [
       "SceneWidget(axes_helper=True, scenes=[{'id': 'h4EUPTlkwcC9SjqSa9KdhgS4D', 'data': b'x\\xda\\x85\\x9bk\\x7fVG\\x15\\x…"
      ]
     },
     "execution_count": 10,
     "metadata": {},
     "output_type": "execute_result"
    }
   ],
   "source": [
    "SceneWidget(lighting.plantGL_sensors(light=True), \n",
    "            position=(-2.5, -2.5, 0.0), \n",
    "            size_display=(600, 400), \n",
    "            plane=True, \n",
    "            size_world = 10, \n",
    "            axes_helper=True)"
   ]
  },
  {
   "cell_type": "code",
   "execution_count": 11,
   "id": "5f2b40d2",
   "metadata": {},
   "outputs": [
    {
     "data": {
      "application/vnd.jupyter.widget-view+json": {
       "model_id": "6a47cff23a7344f99b95c6181de7d2b2",
       "version_major": 2,
       "version_minor": 0
      },
      "text/plain": [
       "SceneWidget(axes_helper=True, scenes=[{'id': 'whSP4mA3wlgKFoL4Li9pam9AQ', 'data': b'x\\xda\\x8d\\x9cy\\x98\\x15\\xc5…"
      ]
     },
     "execution_count": 11,
     "metadata": {},
     "output_type": "execute_result"
    }
   ],
   "source": [
    "SceneWidget(lighting.plantGL_sensors(light=True) + lighting.plantGL_nolight(), \n",
    "            position=(-2.5, -2.5, 0.0), \n",
    "            size_display=(600, 400), \n",
    "            plane=True, \n",
    "            size_world = 10, \n",
    "            axes_helper=True)"
   ]
  },
  {
   "cell_type": "markdown",
   "id": "7b4fe6e1",
   "metadata": {},
   "source": [
    "### Other parameters\n",
    "\n",
    "In additional features, you can activate the debug mode in CARIBU, which describe the internal steps."
   ]
  },
  {
   "cell_type": "code",
   "execution_count": 6,
   "id": "494b7ef9",
   "metadata": {},
   "outputs": [
    {
     "name": "stdout",
     "output_type": "stream",
     "text": [
      "Prepare scene 1\n",
      "done\n"
     ]
    },
    {
     "ename": "FileNotFoundError",
     "evalue": "[Errno 2] No such file or directory: './caribuscene_2672400716080\\\\cscene.can'",
     "output_type": "error",
     "traceback": [
      "\u001b[1;31m---------------------------------------------------------------------------\u001b[0m",
      "\u001b[1;31mFileNotFoundError\u001b[0m                         Traceback (most recent call last)",
      "Cell \u001b[1;32mIn[6], line 9\u001b[0m\n\u001b[0;32m      7\u001b[0m hour \u001b[38;5;241m=\u001b[39m \u001b[38;5;241m15\u001b[39m\n\u001b[0;32m      8\u001b[0m day \u001b[38;5;241m=\u001b[39m \u001b[38;5;241m264\u001b[39m\n\u001b[1;32m----> 9\u001b[0m \u001b[43mlighting\u001b[49m\u001b[38;5;241;43m.\u001b[39;49m\u001b[43mrun\u001b[49m\u001b[43m(\u001b[49m\u001b[43menergy\u001b[49m\u001b[38;5;241;43m=\u001b[39;49m\u001b[43menergy\u001b[49m\u001b[43m,\u001b[49m\u001b[43m \u001b[49m\u001b[43mhour\u001b[49m\u001b[38;5;241;43m=\u001b[39;49m\u001b[43mhour\u001b[49m\u001b[43m,\u001b[49m\u001b[43m \u001b[49m\u001b[43mday\u001b[49m\u001b[38;5;241;43m=\u001b[39;49m\u001b[43mday\u001b[49m\u001b[43m)\u001b[49m\n",
      "File \u001b[1;32mc:\\users\\mwoussen\\cdd\\codes\\dev\\lightvegemanager\\src\\lightvegemanager\\tool.py:533\u001b[0m, in \u001b[0;36mLightVegeManager.run\u001b[1;34m(self, energy, day, hour, parunit, truesolartime, id_sensors)\u001b[0m\n\u001b[0;32m    531\u001b[0m \u001b[38;5;28;01mif\u001b[39;00m sun_sky_option \u001b[38;5;241m==\u001b[39m \u001b[38;5;124m\"\u001b[39m\u001b[38;5;124mmix\u001b[39m\u001b[38;5;124m\"\u001b[39m:\n\u001b[0;32m    532\u001b[0m     start \u001b[38;5;241m=\u001b[39m time\u001b[38;5;241m.\u001b[39mtime()\n\u001b[1;32m--> 533\u001b[0m     raw_sun, aggregated_sun \u001b[38;5;241m=\u001b[39m \u001b[43mrun_caribu\u001b[49m\u001b[43m(\u001b[49m\u001b[38;5;241;43m*\u001b[39;49m\u001b[43marg\u001b[49m\u001b[43m)\u001b[49m\n\u001b[0;32m    534\u001b[0m     arg[\u001b[38;5;241m0\u001b[39m] \u001b[38;5;241m=\u001b[39m c_scene_sky\n\u001b[0;32m    535\u001b[0m     raw_sky, aggregated_sky \u001b[38;5;241m=\u001b[39m run_caribu(\u001b[38;5;241m*\u001b[39marg)\n",
      "File \u001b[1;32mc:\\users\\mwoussen\\cdd\\codes\\dev\\lightvegemanager\\src\\lightvegemanager\\CARIBUinputs.py:370\u001b[0m, in \u001b[0;36mrun_caribu\u001b[1;34m(c_scene, direct_active, infinite, sensors, energy)\u001b[0m\n\u001b[0;32m    329\u001b[0m \u001b[38;5;250m\u001b[39m\u001b[38;5;124;03m\"\"\"runs caribu depending on input options\u001b[39;00m\n\u001b[0;32m    330\u001b[0m \n\u001b[0;32m    331\u001b[0m \u001b[38;5;124;03m:param c_scene: instance of CaribuScene containing geometry, light source(s), opt etc...\u001b[39;00m\n\u001b[1;32m   (...)\u001b[0m\n\u001b[0;32m    367\u001b[0m \u001b[38;5;124;03m:rtype: dict of dict, dict of dict\u001b[39;00m\n\u001b[0;32m    368\u001b[0m \u001b[38;5;124;03m\"\"\"\u001b[39;00m    \n\u001b[0;32m    369\u001b[0m \u001b[38;5;28;01mif\u001b[39;00m sensors \u001b[38;5;129;01mis\u001b[39;00m \u001b[38;5;28;01mNone\u001b[39;00m :\n\u001b[1;32m--> 370\u001b[0m     raw, aggregated \u001b[38;5;241m=\u001b[39m \u001b[43mc_scene\u001b[49m\u001b[38;5;241;43m.\u001b[39;49m\u001b[43mrun\u001b[49m\u001b[43m(\u001b[49m\u001b[43mdirect\u001b[49m\u001b[38;5;241;43m=\u001b[39;49m\u001b[43mdirect_active\u001b[49m\u001b[43m,\u001b[49m\u001b[43m \u001b[49m\u001b[43minfinite\u001b[49m\u001b[38;5;241;43m=\u001b[39;49m\u001b[43minfinite\u001b[49m\u001b[43m)\u001b[49m\n\u001b[0;32m    371\u001b[0m \u001b[38;5;28;01melse\u001b[39;00m :\n\u001b[0;32m    372\u001b[0m     raw, aggregated \u001b[38;5;241m=\u001b[39m c_scene\u001b[38;5;241m.\u001b[39mrun(direct\u001b[38;5;241m=\u001b[39mdirect_active, infinite\u001b[38;5;241m=\u001b[39minfinite, \n\u001b[0;32m    373\u001b[0m                                                         sensors\u001b[38;5;241m=\u001b[39msensors)\n",
      "File \u001b[1;32m~\\AppData\\Local\\miniconda3\\envs\\mobidivpy37\\lib\\site-packages\\alinea.caribu-8.0.7-py3.8.egg\\alinea\\caribu\\CaribuScene.py:568\u001b[0m, in \u001b[0;36mCaribuScene.run\u001b[1;34m(self, direct, infinite, d_sphere, layers, height, screen_size, screen_resolution, sensors, split_face, simplify)\u001b[0m\n\u001b[0;32m    566\u001b[0m         \u001b[38;5;28mself\u001b[39m\u001b[38;5;241m.\u001b[39mcanfile \u001b[38;5;241m=\u001b[39m os\u001b[38;5;241m.\u001b[39mpath\u001b[38;5;241m.\u001b[39mjoin(\u001b[38;5;28mself\u001b[39m\u001b[38;5;241m.\u001b[39mtempdir,\u001b[38;5;124m'\u001b[39m\u001b[38;5;124mcscene.can\u001b[39m\u001b[38;5;124m'\u001b[39m)\n\u001b[0;32m    567\u001b[0m         \u001b[38;5;28mself\u001b[39m\u001b[38;5;241m.\u001b[39moptfile \u001b[38;5;241m=\u001b[39m os\u001b[38;5;241m.\u001b[39mpath\u001b[38;5;241m.\u001b[39mjoin(\u001b[38;5;28mself\u001b[39m\u001b[38;5;241m.\u001b[39mtempdir,\u001b[38;5;124m'\u001b[39m\u001b[38;5;124mband0.opt\u001b[39m\u001b[38;5;124m'\u001b[39m)\n\u001b[1;32m--> 568\u001b[0m         \u001b[43mwrite_scene\u001b[49m\u001b[43m(\u001b[49m\u001b[43mtriangles\u001b[49m\u001b[43m,\u001b[49m\u001b[43m \u001b[49m\u001b[43mmaterials\u001b[49m\u001b[43m,\u001b[49m\u001b[43m \u001b[49m\u001b[43mcanfile\u001b[49m\u001b[43m \u001b[49m\u001b[38;5;241;43m=\u001b[39;49m\u001b[43m \u001b[49m\u001b[38;5;28;43mself\u001b[39;49m\u001b[38;5;241;43m.\u001b[39;49m\u001b[43mcanfile\u001b[49m\u001b[43m,\u001b[49m\u001b[43m \u001b[49m\u001b[43moptfile\u001b[49m\u001b[43m \u001b[49m\u001b[38;5;241;43m=\u001b[39;49m\u001b[43m \u001b[49m\u001b[38;5;28;43mself\u001b[39;49m\u001b[38;5;241;43m.\u001b[39;49m\u001b[43moptfile\u001b[49m\u001b[43m)\u001b[49m\n\u001b[0;32m    570\u001b[0m \u001b[38;5;28;01melse\u001b[39;00m:\n\u001b[0;32m    571\u001b[0m     \u001b[38;5;66;03m# self.materialvalues is a cache for the computation of the material list\u001b[39;00m\n\u001b[0;32m    572\u001b[0m     materials \u001b[38;5;241m=\u001b[39m \u001b[38;5;28mself\u001b[39m\u001b[38;5;241m.\u001b[39mmaterialvalues\n",
      "File \u001b[1;32m~\\AppData\\Local\\miniconda3\\envs\\mobidivpy37\\lib\\site-packages\\alinea.caribu-8.0.7-py3.8.egg\\alinea\\caribu\\caribu.py:177\u001b[0m, in \u001b[0;36mwrite_scene\u001b[1;34m(triangles, materials, canfile, optfile)\u001b[0m\n\u001b[0;32m    175\u001b[0m o_string, labels \u001b[38;5;241m=\u001b[39m opt_string_and_labels(materials)\n\u001b[0;32m    176\u001b[0m can_string \u001b[38;5;241m=\u001b[39m triangles_string(triangles, labels)\n\u001b[1;32m--> 177\u001b[0m \u001b[38;5;28;43mopen\u001b[39;49m\u001b[43m(\u001b[49m\u001b[43mcanfile\u001b[49m\u001b[43m,\u001b[49m\u001b[38;5;124;43m'\u001b[39;49m\u001b[38;5;124;43mw\u001b[39;49m\u001b[38;5;124;43m'\u001b[39;49m\u001b[43m)\u001b[49m\u001b[38;5;241m.\u001b[39mwrite(can_string)\n\u001b[0;32m    178\u001b[0m \u001b[38;5;28mopen\u001b[39m(optfile,\u001b[38;5;124m'\u001b[39m\u001b[38;5;124mw\u001b[39m\u001b[38;5;124m'\u001b[39m)\u001b[38;5;241m.\u001b[39mwrite(o_string)\n",
      "\u001b[1;31mFileNotFoundError\u001b[0m: [Errno 2] No such file or directory: './caribuscene_2672400716080\\\\cscene.can'"
     ]
    }
   ],
   "source": [
    "caribu_args = { \"debug\" : True }\n",
    "\n",
    "lighting = LightVegeManager(lightmodel=\"caribu\", lightmodel_parameters=caribu_args)\n",
    "lighting.build(geometry=[(0., 0., 0.), (1., 0., 0.), (1., 1., 1.)])\n",
    "\n",
    "energy = 500.\n",
    "hour = 15\n",
    "day = 264\n",
    "lighting.run(energy=energy, hour=hour, day=day)"
   ]
  },
  {
   "cell_type": "markdown",
   "id": "0d638836",
   "metadata": {},
   "source": [
    "You can also use the soilmesh option and get the lighting hitting the soil. The method `soilenergy` get you access to its result."
   ]
  },
  {
   "cell_type": "code",
   "execution_count": 12,
   "id": "bf20d164",
   "metadata": {},
   "outputs": [
    {
     "name": "stdout",
     "output_type": "stream",
     "text": [
      "{'Qi': 0.6750540873627096, 'Einc': 0.6750540873627096}\n"
     ]
    }
   ],
   "source": [
    "caribu_args = { \"soil mesh\" : True }\n",
    "\n",
    "lighting = LightVegeManager(lightmodel=\"caribu\", lightmodel_parameters=caribu_args)\n",
    "lighting.build(geometry=[(0., 0., 0.), (1., 0., 0.), (1., 1., 1.)])\n",
    "\n",
    "energy = 500.\n",
    "hour = 15\n",
    "day = 264\n",
    "lighting.run(energy=energy, hour=hour, day=day)\n",
    "\n",
    "print(lighting.soilenergy)"
   ]
  },
  {
   "cell_type": "markdown",
   "id": "a08a758b",
   "metadata": {},
   "source": [
    "## RATP\n",
    "\n",
    "This is the complete parameters you can provide with CARIBU: \n",
    "\n",
    "\n",
    "```python\n",
    "ratp_args = {\n",
    "                # Grid specifications\n",
    "                \"voxel size\" : [dx, dy, dz],\n",
    "                \"voxel size\" : \"dynamic\",\n",
    "                \n",
    "                \"full grid\" : bool,\n",
    "\n",
    "                \"origin\" : [xorigin, yorigin, zorigin],\n",
    "                \"origin\" : [xorigin, yorigin],\n",
    "\n",
    "                \"number voxels\" : [nx, ny, nz],\n",
    "                \"grid slicing\" : \"ground = 0.\"\n",
    "                \"tesselation level\" : int\n",
    "\n",
    "                # Leaf angle distribution\n",
    "                \"angle distrib algo\" : \"compute global\",\n",
    "                \"angle distrib algo\" : \"compute voxel\",\n",
    "                \"angle distrib algo\" : \"file\",\n",
    "\n",
    "                \"nb angle classes\" : int,\n",
    "                \"angle distrib file\" : filepath,\n",
    "\n",
    "                # Vegetation type\n",
    "                \"soil reflectance\" : [reflectance_band0, reflectance_band1, ...],\n",
    "                \"reflectance coefficients\" : [reflectance_band0, reflectance_band1, ...],\n",
    "                \"mu\" : [mu_scene0, mu_scene1, ...]\n",
    "            }\n",
    "```"
   ]
  },
  {
   "cell_type": "markdown",
   "id": "063c07d8",
   "metadata": {},
   "source": [
    "### Leaf angle distribution\n",
    "\n",
    "Leaf angle distribution can be generated in 3 ways:\n",
    "- from a file, one distribution per specy\n",
    "- global and dynamically, it generates a distribution from a triangles mesh for each specy\n",
    "- per voxel and dynamically, it generates a distribution from the triangles located in each voxel"
   ]
  },
  {
   "cell_type": "code",
   "execution_count": 2,
   "id": "17d41b51",
   "metadata": {},
   "outputs": [],
   "source": [
    "# random triangles\n",
    "nb_triangles = 50\n",
    "spheresize = (1., 0.3) # vertices of triangles are the sphere surface\n",
    "worldsize = (0., 5.)\n",
    "triangles = [random_triangle_generator(worldsize=worldsize, spheresize=spheresize) for i in range(nb_triangles)]"
   ]
  },
  {
   "cell_type": "markdown",
   "id": "d6755645",
   "metadata": {},
   "source": [
    "#### File\n",
    "\n",
    "You need the flag `\"file\"` and to specify the file path."
   ]
  },
  {
   "cell_type": "code",
   "execution_count": 15,
   "id": "13097ed4",
   "metadata": {},
   "outputs": [
    {
     "name": "stdout",
     "output_type": "stream",
     "text": [
      "{'global': [[0.1382, 0.1664, 0.1972, 0.1925, 0.1507, 0.0903, 0.0425, 0.0172, 0.005]]}\n"
     ]
    }
   ],
   "source": [
    "filepath = os.path.join(os.path.dirname(os.path.abspath(\"\")), \"data\", \"luzerne_angle_distrib.data\")\n",
    "ratp_parameters = { \"angle distrib algo\" : \"file\", \"angle distrib file\" : filepath }\n",
    "\n",
    "# initialize the instance\n",
    "lighting = LightVegeManager(lightmodel=\"ratp\", lightmodel_parameters=ratp_parameters)\n",
    "\n",
    "# build the scene\n",
    "lighting.build(geometry=triangles)\n",
    "\n",
    "print(lighting.leafangledistribution)"
   ]
  },
  {
   "cell_type": "markdown",
   "id": "85daaa61",
   "metadata": {},
   "source": [
    "#### Global distribution\n",
    "\n",
    "You need the flag `\"compute global\"` and to specify the number of angle classes you need."
   ]
  },
  {
   "cell_type": "code",
   "execution_count": 3,
   "id": "7c882e53",
   "metadata": {},
   "outputs": [
    {
     "name": "stdout",
     "output_type": "stream",
     "text": [
      "{'global': [[0.0, 0.01403472520994376, 0.14553389876181141, 0.13870880399511626, 0.17786938035077418, 0.06842434118299212, 0.09608726894836216, 0.20983153542452182, 0.14951004612647875]]}\n"
     ]
    }
   ],
   "source": [
    "ratp_parameters = { \"angle distrib algo\" : \"compute global\", \"nb angle classes\" : 9 }\n",
    "\n",
    "# initialize the instance\n",
    "lighting = LightVegeManager(lightmodel=\"ratp\", lightmodel_parameters=ratp_parameters)\n",
    "\n",
    "# build the scene\n",
    "lighting.build(geometry=triangles)\n",
    "\n",
    "print(lighting.leafangledistribution)"
   ]
  },
  {
   "cell_type": "markdown",
   "id": "8a0ea69d",
   "metadata": {},
   "source": [
    "#### Local distribution\n",
    "\n",
    "You need the flag `\"compute voxel\"` and to specify the number of angle classes you need. You will get one distribution for each voxel of your grid and each specy."
   ]
  },
  {
   "cell_type": "code",
   "execution_count": 6,
   "id": "397e12a3",
   "metadata": {},
   "outputs": [
    {
     "name": "stdout",
     "output_type": "stream",
     "text": [
      "Global\n",
      "[[0.009674637223767685, 0.06468549489243054, 0.10705660994810652, 0.10196105003699654, 0.07575759861707439, 0.3044721953841436, 0.06446975879644407, 0.14828246866341796, 0.12364018643761852]]\n",
      "\n",
      "\n",
      " Local\n",
      "[0. 0. 0. 0. 0. 0. 0. 1. 0.]\n",
      "[0. 0. 0. 0. 0. 0. 0. 0. 1.]\n",
      "[0. 0. 1. 0. 0. 0. 0. 0. 0.]\n",
      "[0.         0.         0.55805526 0.44194474 0.         0.\n",
      " 0.         0.         0.        ]\n",
      "[0. 0. 0. 0. 0. 0. 1. 0. 0.]\n",
      "[0. 0. 0. 0. 1. 0. 0. 0. 0.]\n",
      "[0. 0. 0. 0. 0. 1. 0. 0. 0.]\n",
      "[0. 0. 0. 0. 0. 0. 0. 1. 0.]\n",
      "[0. 0. 0. 0. 0. 0. 0. 0. 1.]\n",
      "[0. 0. 0. 0. 1. 0. 0. 0. 0.]\n",
      "[0. 1. 0. 0. 0. 0. 0. 0. 0.]\n",
      "[0. 1. 0. 0. 0. 0. 0. 0. 0.]\n",
      "[0. 1. 0. 0. 0. 0. 0. 0. 0.]\n",
      "[0. 0. 0. 1. 0. 0. 0. 0. 0.]\n",
      "[0. 1. 0. 0. 0. 0. 0. 0. 0.]\n",
      "[0. 0. 0. 0. 1. 0. 0. 0. 0.]\n",
      "[0.         0.         0.41000514 0.58999486 0.         0.\n",
      " 0.         0.         0.        ]\n",
      "[0. 0. 0. 0. 0. 1. 0. 0. 0.]\n",
      "[0. 0. 0. 0. 0. 0. 0. 0. 1.]\n",
      "[0. 0. 1. 0. 0. 0. 0. 0. 0.]\n",
      "[0. 0. 0. 0. 1. 0. 0. 0. 0.]\n",
      "[0. 0. 0. 0. 0. 0. 0. 1. 0.]\n",
      "[1. 0. 0. 0. 0. 0. 0. 0. 0.]\n",
      "[0. 0. 0. 0. 1. 0. 0. 0. 0.]\n",
      "[0. 0. 0. 0. 1. 0. 0. 0. 0.]\n",
      "[0. 0. 0. 0. 0. 1. 0. 0. 0.]\n",
      "[0.         0.         0.58893012 0.41106988 0.         0.\n",
      " 0.         0.         0.        ]\n",
      "[0. 0. 0. 0. 1. 0. 0. 0. 0.]\n",
      "[0. 0. 0. 0. 0. 1. 0. 0. 0.]\n",
      "[0.         0.30170822 0.         0.         0.         0.\n",
      " 0.         0.         0.69829178]\n",
      "[0.         0.         0.         0.17828753 0.         0.\n",
      " 0.         0.         0.82171247]\n",
      "[0. 0. 0. 1. 0. 0. 0. 0. 0.]\n",
      "[0. 0. 0. 0. 0. 1. 0. 0. 0.]\n",
      "[0. 0. 0. 0. 0. 0. 0. 0. 1.]\n",
      "[0. 0. 0. 1. 0. 0. 0. 0. 0.]\n",
      "[0. 1. 0. 0. 0. 0. 0. 0. 0.]\n",
      "[1. 0. 0. 0. 0. 0. 0. 0. 0.]\n",
      "[0. 0. 0. 0. 0. 0. 0. 1. 0.]\n",
      "[0. 0. 0. 1. 0. 0. 0. 0. 0.]\n",
      "[0. 0. 0. 0. 0. 1. 0. 0. 0.]\n",
      "[0. 0. 0. 0. 0. 0. 0. 0. 1.]\n",
      "[0. 0. 1. 0. 0. 0. 0. 0. 0.]\n",
      "[0. 0. 0. 0. 0. 0. 0. 1. 0.]\n",
      "[0. 0. 0. 0. 0. 0. 1. 0. 0.]\n"
     ]
    }
   ],
   "source": [
    "ratp_parameters = { \n",
    "                    \"voxel size\" : [1., 1., 1.],\n",
    "                    \"angle distrib algo\" : \"compute voxel\", \n",
    "                    \"nb angle classes\" : 9\n",
    "                    }\n",
    "\n",
    "# initialize the instance\n",
    "lighting = LightVegeManager(lightmodel=\"ratp\", lightmodel_parameters=ratp_parameters)\n",
    "\n",
    "# build the scene\n",
    "lighting.build(geometry=triangles)\n",
    "\n",
    "print(\"Global\")\n",
    "print(lighting.leafangledistribution[\"global\"])\n",
    "print(\"\\n\\n Local\")\n",
    "for a in lighting.leafangledistribution[\"voxel\"]:\n",
    "    print(a[0])"
   ]
  },
  {
   "cell_type": "markdown",
   "id": "00f716c8",
   "metadata": {},
   "source": [
    "For visualization of the situation"
   ]
  },
  {
   "cell_type": "code",
   "execution_count": 7,
   "id": "9f6ae1ef",
   "metadata": {},
   "outputs": [
    {
     "data": {
      "application/vnd.jupyter.widget-view+json": {
       "model_id": "7632d86906e349c3ab0757bebb81acb5",
       "version_major": 2,
       "version_minor": 0
      },
      "text/plain": [
       "SceneWidget(axes_helper=True, scenes=[{'id': 'Rp6rgkWOhuO88XZzffdSscV0V', 'data': b'x\\xda\\x8d\\x9b{\\x9c\\x8d\\xd5…"
      ]
     },
     "execution_count": 7,
     "metadata": {},
     "output_type": "execute_result"
    }
   ],
   "source": [
    "SceneWidget(lighting.plantGL_nolight(printtriangles=True, printvoxels=True), \n",
    "            position=(-2.5, -2.5, 0.0), \n",
    "            size_display=(600, 400), \n",
    "            plane=True, \n",
    "            size_world = 10, \n",
    "            axes_helper=True)"
   ]
  },
  {
   "attachments": {},
   "cell_type": "markdown",
   "id": "5434504e",
   "metadata": {},
   "source": [
    "### Triangles tesselation in a grid\n",
    "\n",
    "You can reduce the error while transferring a triangle mesh to a voxel mesh by subdividing triangles across multiple voxels.\n",
    "\n",
    "<div>\n",
    "<img src=\"../doc/_img/tesselation_voxels.png\" width=\"500\"/>\n",
    "</div>\n",
    "\n",
    "You only need to precise how many times you want to subdivide the triangles."
   ]
  },
  {
   "cell_type": "code",
   "execution_count": 21,
   "id": "b110d224",
   "metadata": {},
   "outputs": [
    {
     "data": {
      "application/vnd.jupyter.widget-view+json": {
       "model_id": "06b27e827cfe46f784e8d39259bacc84",
       "version_major": 2,
       "version_minor": 0
      },
      "text/plain": [
       "SceneWidget(axes_helper=True, scenes=[{'id': 'w9mu1jQPBqZrSzDk4B45B9Wav', 'data': b'x\\xda\\x94}\\x07\\x9c^E\\xd5~\\…"
      ]
     },
     "execution_count": 21,
     "metadata": {},
     "output_type": "execute_result"
    }
   ],
   "source": [
    "ratp_parameters = { \"voxel size\" : [1., 1., 1.], \"tesselation level\" : 7 }\n",
    "\n",
    "# initialize the instance\n",
    "lighting = LightVegeManager(lightmodel=\"ratp\", lightmodel_parameters=ratp_parameters)\n",
    "\n",
    "# build the scene\n",
    "lighting.build(geometry=triangles)\n",
    "\n",
    "SceneWidget(lighting.plantGL_nolight(printtriangles=True, printvoxels=True), \n",
    "            position=(-2.5, -2.5, 0.0), \n",
    "            size_display=(600, 400), \n",
    "            plane=True, \n",
    "            size_world = 10, \n",
    "            axes_helper=True)"
   ]
  },
  {
   "cell_type": "markdown",
   "id": "f6c2c03b",
   "metadata": {},
   "source": [
    "### Other parameters\n",
    "\n",
    "By default, the number of voxels is dynamically computed following the voxel size and mesh limits, but you can force its number. \n",
    "\n",
    "Voxel size can also be dynamically computed and is based on 3 times the longest triangle."
   ]
  }
 ],
 "metadata": {
  "kernelspec": {
   "display_name": "Python 3 (ipykernel)",
   "language": "python",
   "name": "python3"
  },
  "language_info": {
   "codemirror_mode": {
    "name": "ipython",
    "version": 3
   },
   "file_extension": ".py",
   "mimetype": "text/x-python",
   "name": "python",
   "nbconvert_exporter": "python",
   "pygments_lexer": "ipython3",
   "version": "3.8.17"
  }
 },
 "nbformat": 4,
 "nbformat_minor": 5
}
