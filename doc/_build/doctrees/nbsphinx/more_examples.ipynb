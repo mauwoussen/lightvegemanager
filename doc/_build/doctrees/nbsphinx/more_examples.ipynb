{
 "cells": [
  {
   "cell_type": "markdown",
   "id": "8eff3d94",
   "metadata": {},
   "source": [
    "# More examples"
   ]
  },
  {
   "cell_type": "code",
   "execution_count": 1,
   "id": "ca1a7570",
   "metadata": {},
   "outputs": [],
   "source": [
    "import openalea.plantgl.all as pgl_all\n",
    "from lightvegemanager.LVM import LightVegeManager\n",
    "from pgljupyter import SceneWidget"
   ]
  },
  {
   "cell_type": "markdown",
   "id": "d406b608",
   "metadata": {},
   "source": [
    "## Sun positions\n",
    "\n",
    "The `print_sun` function allows you to compare the sun position differences between RATP and CARIBU internal computation."
   ]
  },
  {
   "cell_type": "code",
   "execution_count": 38,
   "id": "593a0c1a",
   "metadata": {},
   "outputs": [
    {
     "name": "stdout",
     "output_type": "stream",
     "text": [
      "Prints sun position ouputs from RATP and CARIBU algorithm with the same inputs\n",
      "\n",
      "    :param day: input day\n",
      "    :type day: int\n",
      "    :param hour: input hour\n",
      "    :type hour: int\n",
      "    :param coordinates: [latitude, longitude, timezone]\n",
      "    :type coordinates: list\n",
      "    :param truesolartime: activates true solar time or local time to compute sun position\n",
      "    :type truesolartime: bool\n",
      "    \n"
     ]
    }
   ],
   "source": [
    "from lightvegemanager.sun import print_sun\n",
    "\n",
    "print(print_sun.__doc__)"
   ]
  },
  {
   "cell_type": "code",
   "execution_count": 11,
   "id": "43265f15",
   "metadata": {},
   "outputs": [
    {
     "name": "stdout",
     "output_type": "stream",
     "text": [
      "---\t SUN COORDONATES\t ---\n",
      "--- Convention x+ = North, vector from sky to floor\n",
      "--- azimut: south clockwise E = -90° W = 90°\t zenith:                                 zenith = 0° horizon = 90°\n",
      "--- day: 201 \t hour: 12 \t latitude: 0.00 °\n",
      "--- true solar time\n",
      "--- RATP ---\n",
      "\t azimut: 180.000 \t zenith: 69.227\n",
      "\t x: -0.354671 \t y: -0.000000 \t z: -0.934991\n",
      "--- CARIBU ---\n",
      "\t azimut: 180.000 \t zenith: 68.944\n",
      "\t x: -0.359285 \t y: -0.000000 \t z: -0.933228\n",
      "\n",
      "\n",
      "---\t SUN COORDONATES\t ---\n",
      "--- Convention x+ = North, vector from sky to floor\n",
      "--- azimut: south clockwise E = -90° W = 90°\t zenith:                                 zenith = 0° horizon = 90°\n",
      "--- day: 201 \t hour: 12 \t latitude: 40.00 °\n",
      "--- true solar time\n",
      "--- RATP ---\n",
      "\t azimut: 0.000 \t zenith: 70.773\n",
      "\t x: 0.329307 \t y: -0.000000 \t z: -0.944223\n",
      "--- CARIBU ---\n",
      "\t azimut: 0.000 \t zenith: 71.148\n",
      "\t x: 0.323132 \t y: -0.000000 \t z: -0.946354\n",
      "\n",
      "\n",
      "---\t SUN COORDONATES\t ---\n",
      "--- Convention x+ = North, vector from sky to floor\n",
      "--- azimut: south clockwise E = -90° W = 90°\t zenith:                                 zenith = 0° horizon = 90°\n",
      "--- day: 201 \t hour: 16 \t latitude: 40.00 °\n",
      "--- true solar time\n",
      "--- RATP ---\n",
      "\t azimut: 87.963 \t zenith: 35.881\n",
      "\t x: 0.028807 \t y: -0.809726 \t z: -0.586100\n",
      "--- CARIBU ---\n",
      "\t azimut: 88.295 \t zenith: 36.115\n",
      "\t x: 0.024030 \t y: -0.807482 \t z: -0.589402\n",
      "\n",
      "\n",
      "---\t SUN COORDONATES\t ---\n",
      "--- Convention x+ = North, vector from sky to floor\n",
      "--- azimut: south clockwise E = -90° W = 90°\t zenith:                                 zenith = 0° horizon = 90°\n",
      "--- day: 201 \t hour: 16 \t latitude: 40.00 °\n",
      "--- local time, true solar time is 18.70\n",
      "--- RATP ---\n",
      "\t azimut: 112.480 \t zenith: 5.641\n",
      "\t x: -0.380514 \t y: -0.919537 \t z: -0.098291\n",
      "--- CARIBU ---\n",
      "\t azimut: 112.736 \t zenith: 5.895\n",
      "\t x: -0.384436 \t y: -0.917420 \t z: -0.102706\n",
      "\n",
      "\n",
      "---\t SUN COORDONATES\t ---\n",
      "--- Convention x+ = North, vector from sky to floor\n",
      "--- azimut: south clockwise E = -90° W = 90°\t zenith:                                 zenith = 0° horizon = 90°\n",
      "--- day: 347 \t hour: 16 \t latitude: 46.00 °\n",
      "--- true solar time\n",
      "--- RATP ---\n",
      "\t azimut: 52.853 \t zenith: 2.129\n",
      "\t x: 0.603439 \t y: -0.796543 \t z: -0.037150\n",
      "--- CARIBU ---\n",
      "\t azimut: 53.169 \t zenith: 2.592\n",
      "\t x: 0.598849 \t y: -0.799584 \t z: -0.045228\n",
      "\n",
      "\n"
     ]
    }
   ],
   "source": [
    "print_sun(201, 12, [0.0, 0.0, 0.0], True)\n",
    "print_sun(201, 12, [40.0, 0.0, 0.0], True)\n",
    "print_sun(201, 16, [40.0, 12.0, 2.0], True)\n",
    "print_sun(201, 16, [40.0, 12.0, 2.0], False)\n",
    "print_sun(347, 16, [46.0, 0.0, 0.0], True)"
   ]
  },
  {
   "cell_type": "markdown",
   "id": "03eb4111",
   "metadata": {},
   "source": [
    "## Two planes\n",
    "\n",
    "A small example with two horizontal planes, in order to check if the xy orientation according to North-East-South-West."
   ]
  },
  {
   "cell_type": "code",
   "execution_count": 2,
   "id": "bb3a36ce",
   "metadata": {},
   "outputs": [],
   "source": [
    "geom1 = pgl_all.FaceSet([(0,0,0),(2,0,0), (2,2,0),(0,2,0)],[range(4)]) # plaque dessous\n",
    "geom2 = pgl_all.FaceSet([(0,1,1),(2,1,1), (2,3,1),(0,3,1)],[range(4)]) # plaque dessus, décalée en y (axe est-ouest) vers l'ouest\n",
    "s = pgl_all.Scene([pgl_all.Shape(geom1, pgl_all.Material((250,0,0),1), 888),\n",
    "                    pgl_all.Shape(geom2, pgl_all.Material((0,250,0),1), 999)])"
   ]
  },
  {
   "cell_type": "code",
   "execution_count": 3,
   "id": "9d93b325",
   "metadata": {},
   "outputs": [],
   "source": [
    "# input dict\n",
    "geometry = {}\n",
    "environment = {}\n",
    "caribu_parameters = {}\n",
    "\n",
    "# Paramètres pré-simulation\n",
    "geometry[\"scenes\"] = [s]\n",
    "\n",
    "environment[\"coordinates\"] = [0. ,0. ,0.] # latitude, longitude, timezone\n",
    "environment[\"direct\"] = True\n",
    "environment[\"diffus\"] = False\n",
    "environment[\"reflected\"] = False\n",
    "environment[\"caribu opt\"] = {} \n",
    "environment[\"caribu opt\"][\"par\"] = (0.10, ) # plaques opaques\n",
    "environment[\"infinite\"] = False\n",
    "\n",
    "## Paramètres CARIBU ##\n",
    "caribu_parameters[\"sun algo\"] = \"caribu\"\n",
    "caribu_parameters[\"caribu opt\"] = {} \n",
    "caribu_parameters[\"caribu opt\"][\"par\"] = (0.10, ) # plaques opaques\n",
    "\n",
    "# Déclaration de l'objet\n",
    "lghtcaribu = LightVegeManager(environment=environment,\n",
    "                                lightmodel=\"caribu\",\n",
    "                                lightmodel_parameters=caribu_parameters)\n",
    "# création de la scène dans l'objet\n",
    "lghtcaribu.build(geometry, global_scene_tesselate_level=5)"
   ]
  },
  {
   "cell_type": "code",
   "execution_count": 39,
   "id": "7696f255",
   "metadata": {},
   "outputs": [
    {
     "name": "stdout",
     "output_type": "stream",
     "text": [
      "--- day 264, hour 16\n"
     ]
    }
   ],
   "source": [
    "# forçage arbitraire en µmol.m-2.s-1\n",
    "PARi = 500 \n",
    "# jour arbitraire (21 septembre)\n",
    "day = 264 \n",
    "\n",
    "# heure matin, soleil arrive de l'est, les 2 plaques reçoivent tout le rayonnement\n",
    "hour = 16\n",
    "print(\"--- day %i, hour %i\"%(day, hour))\n",
    "\n",
    "# Calcul du rayonnement\n",
    "lghtcaribu.run(energy=PARi, day=day, hour=hour, parunit=\"micromol.m-2.s-1\", truesolartime=True)"
   ]
  },
  {
   "cell_type": "code",
   "execution_count": 10,
   "id": "56cb06d3",
   "metadata": {},
   "outputs": [
    {
     "data": {
      "application/vnd.jupyter.widget-view+json": {
       "model_id": "20d3e789dcf940518db632fee1e6c0ab",
       "version_major": 2,
       "version_minor": 0
      },
      "text/plain": [
       "SceneWidget(axes_helper=True, plane=False, scenes=[{'id': 'PidZp3tokVAgJYlbO4DHRXebB', 'data': b'x\\xda\\x9c\\xbd…"
      ]
     },
     "execution_count": 10,
     "metadata": {},
     "output_type": "execute_result"
    }
   ],
   "source": [
    "# visualisation\n",
    "SceneWidget(lghtcaribu.plantGL_light(), \n",
    "            position=(0.0, 0.0, 0.0), \n",
    "            size_display=(600, 400), \n",
    "            plane=False, \n",
    "            size_world = 10, \n",
    "            axes_helper=True)"
   ]
  },
  {
   "cell_type": "markdown",
   "id": "35b2a3dd",
   "metadata": {},
   "source": [
    "## Examples with RATP and stem elements\n",
    "\n",
    "```\n",
    "    Stems processing checking\n",
    "    -------------------------\n",
    "\n",
    "    Scene for verification is a set of horizontal planes in one voxel as so:\n",
    "\n",
    "    -------------\n",
    "    |   ----    |\n",
    "    |     ____  |\n",
    "    | ----      |\n",
    "    -------------\n",
    "\n",
    "    We compare the PAR mean on all the planes between CARIBU and RATP\n",
    "    \n",
    "    Stems processing\n",
    "        * CARIBU\n",
    "            Computing of incident PAR is done with no transmittance, triangles are opaques\n",
    "\n",
    "        * RATP\n",
    "            triangles area are divided by 2\n",
    "```"
   ]
  },
  {
   "cell_type": "code",
   "execution_count": 34,
   "id": "6078abb1",
   "metadata": {},
   "outputs": [],
   "source": [
    "geom1 = pgl_all.FaceSet([(0.1,0.1,0.96),(0.1,0.6,0.96), (0.6,0.6,0.96),(0.6,0.1,0.96)],[range(4)])\n",
    "geom2 = pgl_all.FaceSet([(0.1,0.5,0.806),(0.1,0.9,0.806), (0.6,0.9,0.806),(0.6,0.5,0.806)],[range(4)])\n",
    "geom3 = pgl_all.FaceSet([(0.5,0.1,0.646),(0.5,0.7,0.646), (0.9,0.7,0.646),(0.9,0.1,0.646)],[range(4)])\n",
    "geom4 = pgl_all.FaceSet([(0.3,0.5,0.486),(0.3,0.9,0.486), (0.8,0.9,0.486),(0.8,0.5,0.486)],[range(4)])\n",
    "geom5 = pgl_all.FaceSet([(0.3,0.1,0.32),(0.3,0.5,0.32), (0.8,0.5,0.32),(0.8,0.1,0.32)],[range(4)])\n",
    "geom6 = pgl_all.FaceSet([(0.2,0.4,0.16),(0.2,0.9,0.16), (0.6,0.9,0.16),(0.6,0.4,0.16)],[range(4)])\n",
    "s = pgl_all.Scene([pgl_all.Shape(geom1, pgl_all.Material((250,0,0),1), 888),\n",
    "                    pgl_all.Shape(geom2, pgl_all.Material((250,0,0),1), 888),\n",
    "                    pgl_all.Shape(geom3, pgl_all.Material((250,0,0),1), 888),\n",
    "                    pgl_all.Shape(geom4, pgl_all.Material((250,0,0),1), 888),\n",
    "                    pgl_all.Shape(geom5, pgl_all.Material((250,0,0),1), 888),\n",
    "                    pgl_all.Shape(geom6, pgl_all.Material((250,0,0),1), 888)])"
   ]
  },
  {
   "cell_type": "code",
   "execution_count": 35,
   "id": "ba348cbd",
   "metadata": {},
   "outputs": [],
   "source": [
    "geometry = {}\n",
    "environment = {}\n",
    "ratp_parameters = {}\n",
    "caribu_parameters = {}\n",
    "\n",
    "# Paramètres pré-simulation\n",
    "geometry[\"scenes\"] = [s]\n",
    "geometry[\"stems id\"] = [(888, 0)]\n",
    "\n",
    "environment[\"coordinates\"] = [0., 0., 0.] # latitude, longitude, timezone\n",
    "environment[\"sky\"] = \"turtle46\" # turtle à 46 directions par défaut\n",
    "environment[\"diffus\"] = False\n",
    "environment[\"direct\"] = True\n",
    "environment[\"reflected\"] = False\n",
    "environment[\"infinite\"] = False\n",
    "\n",
    "## Paramètres CARIBU ##\n",
    "caribu_parameters[\"sun algo\"] = \"caribu\"\n",
    "caribu_parameters[\"caribu opt\"] = {}\n",
    "caribu_parameters[\"caribu opt\"][\"par\"] = (0.10, 0.05)\n",
    "lghtcaribu = LightVegeManager(environment=environment,\n",
    "                                lightmodel=\"caribu\",\n",
    "                                lightmodel_parameters=caribu_parameters)\n",
    "lghtcaribu.build(geometry)"
   ]
  },
  {
   "cell_type": "code",
   "execution_count": 36,
   "id": "aa96064b",
   "metadata": {},
   "outputs": [],
   "source": [
    "## Paramètres RATP ##\n",
    "dv = 1. # m\n",
    "dx, dy, dz = dv, dv, dv # m\n",
    "ratp_parameters[\"voxel size\"] = [dx, dy, dz]\n",
    "ratp_parameters[\"soil reflectance\"] = [0., 0.]\n",
    "ratp_parameters[\"mu\"] = [1.]\n",
    "ratp_parameters[\"tesselation level\"] = 0\n",
    "ratp_parameters[\"angle distrib algo\"] = \"compute global\"\n",
    "ratp_parameters[\"nb angle classes\"] = 30\n",
    "ratp_parameters[\"reflectance coefficients\"] = [[0.1, 0.05]]\n",
    "lghtratp = LightVegeManager(environment=environment,\n",
    "                            lightmodel=\"ratp\",\n",
    "                            lightmodel_parameters=ratp_parameters)\n",
    "lghtratp.build(geometry)"
   ]
  },
  {
   "cell_type": "code",
   "execution_count": 28,
   "id": "e1fcaee5",
   "metadata": {},
   "outputs": [
    {
     "data": {
      "application/vnd.jupyter.widget-view+json": {
       "model_id": "9cde2a83ac604bef871b420b04b34902",
       "version_major": 2,
       "version_minor": 0
      },
      "text/plain": [
       "SceneWidget(axes_helper=True, plane=False, scenes=[{'id': '31qAWA8Lxo9AjwlYbU2IJwjFk', 'data': b'x\\xda\\x85\\x95…"
      ]
     },
     "execution_count": 28,
     "metadata": {},
     "output_type": "execute_result"
    }
   ],
   "source": [
    "# visualisation\n",
    "SceneWidget(lghtratp.plantGL_nolight(printvoxels=True), \n",
    "            position=(0.0, 0.0, 0.0), \n",
    "            size_display=(600, 400), \n",
    "            plane=False, \n",
    "            size_world = 2, \n",
    "            axes_helper=True)"
   ]
  },
  {
   "cell_type": "code",
   "execution_count": 29,
   "id": "b049ca00",
   "metadata": {},
   "outputs": [],
   "source": [
    "PARi=500\n",
    "day=100.\n",
    "hour=12"
   ]
  },
  {
   "cell_type": "code",
   "execution_count": null,
   "id": "1f3a61e7",
   "metadata": {},
   "outputs": [],
   "source": [
    "PARi=500\n",
    "day=100.\n",
    "hour=17.5"
   ]
  },
  {
   "cell_type": "code",
   "execution_count": 31,
   "id": "c586e833",
   "metadata": {},
   "outputs": [
    {
     "name": "stdout",
     "output_type": "stream",
     "text": [
      "=== CARIBU ===\n",
      "     Day  Hour  Organ  VegetationType  Area    par Eabs      par Ei\n",
      "0  100.0    12    888               0  1.29  226.615845  251.795383\n"
     ]
    },
    {
     "data": {
      "application/vnd.jupyter.widget-view+json": {
       "model_id": "d17905268cfe4bc4abc52bd944350cb4",
       "version_major": 2,
       "version_minor": 0
      },
      "text/plain": [
       "SceneWidget(axes_helper=True, plane=False, scenes=[{'id': 'euPE10Vd7GkTxzNRtZPTE36Dx', 'data': b'x\\xda\\x85\\xd5…"
      ]
     },
     "execution_count": 31,
     "metadata": {},
     "output_type": "execute_result"
    }
   ],
   "source": [
    "lghtcaribu.run(energy=PARi, day=day, hour=hour, parunit=\"micromol.m-2.s-1\", truesolartime=True)\n",
    "print(\"=== CARIBU ===\")\n",
    "print(lghtcaribu.elements_outputs)\n",
    "# visualisation\n",
    "SceneWidget(lghtcaribu.plantGL_light(), \n",
    "            position=(0.0, 0.0, 0.0), \n",
    "            size_display=(600, 400), \n",
    "            plane=False, \n",
    "            size_world = 2, \n",
    "            axes_helper=True)"
   ]
  },
  {
   "cell_type": "code",
   "execution_count": 33,
   "id": "6082ded3",
   "metadata": {},
   "outputs": [
    {
     "name": "stdout",
     "output_type": "stream",
     "text": [
      "=== RATP ===\n",
      "     Day  Hour  Organ  VegetationType  Area        PARa  Intercepted  \\\n",
      "0  100.0  12.0    888               2  1.29  377.546967     0.487036   \n",
      "\n",
      "   Transmitted   SunlitPAR  SunlitArea  ShadedPAR  ShadedArea  \n",
      "0     0.487036  499.828644    0.487203        0.0    0.157797  \n"
     ]
    },
    {
     "data": {
      "application/vnd.jupyter.widget-view+json": {
       "model_id": "347a43daf7b444228a995879c9e486bd",
       "version_major": 2,
       "version_minor": 0
      },
      "text/plain": [
       "SceneWidget(axes_helper=True, plane=False, scenes=[{'id': 'GNw9osvivwBapMiJRL2W1wlXa', 'data': b'x\\xda\\x85\\xd6…"
      ]
     },
     "execution_count": 33,
     "metadata": {},
     "output_type": "execute_result"
    }
   ],
   "source": [
    "lghtratp.run(energy=PARi, day=day, hour=hour, parunit=\"micromol.m-2.s-1\", truesolartime=True)\n",
    "print(\"=== RATP ===\")\n",
    "print(lghtratp.elements_outputs)\n",
    "# visualisation\n",
    "SceneWidget(lghtratp.plantGL_light(printvoxels=True), \n",
    "            position=(0.0, 0.0, 0.0), \n",
    "            size_display=(600, 400), \n",
    "            plane=False, \n",
    "            size_world = 2, \n",
    "            axes_helper=True)"
   ]
  }
 ],
 "metadata": {
  "kernelspec": {
   "display_name": "Python 3 (ipykernel)",
   "language": "python",
   "name": "python3"
  },
  "language_info": {
   "codemirror_mode": {
    "name": "ipython",
    "version": 3
   },
   "file_extension": ".py",
   "mimetype": "text/x-python",
   "name": "python",
   "nbconvert_exporter": "python",
   "pygments_lexer": "ipython3",
   "version": "3.8.17"
  }
 },
 "nbformat": 4,
 "nbformat_minor": 5
}
