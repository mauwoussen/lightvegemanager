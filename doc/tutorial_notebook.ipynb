{
 "cells": [
  {
   "cell_type": "markdown",
   "metadata": {},
   "source": [
    "# How to use LightVegeManager\n",
    "\n",
    "- premiers tests rapides sur des polygones simples juste caribu, résultats tableaux\n",
    "- test sur plusieurs plantes, compare caribu/ratp + visu + tableaux\n",
    "- mix de formats d'entrée\n",
    "- gestion des stems\n",
    "- exemple avec sensors+soilmesh+caribu"
   ]
  },
  {
   "cell_type": "markdown",
   "metadata": {},
   "source": [
    "## "
   ]
  }
 ],
 "metadata": {
  "interpreter": {
   "hash": "4e283715ffe8b633a2ff840bddd263bb273430c01f8d6b5301affef85e4d0c2d"
  },
  "kernelspec": {
   "display_name": "couplage37",
   "language": "python",
   "name": "python3"
  },
  "language_info": {
   "codemirror_mode": {
    "name": "ipython",
    "version": 3
   },
   "file_extension": ".py",
   "mimetype": "text/x-python",
   "name": "python",
   "nbconvert_exporter": "python",
   "pygments_lexer": "ipython3",
   "version": "3.7.12"
  }
 },
 "nbformat": 4,
 "nbformat_minor": 2
}
