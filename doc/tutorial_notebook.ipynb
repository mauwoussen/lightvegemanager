{
 "cells": [
  {
   "cell_type": "markdown",
   "metadata": {},
   "source": [
    "# How to use LightVegeManager\n",
    "\n",
    "- premiers tests rapides sur des polygones simples juste caribu, résultats tableaux\n",
    "- test sur plusieurs plantes, compare caribu/ratp + visu + tableaux\n",
    "- mix de formats d'entrée\n",
    "- gestion des stems\n",
    "- exemple avec sensors+soilmesh+caribu"
   ]
  },
  {
   "cell_type": "markdown",
   "metadata": {},
   "source": [
    "## "
   ]
  }
 ],
 "metadata": {
  "kernelspec": {
   "display_name": "couplage37",
   "language": "python",
   "name": "couplage37"
  },
  "language_info": {
   "codemirror_mode": {
    "name": "ipython",
    "version": 3
   },
   "file_extension": ".py",
   "mimetype": "text/x-python",
   "name": "python",
   "nbconvert_exporter": "python",
   "pygments_lexer": "ipython3",
   "version": "3.7.12"
  }
 },
 "nbformat": 4,
 "nbformat_minor": 2
}
