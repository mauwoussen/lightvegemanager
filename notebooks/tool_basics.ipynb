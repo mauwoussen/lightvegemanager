{
 "cells": [
  {
   "cell_type": "markdown",
   "id": "ad713094",
   "metadata": {},
   "source": [
    "# LightVegeManager first steps\n",
    "\n",
    "\n",
    "## Content:\n",
    "- One triangle\n",
    "    - CARIBU\n",
    "    - RATP\n",
    "- Set of triangles\n",
    "    - CARIBU\n",
    "    - RATP \n",
    "\n",
    "## Introduction\n",
    "\n",
    "This notebook provides an introduction to the tool and its default parameters. Visualization is provided with PlantGL and and its adapation to jupyter notebook plantgl-jupyter.\n",
    "\n",
    "The main methods of a LightVegeManager instance are :\n",
    "- constructor `__init__`: returns an instance and initialize static parameters such as sky and default parameters\n",
    "- `build`: build and arrange the geometric scene following the chosen light model format\n",
    "- `run`: compute lighting\n",
    "- DataFrame outputs are stored in `triangles_ouputs`, `voxels_ouputs` and `elements_ouputs`"
   ]
  },
  {
   "cell_type": "code",
   "execution_count": 1,
   "id": "9a585293",
   "metadata": {},
   "outputs": [],
   "source": [
    "# imports the LightVegeManager object and SceneWidget for visual representation\n",
    "from lightvegemanager.LVM import LightVegeManager\n",
    "from pgljupyter import SceneWidget"
   ]
  },
  {
   "cell_type": "markdown",
   "id": "bab44821",
   "metadata": {},
   "source": [
    "## One triangle\n",
    "\n",
    "As a first example, we can compute lighting on a single 3D triangle. \n",
    "A triangle is reprented with a list of 3 cartesian points (x, y, z)"
   ]
  },
  {
   "cell_type": "code",
   "execution_count": 2,
   "id": "5ac06352",
   "metadata": {},
   "outputs": [],
   "source": [
    "t = [(0., 0., 0.), (1., 0., 0.), (1., 1., 1.)]"
   ]
  },
  {
   "cell_type": "markdown",
   "id": "7f6b20c9",
   "metadata": {},
   "source": [
    "### CARIBU (surfarcic modelling)"
   ]
  },
  {
   "cell_type": "markdown",
   "id": "40d0cd3c",
   "metadata": {},
   "source": [
    "1) Initialize the instance. The `lightmodel` must be entered, at the moment you can choose between `\"caribu\"`, `\"ratp\"` and `\"riri5\"`"
   ]
  },
  {
   "cell_type": "code",
   "execution_count": 3,
   "id": "87148b50",
   "metadata": {},
   "outputs": [],
   "source": [
    "# initialize the instance\n",
    "lighting = LightVegeManager(lightmodel=\"caribu\")"
   ]
  },
  {
   "cell_type": "markdown",
   "id": "10991ff2",
   "metadata": {},
   "source": [
    "2) Build the geometry. The triangle will be save inside the instance."
   ]
  },
  {
   "cell_type": "code",
   "execution_count": 4,
   "id": "2ebe3c2e",
   "metadata": {},
   "outputs": [],
   "source": [
    "# build the scene\n",
    "lighting.build(geometry=t)"
   ]
  },
  {
   "cell_type": "markdown",
   "id": "d96cab36",
   "metadata": {},
   "source": [
    "In order to visualize the scene in the instance, you can give a plantGL Scene in SceneWidget through two methods:\n",
    "- `plantGL_nolight`: plots only geometric elements\n",
    "- `plantGL_light`: plots geometric elements and colors the scene according to PAR values"
   ]
  },
  {
   "cell_type": "code",
   "execution_count": 5,
   "id": "28e80db8",
   "metadata": {},
   "outputs": [
    {
     "data": {
      "application/vnd.jupyter.widget-view+json": {
       "model_id": "eb1b9771732141b585cb6b5f72014bea",
       "version_major": 2,
       "version_minor": 0
      },
      "text/plain": [
       "SceneWidget(axes_helper=True, scenes=[{'id': 'F8IKbCRRTrC164vqQvjmte6n0', 'data': b'x\\xdaSLrw\\xf5\\xf7e`Pp\\xe0\\…"
      ]
     },
     "execution_count": 5,
     "metadata": {},
     "output_type": "execute_result"
    }
   ],
   "source": [
    "SceneWidget(lighting.plantGL_nolight(), size_display=(600, 400), plane=True, size_world = 4, axes_helper=True)"
   ]
  },
  {
   "cell_type": "markdown",
   "id": "cfdc7935",
   "metadata": {},
   "source": [
    "3) Compute the lighting. By default it will compute direct and diffuse lighting."
   ]
  },
  {
   "cell_type": "code",
   "execution_count": 6,
   "id": "2a1e7140",
   "metadata": {},
   "outputs": [],
   "source": [
    "energy = 500.\n",
    "hour = 15\n",
    "day = 264\n",
    "lighting.run(energy=energy, hour=hour, day=day)"
   ]
  },
  {
   "cell_type": "markdown",
   "id": "75936065",
   "metadata": {},
   "source": [
    "Then, you can print the Dataframe outputs"
   ]
  },
  {
   "cell_type": "code",
   "execution_count": 7,
   "id": "a3871c84",
   "metadata": {},
   "outputs": [
    {
     "name": "stdout",
     "output_type": "stream",
     "text": [
      "   Day  Hour  Triangle  Organ  VegetationType      Area    par Eabs  \\\n",
      "0  264    15         0      0               0  0.707107  397.268686   \n",
      "\n",
      "       par Ei  \n",
      "0  467.374925  \n"
     ]
    }
   ],
   "source": [
    "# print the outputs\n",
    "print(lighting.triangles_outputs)"
   ]
  },
  {
   "cell_type": "markdown",
   "id": "eab84abf",
   "metadata": {},
   "source": [
    "### RATP"
   ]
  },
  {
   "cell_type": "markdown",
   "id": "922d32de",
   "metadata": {},
   "source": [
    "To use RATP, you need to create a new instance. The others methods can be used in the same way as with CARIBU"
   ]
  },
  {
   "cell_type": "code",
   "execution_count": 9,
   "id": "2f0f6333",
   "metadata": {},
   "outputs": [],
   "source": [
    "# initialize the instance\n",
    "lighting = LightVegeManager(lightmodel=\"ratp\")\n",
    "\n",
    "# build the scene\n",
    "lighting.build(geometry=t)"
   ]
  },
  {
   "cell_type": "markdown",
   "id": "5d6a943e",
   "metadata": {},
   "source": [
    "With `plantGL_nolight` you can precise if you want to plot the voxels. By default, if not precised, a voxel side is set as 3 times the longest triangle side."
   ]
  },
  {
   "cell_type": "code",
   "execution_count": 11,
   "id": "234a2715",
   "metadata": {},
   "outputs": [
    {
     "data": {
      "application/vnd.jupyter.widget-view+json": {
       "model_id": "721619fcc0764904a80477c648a51dd0",
       "version_major": 2,
       "version_minor": 0
      },
      "text/plain": [
       "SceneWidget(axes_helper=True, scenes=[{'id': '7Btw3DEYYw3MHgwE6O2FD7CTm', 'data': b'x\\xdaSLrw\\xf5\\xf7e`Pp\\xe0\\…"
      ]
     },
     "execution_count": 11,
     "metadata": {},
     "output_type": "execute_result"
    }
   ],
   "source": [
    "# visualisation\n",
    "SceneWidget(lighting.plantGL_nolight(printvoxels=True), \n",
    "            size_display=(600, 400), \n",
    "            plane=True, \n",
    "            size_world = 4, \n",
    "            axes_helper=True)"
   ]
  },
  {
   "cell_type": "code",
   "execution_count": 12,
   "id": "068b4b80",
   "metadata": {},
   "outputs": [],
   "source": [
    "# compute the lighting\n",
    "energy = 500.\n",
    "hour = 15\n",
    "day = 264\n",
    "lighting.run(energy=energy, hour=hour, day=day)"
   ]
  },
  {
   "cell_type": "markdown",
   "id": "f905455f",
   "metadata": {},
   "source": [
    "You can get the outputs of the voxels or the triangles"
   ]
  },
  {
   "cell_type": "code",
   "execution_count": 13,
   "id": "59e6cfc2",
   "metadata": {},
   "outputs": [
    {
     "name": "stdout",
     "output_type": "stream",
     "text": [
      "   VegetationType    Day  Hour  Voxel  Nx  Ny  Nz   ShadedPAR   SunlitPAR  \\\n",
      "0             1.0  264.0  15.0    1.0   1   1   1  380.635895  473.640411   \n",
      "\n",
      "   ShadedArea  SunlitArea      Area        PARa  Intercepted  Transmitted  \n",
      "0    0.010761    0.696346  0.707107  472.225067     0.667827     8.742233  \n"
     ]
    }
   ],
   "source": [
    "# print the outputs\n",
    "print(lighting.voxels_outputs)"
   ]
  },
  {
   "cell_type": "code",
   "execution_count": 14,
   "id": "bffa7914",
   "metadata": {},
   "outputs": [
    {
     "name": "stdout",
     "output_type": "stream",
     "text": [
      "   Triangle  Organ  Voxel  VegetationType  primitive_area    Day  Hour  Nx  \\\n",
      "0         0      0    1.0               1        0.707107  264.0  15.0   1   \n",
      "\n",
      "   Ny  Nz   ShadedPAR   SunlitPAR  ShadedArea  SunlitArea      Area  \\\n",
      "0   1   1  380.635895  473.640411    0.010761    0.696346  0.707107   \n",
      "\n",
      "         PARa  Intercepted  Transmitted  \n",
      "0  472.225067     0.667827     8.742233  \n"
     ]
    }
   ],
   "source": [
    "# print the outputs\n",
    "print(lighting.triangles_outputs)"
   ]
  },
  {
   "cell_type": "markdown",
   "id": "838240ed",
   "metadata": {},
   "source": [
    "## Set of triangles"
   ]
  },
  {
   "cell_type": "markdown",
   "id": "9ee94e4e",
   "metadata": {},
   "source": [
    "For this second example, we will generate a set of random 3D triangles. A function is already implemented in the package."
   ]
  },
  {
   "cell_type": "code",
   "execution_count": 8,
   "id": "5fe1fa60",
   "metadata": {},
   "outputs": [],
   "source": [
    "from lightvegemanager.trianglesmesh import random_triangle_generator"
   ]
  },
  {
   "cell_type": "code",
   "execution_count": 9,
   "id": "ea867adf",
   "metadata": {},
   "outputs": [],
   "source": [
    "nb_triangles = 5000\n",
    "spheresize = (10., 2.) # vertices of the triangles are on the sphere surface\n",
    "triangles = []\n",
    "for i in range(nb_triangles):\n",
    "    triangles.append(random_triangle_generator(spheresize=spheresize))"
   ]
  },
  {
   "cell_type": "markdown",
   "id": "75e9f766",
   "metadata": {},
   "source": [
    "### CARIBU\n",
    "We repeat the same steps as with one triangle"
   ]
  },
  {
   "cell_type": "code",
   "execution_count": 10,
   "id": "a4987150",
   "metadata": {},
   "outputs": [
    {
     "data": {
      "application/vnd.jupyter.widget-view+json": {
       "model_id": "9566a9d0ad0845b285b43c1bb2e1c90d",
       "version_major": 2,
       "version_minor": 0
      },
      "text/plain": [
       "SceneWidget(axes_helper=True, scenes=[{'id': 'pDz6JofPFF1NBjazXszznt9TX', 'data': b'x\\xda\\x8c]\\x07|M\\xd9\\xf6\\x…"
      ]
     },
     "execution_count": 10,
     "metadata": {},
     "output_type": "execute_result"
    }
   ],
   "source": [
    "# initialize the instance\n",
    "lighting = LightVegeManager(lightmodel=\"caribu\")\n",
    "\n",
    "# build the scene\n",
    "lighting.build(geometry=triangles)\n",
    "\n",
    "# visualisation\n",
    "SceneWidget(lighting.plantGL_nolight(), \n",
    "            position=(-50.0, -50.0, 0.0), \n",
    "            size_display=(600, 400), \n",
    "            plane=True, \n",
    "            size_world = 100, \n",
    "            axes_helper=True)"
   ]
  },
  {
   "cell_type": "code",
   "execution_count": 14,
   "id": "1b8e873a",
   "metadata": {},
   "outputs": [
    {
     "name": "stdout",
     "output_type": "stream",
     "text": [
      "      Day  Hour  Triangle  Organ  VegetationType       Area    par Eabs  \\\n",
      "0     264    15         0      0               0  78.834450  139.160806   \n",
      "1     264    15         1      0               0  47.966120    0.886467   \n",
      "2     264    15         2      0               0  13.309912   27.693806   \n",
      "3     264    15         3      0               0  52.267733    2.489935   \n",
      "4     264    15         4      0               0  12.524847    0.198283   \n",
      "...   ...   ...       ...    ...             ...        ...         ...   \n",
      "4995  264    15      4995      0               0  71.155347   17.388605   \n",
      "4996  264    15      4996      0               0  15.119594   67.661091   \n",
      "4997  264    15      4997      0               0  12.947871   57.176758   \n",
      "4998  264    15      4998      0               0  27.825938   28.413648   \n",
      "4999  264    15      4999      0               0  25.764540    2.044766   \n",
      "\n",
      "          par Ei  \n",
      "0     163.718595  \n",
      "1       1.042902  \n",
      "2      32.580948  \n",
      "3       2.929335  \n",
      "4       0.233274  \n",
      "...          ...  \n",
      "4995   20.457182  \n",
      "4996   79.601283  \n",
      "4997   67.266774  \n",
      "4998   33.427821  \n",
      "4999    2.405607  \n",
      "\n",
      "[5000 rows x 8 columns]\n"
     ]
    }
   ],
   "source": [
    "# compute the lighting\n",
    "energy = 500.\n",
    "hour = 15\n",
    "day = 264\n",
    "lighting.run(energy=energy, hour=hour, day=day)\n",
    "\n",
    "# print the outputs\n",
    "print(lighting.triangles_outputs)"
   ]
  },
  {
   "cell_type": "code",
   "execution_count": 13,
   "id": "99b7e8e2",
   "metadata": {},
   "outputs": [
    {
     "data": {
      "application/vnd.jupyter.widget-view+json": {
       "model_id": "6c4060cbec6840688bd2f0efb340d2bf",
       "version_major": 2,
       "version_minor": 0
      },
      "text/plain": [
       "SceneWidget(axes_helper=True, scenes=[{'id': 'OGd2X5hD1gviccEoC1jTR7rLb', 'data': b'x\\xda\\x8c}\\x07X\\x15\\xd7\\xf…"
      ]
     },
     "execution_count": 13,
     "metadata": {},
     "output_type": "execute_result"
    }
   ],
   "source": [
    "SceneWidget(lighting.plantGL_light(), \n",
    "            position=(-50.0, -50.0, 0.0), \n",
    "            size_display=(600, 400), \n",
    "            plane=True, \n",
    "            size_world = 100, \n",
    "            axes_helper=True)"
   ]
  },
  {
   "cell_type": "markdown",
   "id": "4984e0e8",
   "metadata": {},
   "source": [
    "### RATP\n",
    "Now, we will set the voxels size. It needs to be specified in a dict which stores all RATP parameters. Here, you need to precise the length on each axis of one voxel. "
   ]
  },
  {
   "cell_type": "code",
   "execution_count": 9,
   "id": "e619909c",
   "metadata": {},
   "outputs": [],
   "source": [
    "ratp_parameters = { \"voxel size\": [20.] * 3 }"
   ]
  },
  {
   "cell_type": "markdown",
   "id": "33f72664",
   "metadata": {},
   "source": [
    "Then, the dict is an argument in the instance creation."
   ]
  },
  {
   "cell_type": "code",
   "execution_count": 10,
   "id": "0d97938f",
   "metadata": {},
   "outputs": [
    {
     "data": {
      "application/vnd.jupyter.widget-view+json": {
       "model_id": "ce83d9cc2b154bc885fac5df2d8f78c8",
       "version_major": 2,
       "version_minor": 0
      },
      "text/plain": [
       "SceneWidget(axes_helper=True, scenes=[{'id': 'llGiOBzghQcYBBjj3iUAJ4Iks', 'data': b'x\\xda\\x8c}\\x07|O\\xd9\\xd6v\\…"
      ]
     },
     "execution_count": 10,
     "metadata": {},
     "output_type": "execute_result"
    }
   ],
   "source": [
    "# initialize the instance\n",
    "lighting = LightVegeManager(lightmodel=\"ratp\", lightmodel_parameters=ratp_parameters)\n",
    "\n",
    "# build the scene\n",
    "lighting.build(geometry=triangles)\n",
    "\n",
    "# visualisation\n",
    "SceneWidget(lighting.plantGL_nolight(printtriangles=True, printvoxels=True), \n",
    "            position=(-50.0, -50.0, 0.0), \n",
    "            size_display=(600, 400), \n",
    "            plane=True, \n",
    "            size_world = 100, \n",
    "            axes_helper=True)"
   ]
  },
  {
   "cell_type": "code",
   "execution_count": 11,
   "id": "746a5fa0",
   "metadata": {},
   "outputs": [
    {
     "name": "stdout",
     "output_type": "stream",
     "text": [
      "     VegetationType    Day  Hour  Voxel  Nx  Ny  Nz   ShadedPAR   SunlitPAR  \\\n",
      "0               1.0  264.0  15.0    1.0   3   3   5   40.732689  136.623886   \n",
      "1               1.0  264.0  15.0    2.0   5   6   6   28.347637  124.238831   \n",
      "2               1.0  264.0  15.0    3.0   1   4   3  137.707138  233.598343   \n",
      "3               1.0  264.0  15.0    4.0   3   3   2  183.874008  279.765198   \n",
      "4               1.0  264.0  15.0    5.0   2   6   5   41.833862  137.725067   \n",
      "..              ...    ...   ...    ...  ..  ..  ..         ...         ...   \n",
      "213             1.0  264.0  15.0  214.0   4   2   4   63.669552  159.560745   \n",
      "214             1.0  264.0  15.0  215.0   1   7   6  146.115402  242.006592   \n",
      "215             1.0  264.0  15.0  216.0   6   3   7   82.600769  178.491959   \n",
      "216             1.0  264.0  15.0  217.0   1   7   2  339.311615  435.202850   \n",
      "217             1.0  264.0  15.0  218.0   4   5   1  375.165588  471.056763   \n",
      "\n",
      "      ShadedArea  SunlitArea         Area        PARa  Intercepted  \\\n",
      "0    1024.282715   10.943428  1035.226196   41.746357    86.433853   \n",
      "1    1377.175171  283.350006  1660.525146   44.710396   148.485474   \n",
      "2     172.634308  291.246674   463.880981  197.912231   183.615433   \n",
      "3     486.705994  360.075684   846.781677  224.649658   380.458435   \n",
      "4    1375.770874   41.413651  1417.184570   44.636040   126.515022   \n",
      "..           ...         ...          ...         ...          ...   \n",
      "213   626.312683  157.908005   784.220703   82.977875   130.145935   \n",
      "214    57.020470   86.957054   143.977524  204.030106    58.751499   \n",
      "215   197.366257  156.226395   353.592651  124.967972    88.375519   \n",
      "216     4.840422   17.089012    21.929434  414.037079    18.159195   \n",
      "217     0.815029   39.664459    40.479488  469.126038    37.979965   \n",
      "\n",
      "     Transmitted  \n",
      "0      31.874031  \n",
      "1      18.599306  \n",
      "2     119.887787  \n",
      "3     101.195755  \n",
      "4      33.631508  \n",
      "..           ...  \n",
      "213    52.329762  \n",
      "214   128.099014  \n",
      "215    82.136887  \n",
      "216   328.422760  \n",
      "217   385.791229  \n",
      "\n",
      "[218 rows x 15 columns]\n"
     ]
    }
   ],
   "source": [
    "# compute the lighting\n",
    "energy = 500.\n",
    "hour = 15\n",
    "day = 264\n",
    "lighting.run(energy=energy, hour=hour, day=day)\n",
    "\n",
    "# print the outputs\n",
    "print(lighting.voxels_outputs)"
   ]
  },
  {
   "cell_type": "code",
   "execution_count": 23,
   "id": "838bbb57",
   "metadata": {},
   "outputs": [
    {
     "name": "stdout",
     "output_type": "stream",
     "text": [
      "      Triangle  Organ  Voxel  VegetationType  primitive_area    Day  Hour  Nx  \\\n",
      "0            0      0    1.0               1        6.008933  264.0  15.0   5   \n",
      "49           1      0    2.0               1       64.911050  264.0  15.0   4   \n",
      "77           2      0    3.0               1       48.494517  264.0  15.0   3   \n",
      "84           3      0    4.0               1        5.762879  264.0  15.0   1   \n",
      "91           4      0    5.0               1       21.321846  264.0  15.0   3   \n",
      "...        ...    ...    ...             ...             ...    ...   ...  ..   \n",
      "586       4995      0   21.0               1       21.090689  264.0  15.0   5   \n",
      "3641      4996      0  136.0               1       32.577000  264.0  15.0   4   \n",
      "1051      4997      0   37.0               1       76.699258  264.0  15.0   6   \n",
      "1822      4998      0   63.0               1        1.464895  264.0  15.0   2   \n",
      "3443      4999      0  129.0               1       51.065793  264.0  15.0   5   \n",
      "\n",
      "      Ny  Nz   ShadedPAR   SunlitPAR   ShadedArea  SunlitArea         Area  \\\n",
      "0      6   3   48.783260  144.457764  1669.359253  307.066376  1976.425659   \n",
      "49     2   6   50.222652  145.897171   639.340942  467.153961  1106.494873   \n",
      "77     7   7   76.529640  172.204147   131.880585   49.266487   181.147064   \n",
      "84     7   4  162.029709  257.704224   114.480240  108.982895   223.463135   \n",
      "91     5   5   36.165016  131.839523  1061.264648    3.100358  1064.364990   \n",
      "...   ..  ..         ...         ...          ...         ...          ...   \n",
      "586    4   6   28.958939  124.633453   982.723572  278.425110  1261.148682   \n",
      "3641   4   4   20.419191  116.093712  1379.531006   34.760368  1414.291382   \n",
      "1051   6   5   68.352638  164.027176  1125.141846    1.110655  1126.252441   \n",
      "1822   5   5   39.313770  134.988281  1225.665894   14.276536  1239.942383   \n",
      "3443   2   6   60.735207  156.409714   431.796021  383.754333   815.550354   \n",
      "\n",
      "            PARa  Intercepted  Transmitted  \n",
      "0      63.647678   251.589828    31.452011  \n",
      "49     90.615723   200.531677    35.146641  \n",
      "77    102.550201    37.153339    72.656891  \n",
      "84    208.690125    93.269104   155.314255  \n",
      "91     36.443703    77.578804    28.307266  \n",
      "...          ...          ...          ...  \n",
      "586    50.081097   126.319427    21.615057  \n",
      "3641   22.770676    64.408737    13.644242  \n",
      "1051   68.446991   154.177170    60.248528  \n",
      "1822   40.415356   100.225418    28.215555  \n",
      "3443  105.754509   172.496262    47.396954  \n",
      "\n",
      "[5000 rows x 18 columns]\n"
     ]
    }
   ],
   "source": [
    "# print the outputs\n",
    "print(lighting.triangles_outputs)"
   ]
  },
  {
   "cell_type": "code",
   "execution_count": 13,
   "id": "a6786993",
   "metadata": {},
   "outputs": [
    {
     "data": {
      "application/vnd.jupyter.widget-view+json": {
       "model_id": "601c0f191bf24346a535bc902e7f21dd",
       "version_major": 2,
       "version_minor": 0
      },
      "text/plain": [
       "SceneWidget(axes_helper=True, scenes=[{'id': 'OaYtClMfKTsXFShXk1ESHgnYz', 'data': b'x\\xda\\x84]\\x07xMY\\xd7\\x8e\\…"
      ]
     },
     "execution_count": 13,
     "metadata": {},
     "output_type": "execute_result"
    }
   ],
   "source": [
    "# visualisation\n",
    "SceneWidget(lighting.plantGL_light(printtriangles=True, printvoxels=False), \n",
    "            position=(-50.0, -50.0, 0.0), \n",
    "            size_display=(600, 400), \n",
    "            plane=True, \n",
    "            size_world = 100, \n",
    "            axes_helper=True)"
   ]
  },
  {
   "cell_type": "code",
   "execution_count": 14,
   "id": "e4c43fad",
   "metadata": {},
   "outputs": [
    {
     "data": {
      "application/vnd.jupyter.widget-view+json": {
       "model_id": "19aaa3db6a1c4886a1aca18428e9dadb",
       "version_major": 2,
       "version_minor": 0
      },
      "text/plain": [
       "SceneWidget(axes_helper=True, scenes=[{'id': 'jWP5jHrIFv0YocDTC7u66AES2', 'data': b'x\\xda\\x95]K\\x8f\\xa6\\xc7U\\x…"
      ]
     },
     "execution_count": 14,
     "metadata": {},
     "output_type": "execute_result"
    }
   ],
   "source": [
    "# visualisation\n",
    "SceneWidget(lighting.plantGL_light(printtriangles=False, printvoxels=True), \n",
    "            position=(-50.0, -50.0, 0.0), \n",
    "            size_display=(600, 400), \n",
    "            plane=True, \n",
    "            size_world = 100, \n",
    "            axes_helper=True)"
   ]
  }
 ],
 "metadata": {
  "kernelspec": {
   "display_name": "Python 3 (ipykernel)",
   "language": "python",
   "name": "python3"
  },
  "language_info": {
   "codemirror_mode": {
    "name": "ipython",
    "version": 3
   },
   "file_extension": ".py",
   "mimetype": "text/x-python",
   "name": "python",
   "nbconvert_exporter": "python",
   "pygments_lexer": "ipython3",
   "version": "3.8.17"
  }
 },
 "nbformat": 4,
 "nbformat_minor": 5
}
