{
 "cells": [
  {
   "cell_type": "markdown",
   "id": "ad713094",
   "metadata": {},
   "source": [
    "# LightVegeManager first steps\n",
    "\n",
    "\n",
    "## Content:\n",
    "- One triangle\n",
    "    - CARIBU\n",
    "    - RATP\n",
    "- Set of triangles\n",
    "    - CARIBU\n",
    "    - RATP \n",
    "- The environment variable\n",
    "\n",
    "## Introduction\n",
    "\n",
    "This notebook provides an introduction to the tool and its default parameters. Visualization is provided with PlantGL and and its adapation to jupyter notebook plantgl-jupyter.\n",
    "\n",
    "The main methods of a LightVegeManager instance are :\n",
    "- constructor `__init__`: returns an instance and initialize static parameters such as sky and default parameters\n",
    "- `build`: build and arrange the geometric scene following the chosen light model format\n",
    "- `run`: compute lighting\n",
    "- DataFrame outputs are stored in `triangles_ouputs`, `voxels_ouputs` and `elements_ouputs`"
   ]
  },
  {
   "cell_type": "code",
   "execution_count": 6,
   "id": "9a585293",
   "metadata": {},
   "outputs": [],
   "source": [
    "# imports the LightVegeManager object and SceneWidget for visual representation\n",
    "from lightvegemanager.tool import LightVegeManager\n",
    "from pgljupyter import SceneWidget"
   ]
  },
  {
   "cell_type": "markdown",
   "id": "bab44821",
   "metadata": {},
   "source": [
    "## One triangle\n",
    "\n",
    "As a first example, we can compute lighting on a single 3D triangle. \n",
    "A triangle is reprented with a list of 3 cartesian points (x, y, z)"
   ]
  },
  {
   "cell_type": "code",
   "execution_count": 7,
   "id": "5ac06352",
   "metadata": {},
   "outputs": [],
   "source": [
    "t = [(0., 0., 0.), (1., 0., 0.), (1., 1., 1.)]"
   ]
  },
  {
   "cell_type": "markdown",
   "id": "7f6b20c9",
   "metadata": {},
   "source": [
    "### CARIBU (surfarcic modelling)"
   ]
  },
  {
   "cell_type": "markdown",
   "id": "40d0cd3c",
   "metadata": {},
   "source": [
    "1) Initialize the instance. The `lightmodel` must be entered, at the moment you can choose between `\"caribu\"`, `\"ratp\"` and `\"riri5\"`"
   ]
  },
  {
   "cell_type": "code",
   "execution_count": 8,
   "id": "87148b50",
   "metadata": {},
   "outputs": [],
   "source": [
    "# initialize the instance\n",
    "lighting = LightVegeManager(lightmodel=\"caribu\")"
   ]
  },
  {
   "cell_type": "markdown",
   "id": "10991ff2",
   "metadata": {},
   "source": [
    "2) Build the geometry. The triangle will be save inside the instance."
   ]
  },
  {
   "cell_type": "code",
   "execution_count": 9,
   "id": "2ebe3c2e",
   "metadata": {},
   "outputs": [],
   "source": [
    "# build the scene\n",
    "lighting.build(geometry=t)"
   ]
  },
  {
   "cell_type": "markdown",
   "id": "d96cab36",
   "metadata": {},
   "source": [
    "In order to visualize the scene in the instance, you can give a plantGL Scene in SceneWidget through two methods:\n",
    "- `plantGL_nolight`: plots only geometric elements\n",
    "- `plantGL_light`: plots geometric elements and colors the scene according to PAR values"
   ]
  },
  {
   "cell_type": "code",
   "execution_count": 10,
   "id": "28e80db8",
   "metadata": {},
   "outputs": [
    {
     "data": {
      "application/vnd.jupyter.widget-view+json": {
       "model_id": "120f766cdfe1445abf514c99eafecb73",
       "version_major": 2,
       "version_minor": 0
      },
      "text/plain": [
       "SceneWidget(axes_helper=True, scenes=[{'id': 'vc3yVFvaf9yoybmXm2X7TP8BQ', 'data': b'x\\xdaSLrw\\xf5\\xf7e`Pp\\xe0\\…"
      ]
     },
     "execution_count": 10,
     "metadata": {},
     "output_type": "execute_result"
    }
   ],
   "source": [
    "SceneWidget(lighting.plantGL_nolight(), size_display=(600, 400), plane=True, size_world = 4, axes_helper=True)"
   ]
  },
  {
   "cell_type": "markdown",
   "id": "cfdc7935",
   "metadata": {},
   "source": [
    "3) Compute the lighting. By default it will compute direct and diffuse lighting."
   ]
  },
  {
   "cell_type": "code",
   "execution_count": 11,
   "id": "2a1e7140",
   "metadata": {},
   "outputs": [],
   "source": [
    "energy = 500.\n",
    "hour = 15\n",
    "day = 264\n",
    "lighting.run(energy=energy, hour=hour, day=day)"
   ]
  },
  {
   "cell_type": "markdown",
   "id": "75936065",
   "metadata": {},
   "source": [
    "Then, you can print the Dataframe outputs"
   ]
  },
  {
   "cell_type": "code",
   "execution_count": 12,
   "id": "a3871c84",
   "metadata": {},
   "outputs": [
    {
     "name": "stdout",
     "output_type": "stream",
     "text": [
      "   Day  Hour  Triangle  Organ  VegetationType      Area    par Eabs  \\\n",
      "0  264    15         0      0               0  0.707107  397.268686   \n",
      "\n",
      "       par Ei  \n",
      "0  467.374925  \n"
     ]
    }
   ],
   "source": [
    "# print the outputs\n",
    "print(lighting.triangles_outputs)"
   ]
  },
  {
   "cell_type": "markdown",
   "id": "eab84abf",
   "metadata": {},
   "source": [
    "### RATP"
   ]
  },
  {
   "cell_type": "markdown",
   "id": "922d32de",
   "metadata": {},
   "source": [
    "To use RATP, you need to create a new instance. The others methods can be used in the same way as with CARIBU"
   ]
  },
  {
   "cell_type": "code",
   "execution_count": 13,
   "id": "2f0f6333",
   "metadata": {},
   "outputs": [],
   "source": [
    "# initialize the instance\n",
    "lighting = LightVegeManager(lightmodel=\"ratp\")\n",
    "\n",
    "# build the scene\n",
    "lighting.build(geometry=t)"
   ]
  },
  {
   "cell_type": "markdown",
   "id": "5d6a943e",
   "metadata": {},
   "source": [
    "With `plantGL_nolight` you can precise if you want to plot the voxels. By default, if not precised, a voxel side is set as 3 times the longest triangle side."
   ]
  },
  {
   "cell_type": "code",
   "execution_count": 14,
   "id": "234a2715",
   "metadata": {},
   "outputs": [
    {
     "data": {
      "application/vnd.jupyter.widget-view+json": {
       "model_id": "72ea5881f13b4c6a85b9beaf89c72eae",
       "version_major": 2,
       "version_minor": 0
      },
      "text/plain": [
       "SceneWidget(axes_helper=True, scenes=[{'id': 'uajlbqVBofOIFhDuXTLF9qFhF', 'data': b'x\\xdaSLrw\\xf5\\xf7e`Pp\\xe0\\…"
      ]
     },
     "execution_count": 14,
     "metadata": {},
     "output_type": "execute_result"
    }
   ],
   "source": [
    "# visualisation\n",
    "SceneWidget(lighting.plantGL_nolight(printvoxels=True), \n",
    "            size_display=(600, 400), \n",
    "            plane=True, \n",
    "            size_world = 4, \n",
    "            axes_helper=True)"
   ]
  },
  {
   "cell_type": "code",
   "execution_count": 15,
   "id": "068b4b80",
   "metadata": {},
   "outputs": [],
   "source": [
    "# compute the lighting\n",
    "energy = 500.\n",
    "hour = 15\n",
    "day = 264\n",
    "lighting.run(energy=energy, hour=hour, day=day)"
   ]
  },
  {
   "cell_type": "markdown",
   "id": "f905455f",
   "metadata": {},
   "source": [
    "You can get the outputs of the voxels or the triangles"
   ]
  },
  {
   "cell_type": "code",
   "execution_count": 16,
   "id": "59e6cfc2",
   "metadata": {},
   "outputs": [
    {
     "name": "stdout",
     "output_type": "stream",
     "text": [
      "   VegetationType    Day  Hour  Voxel  Nx  Ny  Nz   ShadedPAR   SunlitPAR  \\\n",
      "0             1.0  264.0  15.0    1.0   1   1   1  380.635895  473.640411   \n",
      "\n",
      "   ShadedArea  SunlitArea      Area        PARa  Intercepted  Transmitted  \n",
      "0    0.010761    0.696346  0.707107  472.225067     0.667827     8.742233  \n"
     ]
    }
   ],
   "source": [
    "# print the outputs\n",
    "print(lighting.voxels_outputs)"
   ]
  },
  {
   "cell_type": "code",
   "execution_count": 18,
   "id": "bffa7914",
   "metadata": {},
   "outputs": [
    {
     "name": "stdout",
     "output_type": "stream",
     "text": [
      "   Triangle  Organ  Voxel  VegetationType  primitive_area    Day  Hour  Nx  \\\n",
      "0         0      0    1.0               1        0.707107  264.0  15.0   1   \n",
      "\n",
      "   Ny  Nz   ShadedPAR   SunlitPAR  ShadedArea  SunlitArea      Area  \\\n",
      "0   1   1  380.635895  473.640411    0.010761    0.696346  0.707107   \n",
      "\n",
      "         PARa  Intercepted  Transmitted  \n",
      "0  472.225067     0.667827     8.742233  \n"
     ]
    }
   ],
   "source": [
    "# print the outputs\n",
    "print(lighting.triangles_outputs)"
   ]
  },
  {
   "cell_type": "markdown",
   "id": "838240ed",
   "metadata": {},
   "source": [
    "## Set of triangles"
   ]
  },
  {
   "cell_type": "markdown",
   "id": "9ee94e4e",
   "metadata": {},
   "source": [
    "For this second example, we will generate a set of random 3D triangles. A function is already implemented in the package."
   ]
  },
  {
   "cell_type": "code",
   "execution_count": 17,
   "id": "5fe1fa60",
   "metadata": {},
   "outputs": [],
   "source": [
    "from lightvegemanager.trianglesmesh import random_triangle_generator"
   ]
  },
  {
   "cell_type": "code",
   "execution_count": 18,
   "id": "ea867adf",
   "metadata": {},
   "outputs": [],
   "source": [
    "nb_triangles = 5000\n",
    "spheresize = (10., 2.) # vertices of the triangles are on the sphere surface\n",
    "triangles = []\n",
    "for i in range(nb_triangles):\n",
    "    triangles.append(random_triangle_generator(spheresize=spheresize))"
   ]
  },
  {
   "cell_type": "markdown",
   "id": "75e9f766",
   "metadata": {},
   "source": [
    "### CARIBU\n",
    "We repeat the same steps as with one triangle"
   ]
  },
  {
   "cell_type": "code",
   "execution_count": 19,
   "id": "a4987150",
   "metadata": {},
   "outputs": [
    {
     "data": {
      "application/vnd.jupyter.widget-view+json": {
       "model_id": "3a2f6d31e46149c8ba6fd65ad34057f4",
       "version_major": 2,
       "version_minor": 0
      },
      "text/plain": [
       "SceneWidget(axes_helper=True, scenes=[{'id': 'Sym0YTEGdGGm7GpHUu3Cubc3i', 'data': b'x\\xda\\x8c]\\x07XUG\\xd3&v\\x8…"
      ]
     },
     "execution_count": 19,
     "metadata": {},
     "output_type": "execute_result"
    }
   ],
   "source": [
    "# initialize the instance\n",
    "lighting = LightVegeManager(lightmodel=\"caribu\")\n",
    "\n",
    "# build the scene\n",
    "lighting.build(geometry=triangles)\n",
    "\n",
    "# visualisation\n",
    "SceneWidget(lighting.plantGL_nolight(), \n",
    "            position=(-50.0, -50.0, 0.0), \n",
    "            size_display=(600, 400), \n",
    "            plane=True, \n",
    "            size_world = 100, \n",
    "            axes_helper=True)"
   ]
  },
  {
   "cell_type": "code",
   "execution_count": 20,
   "id": "1b8e873a",
   "metadata": {},
   "outputs": [
    {
     "name": "stdout",
     "output_type": "stream",
     "text": [
      "      Day  Hour  Triangle  Organ  VegetationType        Area    par Eabs  \\\n",
      "0     264    15         0      0               0   49.393789   47.050303   \n",
      "1     264    15         1      0               0   49.078681   23.093771   \n",
      "2     264    15         2      0               0  102.945704    9.974392   \n",
      "3     264    15         3      0               0   24.126015  338.869465   \n",
      "4     264    15         4      0               0   52.326033  203.833217   \n",
      "...   ...   ...       ...    ...             ...         ...         ...   \n",
      "4995  264    15      4995      0               0   72.344270  150.857122   \n",
      "4996  264    15      4996      0               0   15.049568    4.357494   \n",
      "4997  264    15      4997      0               0   28.560917  262.137311   \n",
      "4998  264    15      4998      0               0   28.145749   45.033456   \n",
      "4999  264    15      4999      0               0   60.040012  115.592509   \n",
      "\n",
      "          par Ei  \n",
      "0      55.353298  \n",
      "1      27.169143  \n",
      "2      11.734579  \n",
      "3     398.669959  \n",
      "4     239.803784  \n",
      "...          ...  \n",
      "4995  177.478967  \n",
      "4996    5.126463  \n",
      "4997  308.396836  \n",
      "4998   52.980537  \n",
      "4999  135.991187  \n",
      "\n",
      "[5000 rows x 8 columns]\n"
     ]
    }
   ],
   "source": [
    "# compute the lighting\n",
    "energy = 500.\n",
    "hour = 15\n",
    "day = 264\n",
    "lighting.run(energy=energy, hour=hour, day=day)\n",
    "\n",
    "# print the outputs\n",
    "print(lighting.triangles_outputs)"
   ]
  },
  {
   "cell_type": "code",
   "execution_count": 21,
   "id": "99b7e8e2",
   "metadata": {},
   "outputs": [
    {
     "data": {
      "application/vnd.jupyter.widget-view+json": {
       "model_id": "7fe06f7b118e472688db4e996f2d7bb6",
       "version_major": 2,
       "version_minor": 0
      },
      "text/plain": [
       "SceneWidget(axes_helper=True, scenes=[{'id': '1MLbncOivVoacAyV4ClDvVOBd', 'data': b'x\\xda\\x8c]\\x05x\\x15W\\xd3N\\…"
      ]
     },
     "execution_count": 21,
     "metadata": {},
     "output_type": "execute_result"
    }
   ],
   "source": [
    "SceneWidget(lighting.plantGL_light(), \n",
    "            position=(-50.0, -50.0, 0.0), \n",
    "            size_display=(600, 400), \n",
    "            plane=True, \n",
    "            size_world = 100, \n",
    "            axes_helper=True)"
   ]
  },
  {
   "cell_type": "markdown",
   "id": "4984e0e8",
   "metadata": {},
   "source": [
    "### RATP\n",
    "Now, we will set the voxels size. It needs to be specified in a dict which stores all RATP parameters. Here, you need to precise the length on each axis of one voxel. "
   ]
  },
  {
   "cell_type": "code",
   "execution_count": 22,
   "id": "e619909c",
   "metadata": {},
   "outputs": [],
   "source": [
    "ratp_parameters = { \"voxel size\": [20.] * 3 }"
   ]
  },
  {
   "cell_type": "markdown",
   "id": "33f72664",
   "metadata": {},
   "source": [
    "Then, the dict is an argument in the instance creation."
   ]
  },
  {
   "cell_type": "code",
   "execution_count": 23,
   "id": "0d97938f",
   "metadata": {},
   "outputs": [
    {
     "data": {
      "application/vnd.jupyter.widget-view+json": {
       "model_id": "2da2490444464b6dbcc0326b7945ceea",
       "version_major": 2,
       "version_minor": 0
      },
      "text/plain": [
       "SceneWidget(axes_helper=True, scenes=[{'id': '2pJ1SCaVVmz6KABMEDZMVuBtf', 'data': b'x\\xda\\x8c}\\x05|\\x16\\xd7\\xf…"
      ]
     },
     "execution_count": 23,
     "metadata": {},
     "output_type": "execute_result"
    }
   ],
   "source": [
    "# initialize the instance\n",
    "lighting = LightVegeManager(lightmodel=\"ratp\", lightmodel_parameters=ratp_parameters)\n",
    "\n",
    "# build the scene\n",
    "lighting.build(geometry=triangles)\n",
    "\n",
    "# visualisation\n",
    "SceneWidget(lighting.plantGL_nolight(printtriangles=True, printvoxels=True), \n",
    "            position=(-50.0, -50.0, 0.0), \n",
    "            size_display=(600, 400), \n",
    "            plane=True, \n",
    "            size_world = 100, \n",
    "            axes_helper=True)"
   ]
  },
  {
   "cell_type": "code",
   "execution_count": 24,
   "id": "746a5fa0",
   "metadata": {},
   "outputs": [
    {
     "name": "stdout",
     "output_type": "stream",
     "text": [
      "     VegetationType    Day  Hour  Voxel  Nx  Ny  Nz   ShadedPAR   SunlitPAR  \\\n",
      "0               1.0  264.0  15.0    1.0   2   5   3   54.428970  150.400497   \n",
      "1               1.0  264.0  15.0    2.0   5   6   3   50.428650  146.400192   \n",
      "2               1.0  264.0  15.0    3.0   2   4   4   25.016081  120.987617   \n",
      "3               1.0  264.0  15.0    4.0   3   5   2  137.027084  232.998642   \n",
      "4               1.0  264.0  15.0    5.0   1   6   4   94.889290  190.860825   \n",
      "..              ...    ...   ...    ...  ..  ..  ..         ...         ...   \n",
      "210             1.0  264.0  15.0  211.0   4   2   7   81.486168  177.457718   \n",
      "211             1.0  264.0  15.0  212.0   1   7   4  171.829315  267.800842   \n",
      "212             1.0  264.0  15.0  213.0   1   5   7   66.265411  162.236938   \n",
      "213             1.0  264.0  15.0  214.0   6   4   7   81.604439  177.575974   \n",
      "214             1.0  264.0  15.0  215.0   3   4   1  377.730652  473.702209   \n",
      "\n",
      "      ShadedArea  SunlitArea         Area        PARa  Intercepted  \\\n",
      "0     940.238770  300.895721  1241.134521   77.695923   192.862198   \n",
      "1    1056.413818  256.752136  1313.166016   69.193146   181.724167   \n",
      "2    1486.096924   89.238495  1575.335449   30.452608    95.946152   \n",
      "3    1048.442871  282.894226  1331.337158  157.419952   419.158112   \n",
      "4     328.778809  248.748779   577.527588  136.225494   157.347977   \n",
      "..           ...         ...          ...         ...          ...   \n",
      "210    21.034737   22.331879    43.366615  130.907242    11.354008   \n",
      "211    30.276852   32.065239    62.342091  221.191635    27.579096   \n",
      "212   211.458740  224.413452   435.872192  115.677383   100.841103   \n",
      "213    69.074570   45.346554   114.421127  119.639183    27.378498   \n",
      "214     0.375681   27.028229    27.403910  472.386536    25.890474   \n",
      "\n",
      "     Transmitted  \n",
      "0      40.667442  \n",
      "1      40.337265  \n",
      "2      16.455536  \n",
      "3      53.644543  \n",
      "4      85.096527  \n",
      "..           ...  \n",
      "210    86.211784  \n",
      "211   176.470810  \n",
      "212    63.874039  \n",
      "213    80.683655  \n",
      "214   390.410797  \n",
      "\n",
      "[215 rows x 15 columns]\n"
     ]
    }
   ],
   "source": [
    "# compute the lighting\n",
    "energy = 500.\n",
    "hour = 15\n",
    "day = 264\n",
    "lighting.run(energy=energy, hour=hour, day=day)\n",
    "\n",
    "# print the outputs\n",
    "print(lighting.voxels_outputs)"
   ]
  },
  {
   "cell_type": "code",
   "execution_count": 25,
   "id": "838bbb57",
   "metadata": {},
   "outputs": [
    {
     "name": "stdout",
     "output_type": "stream",
     "text": [
      "      Triangle  Organ  Voxel  VegetationType  primitive_area    Day  Hour  Nx  \\\n",
      "0            0      0    1.0               1       49.393789  264.0  15.0   2   \n",
      "27           1      0    2.0               1       49.078681  264.0  15.0   5   \n",
      "69           2      0    3.0               1      102.945704  264.0  15.0   2   \n",
      "109          3      0    4.0               1       24.126015  264.0  15.0   3   \n",
      "146          4      0    5.0               1       52.326033  264.0  15.0   1   \n",
      "...        ...    ...    ...             ...             ...    ...   ...  ..   \n",
      "4924      4995      0  199.0               1       72.344270  264.0  15.0   1   \n",
      "336       4996      0   10.0               1       15.049568  264.0  15.0   4   \n",
      "4785      4997      0  187.0               1       28.560917  264.0  15.0   3   \n",
      "1290      4998      0   43.0               1       28.145749  264.0  15.0   5   \n",
      "1775      4999      0   59.0               1       60.040012  264.0  15.0   2   \n",
      "\n",
      "      Ny  Nz   ShadedPAR   SunlitPAR   ShadedArea  SunlitArea         Area  \\\n",
      "0      5   3   54.428970  150.400497   940.238770  300.895721  1241.134521   \n",
      "27     6   3   50.428650  146.400192  1056.413818  256.752136  1313.166016   \n",
      "69     4   4   25.016081  120.987617  1486.096924   89.238495  1575.335449   \n",
      "109    5   2  137.027084  232.998642  1048.442871  282.894226  1331.337158   \n",
      "146    6   4   94.889290  190.860825   328.778809  248.748779   577.527588   \n",
      "...   ..  ..         ...         ...          ...         ...          ...   \n",
      "4924   6   5   88.287605  184.259140   684.410645  155.426743   839.837402   \n",
      "336    6   3   36.994896  132.966446  1456.751465  284.425629  1741.177124   \n",
      "4785   3   2  182.791809  278.763367   473.721069  319.463074   793.184143   \n",
      "1290   4   2  159.442474  255.414017   770.785034  269.372406  1040.157471   \n",
      "1775   7   4   91.605270  187.576828   648.480042   74.454109   722.934143   \n",
      "\n",
      "            PARa  Intercepted  Transmitted  \n",
      "0      77.695923   192.862198    40.667442  \n",
      "27     69.193146   181.724167    40.337265  \n",
      "69     30.452608    95.946152    16.455536  \n",
      "109   157.419952   419.158112    53.644543  \n",
      "146   136.225494   157.347977    85.096527  \n",
      "...          ...          ...          ...  \n",
      "4924  106.048828   178.127563    80.731377  \n",
      "336    52.672089   183.422882    28.330009  \n",
      "4785  221.445343   351.293884   100.292107  \n",
      "1290  184.296478   383.394714    73.595093  \n",
      "1775  101.489265   146.740112    72.746109  \n",
      "\n",
      "[5000 rows x 18 columns]\n"
     ]
    }
   ],
   "source": [
    "# print the outputs\n",
    "print(lighting.triangles_outputs)"
   ]
  },
  {
   "cell_type": "code",
   "execution_count": 26,
   "id": "a6786993",
   "metadata": {},
   "outputs": [
    {
     "data": {
      "application/vnd.jupyter.widget-view+json": {
       "model_id": "df4284a48fd44e9d824298c1b13cb2fa",
       "version_major": 2,
       "version_minor": 0
      },
      "text/plain": [
       "SceneWidget(axes_helper=True, scenes=[{'id': 'gky0cmb03EMHc7bv5AesZLLo4', 'data': b'x\\xda\\x8c]\\x05xUG\\xd3N\\x91…"
      ]
     },
     "execution_count": 26,
     "metadata": {},
     "output_type": "execute_result"
    }
   ],
   "source": [
    "# visualisation\n",
    "SceneWidget(lighting.plantGL_light(printtriangles=True, printvoxels=True), \n",
    "            position=(-50.0, -50.0, 0.0), \n",
    "            size_display=(600, 400), \n",
    "            plane=True, \n",
    "            size_world = 100, \n",
    "            axes_helper=True)"
   ]
  },
  {
   "cell_type": "code",
   "execution_count": 27,
   "id": "e4c43fad",
   "metadata": {},
   "outputs": [
    {
     "data": {
      "application/vnd.jupyter.widget-view+json": {
       "model_id": "792d163989d14baa89de66f92cb827c7",
       "version_major": 2,
       "version_minor": 0
      },
      "text/plain": [
       "SceneWidget(axes_helper=True, scenes=[{'id': 'TXw7QyMuu2rKBBUoxc20FYmoS', 'data': b'x\\xda\\x95]\\xdboo\\xc7U\\xb6\\…"
      ]
     },
     "execution_count": 27,
     "metadata": {},
     "output_type": "execute_result"
    }
   ],
   "source": [
    "# visualisation\n",
    "SceneWidget(lighting.plantGL_light(printtriangles=False, printvoxels=True), \n",
    "            position=(-50.0, -50.0, 0.0), \n",
    "            size_display=(600, 400), \n",
    "            plane=True, \n",
    "            size_world = 100, \n",
    "            axes_helper=True)"
   ]
  }
 ],
 "metadata": {
  "kernelspec": {
   "display_name": "Python 3 (ipykernel)",
   "language": "python",
   "name": "python3"
  },
  "language_info": {
   "codemirror_mode": {
    "name": "ipython",
    "version": 3
   },
   "file_extension": ".py",
   "mimetype": "text/x-python",
   "name": "python",
   "nbconvert_exporter": "python",
   "pygments_lexer": "ipython3",
   "version": "3.8.17"
  }
 },
 "nbformat": 4,
 "nbformat_minor": 5
}
