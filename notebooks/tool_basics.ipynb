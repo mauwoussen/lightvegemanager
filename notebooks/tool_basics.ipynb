{
 "cells": [
  {
   "cell_type": "markdown",
   "id": "ad713094",
   "metadata": {},
   "source": [
    "# LightVegeManager first steps\n",
    "\n",
    "\n",
    "## Content:\n",
    "- One triangle\n",
    "    - CARIBU\n",
    "    - RATP\n",
    "- Set of triangles\n",
    "    - CARIBU\n",
    "    - RATP \n",
    "\n",
    "## Introduction\n",
    "\n",
    "This notebook provides an introduction to the tool and its default parameters. Visualization is provided with PlantGL and and its adapation to jupyter notebook plantgl-jupyter.\n",
    "\n",
    "The main methods of a LightVegeManager instance are :\n",
    "- constructor `__init__`: returns an instance and initialize static parameters such as sky and default parameters\n",
    "- `build`: build and arrange the geometric scene following the chosen light model format\n",
    "- `run`: compute lighting\n",
    "- DataFrame outputs are stored in `triangles_ouputs`, `voxels_ouputs` and `elements_ouputs`"
   ]
  },
  {
   "cell_type": "code",
   "execution_count": 1,
   "id": "9a585293",
   "metadata": {},
   "outputs": [],
   "source": [
    "# imports the LightVegeManager object and SceneWidget for visual representation\n",
    "from lightvegemanager.tool import LightVegeManager\n",
    "from pgljupyter import SceneWidget"
   ]
  },
  {
   "cell_type": "markdown",
   "id": "bab44821",
   "metadata": {},
   "source": [
    "## One triangle\n",
    "\n",
    "As a first example, we can compute lighting on a single 3D triangle. \n",
    "A triangle is reprented with a list of 3 cartesian points (x, y, z)"
   ]
  },
  {
   "cell_type": "code",
   "execution_count": 2,
   "id": "5ac06352",
   "metadata": {},
   "outputs": [],
   "source": [
    "t = [(0., 0., 0.), (1., 0., 0.), (1., 1., 1.)]"
   ]
  },
  {
   "cell_type": "markdown",
   "id": "7f6b20c9",
   "metadata": {},
   "source": [
    "### CARIBU (surfarcic modelling)"
   ]
  },
  {
   "cell_type": "markdown",
   "id": "40d0cd3c",
   "metadata": {},
   "source": [
    "1) Initialize the instance. The `lightmodel` must be entered, at the moment you can choose between `\"caribu\"`, `\"ratp\"` and `\"riri5\"`"
   ]
  },
  {
   "cell_type": "code",
   "execution_count": 3,
   "id": "87148b50",
   "metadata": {},
   "outputs": [],
   "source": [
    "# initialize the instance\n",
    "lighting = LightVegeManager(lightmodel=\"caribu\")"
   ]
  },
  {
   "cell_type": "markdown",
   "id": "10991ff2",
   "metadata": {},
   "source": [
    "2) Build the geometry. The triangle will be save inside the instance."
   ]
  },
  {
   "cell_type": "code",
   "execution_count": 4,
   "id": "2ebe3c2e",
   "metadata": {},
   "outputs": [],
   "source": [
    "# build the scene\n",
    "lighting.build(geometry=t)"
   ]
  },
  {
   "cell_type": "markdown",
   "id": "d96cab36",
   "metadata": {},
   "source": [
    "In order to visualize the scene in the instance, you can give a plantGL Scene in SceneWidget through two methods:\n",
    "- `plantGL_nolight`: plots only geometric elements\n",
    "- `plantGL_light`: plots geometric elements and colors the scene according to PAR values"
   ]
  },
  {
   "cell_type": "code",
   "execution_count": 6,
   "id": "28e80db8",
   "metadata": {},
   "outputs": [
    {
     "data": {
      "application/vnd.jupyter.widget-view+json": {
       "model_id": "3000fee899fa42829723b40785fa3eb8",
       "version_major": 2,
       "version_minor": 0
      },
      "text/plain": [
       "SceneWidget(axes_helper=True, scenes=[{'id': 'HSnruzcFcKZpWezUKJCRpYqrm', 'data': b'x\\xdaSLrw\\xf5\\xf7e`Pp\\xe0\\…"
      ]
     },
     "execution_count": 6,
     "metadata": {},
     "output_type": "execute_result"
    }
   ],
   "source": [
    "SceneWidget(lighting.plantGL_nolight(), size_display=(600, 400), plane=True, size_world = 4, axes_helper=True)"
   ]
  },
  {
   "cell_type": "markdown",
   "id": "cfdc7935",
   "metadata": {},
   "source": [
    "3) Compute the lighting. By default it will compute direct and diffuse lighting."
   ]
  },
  {
   "cell_type": "code",
   "execution_count": 7,
   "id": "2a1e7140",
   "metadata": {},
   "outputs": [],
   "source": [
    "energy = 500.\n",
    "hour = 15\n",
    "day = 264\n",
    "lighting.run(energy=energy, hour=hour, day=day)"
   ]
  },
  {
   "cell_type": "markdown",
   "id": "75936065",
   "metadata": {},
   "source": [
    "Then, you can print the Dataframe outputs"
   ]
  },
  {
   "cell_type": "code",
   "execution_count": 8,
   "id": "a3871c84",
   "metadata": {},
   "outputs": [
    {
     "name": "stdout",
     "output_type": "stream",
     "text": [
      "   Day  Hour  Triangle  Organ  VegetationType      Area    par Eabs  \\\n",
      "0  264    15         0      0               0  0.707107  397.268686   \n",
      "\n",
      "       par Ei  \n",
      "0  467.374925  \n"
     ]
    }
   ],
   "source": [
    "# print the outputs\n",
    "print(lighting.triangles_outputs)"
   ]
  },
  {
   "cell_type": "markdown",
   "id": "eab84abf",
   "metadata": {},
   "source": [
    "### RATP"
   ]
  },
  {
   "cell_type": "markdown",
   "id": "922d32de",
   "metadata": {},
   "source": [
    "To use RATP, you need to create a new instance. The others methods can be used in the same way as with CARIBU"
   ]
  },
  {
   "cell_type": "code",
   "execution_count": 9,
   "id": "2f0f6333",
   "metadata": {},
   "outputs": [],
   "source": [
    "# initialize the instance\n",
    "lighting = LightVegeManager(lightmodel=\"ratp\")\n",
    "\n",
    "# build the scene\n",
    "lighting.build(geometry=t)"
   ]
  },
  {
   "cell_type": "markdown",
   "id": "5d6a943e",
   "metadata": {},
   "source": [
    "With `plantGL_nolight` you can precise if you want to plot the voxels. By default, if not precised, a voxel side is set as 3 times the longest triangle side."
   ]
  },
  {
   "cell_type": "code",
   "execution_count": 11,
   "id": "234a2715",
   "metadata": {},
   "outputs": [
    {
     "data": {
      "application/vnd.jupyter.widget-view+json": {
       "model_id": "721619fcc0764904a80477c648a51dd0",
       "version_major": 2,
       "version_minor": 0
      },
      "text/plain": [
       "SceneWidget(axes_helper=True, scenes=[{'id': '7Btw3DEYYw3MHgwE6O2FD7CTm', 'data': b'x\\xdaSLrw\\xf5\\xf7e`Pp\\xe0\\…"
      ]
     },
     "execution_count": 11,
     "metadata": {},
     "output_type": "execute_result"
    }
   ],
   "source": [
    "# visualisation\n",
    "SceneWidget(lighting.plantGL_nolight(printvoxels=True), \n",
    "            size_display=(600, 400), \n",
    "            plane=True, \n",
    "            size_world = 4, \n",
    "            axes_helper=True)"
   ]
  },
  {
   "cell_type": "code",
   "execution_count": 12,
   "id": "068b4b80",
   "metadata": {},
   "outputs": [],
   "source": [
    "# compute the lighting\n",
    "energy = 500.\n",
    "hour = 15\n",
    "day = 264\n",
    "lighting.run(energy=energy, hour=hour, day=day)"
   ]
  },
  {
   "cell_type": "markdown",
   "id": "f905455f",
   "metadata": {},
   "source": [
    "You can get the outputs of the voxels or the triangles"
   ]
  },
  {
   "cell_type": "code",
   "execution_count": 13,
   "id": "59e6cfc2",
   "metadata": {},
   "outputs": [
    {
     "name": "stdout",
     "output_type": "stream",
     "text": [
      "   VegetationType    Day  Hour  Voxel  Nx  Ny  Nz   ShadedPAR   SunlitPAR  \\\n",
      "0             1.0  264.0  15.0    1.0   1   1   1  380.635895  473.640411   \n",
      "\n",
      "   ShadedArea  SunlitArea      Area        PARa  Intercepted  Transmitted  \n",
      "0    0.010761    0.696346  0.707107  472.225067     0.667827     8.742233  \n"
     ]
    }
   ],
   "source": [
    "# print the outputs\n",
    "print(lighting.voxels_outputs)"
   ]
  },
  {
   "cell_type": "code",
   "execution_count": 14,
   "id": "bffa7914",
   "metadata": {},
   "outputs": [
    {
     "name": "stdout",
     "output_type": "stream",
     "text": [
      "   Triangle  Organ  Voxel  VegetationType  primitive_area    Day  Hour  Nx  \\\n",
      "0         0      0    1.0               1        0.707107  264.0  15.0   1   \n",
      "\n",
      "   Ny  Nz   ShadedPAR   SunlitPAR  ShadedArea  SunlitArea      Area  \\\n",
      "0   1   1  380.635895  473.640411    0.010761    0.696346  0.707107   \n",
      "\n",
      "         PARa  Intercepted  Transmitted  \n",
      "0  472.225067     0.667827     8.742233  \n"
     ]
    }
   ],
   "source": [
    "# print the outputs\n",
    "print(lighting.triangles_outputs)"
   ]
  },
  {
   "cell_type": "markdown",
   "id": "838240ed",
   "metadata": {},
   "source": [
    "## Set of triangles"
   ]
  },
  {
   "cell_type": "markdown",
   "id": "9ee94e4e",
   "metadata": {},
   "source": [
    "For this second example, we will generate a set of random 3D triangles. A function is already implemented in the package."
   ]
  },
  {
   "cell_type": "code",
   "execution_count": 15,
   "id": "5fe1fa60",
   "metadata": {},
   "outputs": [],
   "source": [
    "from lightvegemanager.trianglesmesh import random_triangle_generator"
   ]
  },
  {
   "cell_type": "code",
   "execution_count": 16,
   "id": "ea867adf",
   "metadata": {},
   "outputs": [],
   "source": [
    "nb_triangles = 5000\n",
    "spheresize = (10., 2.) # vertices of the triangles are on the sphere surface\n",
    "triangles = []\n",
    "for i in range(nb_triangles):\n",
    "    triangles.append(random_triangle_generator(spheresize=spheresize))"
   ]
  },
  {
   "cell_type": "markdown",
   "id": "75e9f766",
   "metadata": {},
   "source": [
    "### CARIBU\n",
    "We repeat the same steps as with one triangle"
   ]
  },
  {
   "cell_type": "code",
   "execution_count": 17,
   "id": "a4987150",
   "metadata": {},
   "outputs": [
    {
     "data": {
      "application/vnd.jupyter.widget-view+json": {
       "model_id": "750b9ea7b1ce4117ab94a2497c9eed4c",
       "version_major": 2,
       "version_minor": 0
      },
      "text/plain": [
       "SceneWidget(axes_helper=True, scenes=[{'id': '7owUN0I9yItns8H9hYFZhlpvp', 'data': b'x\\xda\\x8c]\\x05x\\x15\\xc9\\xd…"
      ]
     },
     "execution_count": 17,
     "metadata": {},
     "output_type": "execute_result"
    }
   ],
   "source": [
    "# initialize the instance\n",
    "lighting = LightVegeManager(lightmodel=\"caribu\")\n",
    "\n",
    "# build the scene\n",
    "lighting.build(geometry=triangles)\n",
    "\n",
    "# visualisation\n",
    "SceneWidget(lighting.plantGL_nolight(), \n",
    "            position=(-50.0, -50.0, 0.0), \n",
    "            size_display=(600, 400), \n",
    "            plane=True, \n",
    "            size_world = 100, \n",
    "            axes_helper=True)"
   ]
  },
  {
   "cell_type": "code",
   "execution_count": 18,
   "id": "1b8e873a",
   "metadata": {},
   "outputs": [
    {
     "name": "stdout",
     "output_type": "stream",
     "text": [
      "      Day  Hour  Triangle  Organ  VegetationType       Area    par Eabs  \\\n",
      "0     264    15         0      0               0   6.008933   41.357676   \n",
      "1     264    15         1      0               0  64.911050   39.810024   \n",
      "2     264    15         2      0               0  48.494517   26.685420   \n",
      "3     264    15         3      0               0   5.762879  147.173173   \n",
      "4     264    15         4      0               0  21.321846    0.139357   \n",
      "...   ...   ...       ...    ...             ...        ...         ...   \n",
      "4995  264    15      4995      0               0  21.090689    5.585042   \n",
      "4996  264    15      4996      0               0  32.577000    0.766465   \n",
      "4997  264    15      4997      0               0  76.699258   12.026872   \n",
      "4998  264    15      4998      0               0   1.464895    1.865408   \n",
      "4999  264    15      4999      0               0  51.065793   56.294752   \n",
      "\n",
      "          par Ei  \n",
      "0      48.656089  \n",
      "1      46.835322  \n",
      "2      31.394612  \n",
      "3     173.144909  \n",
      "4       0.163950  \n",
      "...          ...  \n",
      "4995    6.570637  \n",
      "4996    0.901723  \n",
      "4997   14.149261  \n",
      "4998    2.194598  \n",
      "4999   66.229120  \n",
      "\n",
      "[5000 rows x 8 columns]\n"
     ]
    }
   ],
   "source": [
    "# compute the lighting\n",
    "energy = 500.\n",
    "hour = 15\n",
    "day = 264\n",
    "lighting.run(energy=energy, hour=hour, day=day)\n",
    "\n",
    "# print the outputs\n",
    "print(lighting.triangles_outputs)"
   ]
  },
  {
   "cell_type": "code",
   "execution_count": 19,
   "id": "99b7e8e2",
   "metadata": {},
   "outputs": [
    {
     "data": {
      "application/vnd.jupyter.widget-view+json": {
       "model_id": "a7e3858801d84ebaab27168a6a51733b",
       "version_major": 2,
       "version_minor": 0
      },
      "text/plain": [
       "SceneWidget(axes_helper=True, scenes=[{'id': 'Q9sDyXIhwwV09CaSVW4ZMDBBJ', 'data': b'x\\xda\\x8c}\\x07XUG\\xf3>\\xf6…"
      ]
     },
     "execution_count": 19,
     "metadata": {},
     "output_type": "execute_result"
    }
   ],
   "source": [
    "SceneWidget(lighting.plantGL_light(), \n",
    "            position=(-50.0, -50.0, 0.0), \n",
    "            size_display=(600, 400), \n",
    "            plane=True, \n",
    "            size_world = 100, \n",
    "            axes_helper=True)"
   ]
  },
  {
   "cell_type": "markdown",
   "id": "4984e0e8",
   "metadata": {},
   "source": [
    "### RATP\n",
    "Now, we will set the voxels size. It needs to be specified in a dict which stores all RATP parameters. Here, you need to precise the length on each axis of one voxel. "
   ]
  },
  {
   "cell_type": "code",
   "execution_count": 20,
   "id": "e619909c",
   "metadata": {},
   "outputs": [],
   "source": [
    "ratp_parameters = { \"voxel size\": [20.] * 3 }"
   ]
  },
  {
   "cell_type": "markdown",
   "id": "33f72664",
   "metadata": {},
   "source": [
    "Then, the dict is an argument in the instance creation."
   ]
  },
  {
   "cell_type": "code",
   "execution_count": 21,
   "id": "0d97938f",
   "metadata": {},
   "outputs": [
    {
     "data": {
      "application/vnd.jupyter.widget-view+json": {
       "model_id": "f8a7fcc2dfba44e6ac33408295a67f72",
       "version_major": 2,
       "version_minor": 0
      },
      "text/plain": [
       "SceneWidget(axes_helper=True, scenes=[{'id': '1r3vGF43bEixpK6zO4CgqIrAm', 'data': b'x\\xda\\x8c]\\x05xU\\xc7\\xd6\\r…"
      ]
     },
     "execution_count": 21,
     "metadata": {},
     "output_type": "execute_result"
    }
   ],
   "source": [
    "# initialize the instance\n",
    "lighting = LightVegeManager(lightmodel=\"ratp\", lightmodel_parameters=ratp_parameters)\n",
    "\n",
    "# build the scene\n",
    "lighting.build(geometry=triangles)\n",
    "\n",
    "# visualisation\n",
    "SceneWidget(lighting.plantGL_nolight(printtriangles=True, printvoxels=True), \n",
    "            position=(-50.0, -50.0, 0.0), \n",
    "            size_display=(600, 400), \n",
    "            plane=True, \n",
    "            size_world = 100, \n",
    "            axes_helper=True)"
   ]
  },
  {
   "cell_type": "code",
   "execution_count": 22,
   "id": "746a5fa0",
   "metadata": {},
   "outputs": [
    {
     "name": "stdout",
     "output_type": "stream",
     "text": [
      "     VegetationType    Day  Hour  Voxel  Nx  Ny  Nz   ShadedPAR   SunlitPAR  \\\n",
      "0               1.0  264.0  15.0    1.0   5   6   3   48.783260  144.457764   \n",
      "1               1.0  264.0  15.0    2.0   4   2   6   50.222652  145.897171   \n",
      "2               1.0  264.0  15.0    3.0   3   7   7   76.529640  172.204147   \n",
      "3               1.0  264.0  15.0    4.0   1   7   4  162.029709  257.704224   \n",
      "4               1.0  264.0  15.0    5.0   3   5   5   36.165016  131.839523   \n",
      "..              ...    ...   ...    ...  ..  ..  ..         ...         ...   \n",
      "211             1.0  264.0  15.0  212.0   6   3   7   88.052910  183.727417   \n",
      "212             1.0  264.0  15.0  213.0   4   2   7   66.258171  161.932693   \n",
      "213             1.0  264.0  15.0  214.0   1   6   7   91.217499  186.892014   \n",
      "214             1.0  264.0  15.0  215.0   1   7   7  124.092262  219.766769   \n",
      "215             1.0  264.0  15.0  216.0   6   7   3  218.251526  313.926056   \n",
      "\n",
      "      ShadedArea  SunlitArea         Area        PARa  Intercepted  \\\n",
      "0    1669.359253  307.066376  1976.425659   63.647678   251.589828   \n",
      "1     639.340942  467.153961  1106.494873   90.615723   200.531677   \n",
      "2     131.880585   49.266487   181.147064  102.550201    37.153339   \n",
      "3     114.480240  108.982895   223.463135  208.690125    93.269104   \n",
      "4    1061.264648    3.100358  1064.364990   36.443703    77.578804   \n",
      "..           ...         ...          ...         ...          ...   \n",
      "211    98.564636  104.777023   203.341660  137.351669    55.858631   \n",
      "212   205.380096  160.001099   365.381195  108.154213    79.035034   \n",
      "213    58.686462   80.323975   139.010437  146.500809    40.730282   \n",
      "214    21.945004   48.383152    70.328156  189.912750    26.712429   \n",
      "215    22.048519   15.559612    37.608131  257.834961    19.393379   \n",
      "\n",
      "     Transmitted  \n",
      "0      31.452011  \n",
      "1      35.146641  \n",
      "2      72.656891  \n",
      "3     155.314255  \n",
      "4      28.307266  \n",
      "..           ...  \n",
      "211    90.037453  \n",
      "212    68.675034  \n",
      "213    93.847260  \n",
      "214   116.123764  \n",
      "215   217.013687  \n",
      "\n",
      "[216 rows x 15 columns]\n"
     ]
    }
   ],
   "source": [
    "# compute the lighting\n",
    "energy = 500.\n",
    "hour = 15\n",
    "day = 264\n",
    "lighting.run(energy=energy, hour=hour, day=day)\n",
    "\n",
    "# print the outputs\n",
    "print(lighting.voxels_outputs)"
   ]
  },
  {
   "cell_type": "code",
   "execution_count": 23,
   "id": "838bbb57",
   "metadata": {},
   "outputs": [
    {
     "name": "stdout",
     "output_type": "stream",
     "text": [
      "      Triangle  Organ  Voxel  VegetationType  primitive_area    Day  Hour  Nx  \\\n",
      "0            0      0    1.0               1        6.008933  264.0  15.0   5   \n",
      "49           1      0    2.0               1       64.911050  264.0  15.0   4   \n",
      "77           2      0    3.0               1       48.494517  264.0  15.0   3   \n",
      "84           3      0    4.0               1        5.762879  264.0  15.0   1   \n",
      "91           4      0    5.0               1       21.321846  264.0  15.0   3   \n",
      "...        ...    ...    ...             ...             ...    ...   ...  ..   \n",
      "586       4995      0   21.0               1       21.090689  264.0  15.0   5   \n",
      "3641      4996      0  136.0               1       32.577000  264.0  15.0   4   \n",
      "1051      4997      0   37.0               1       76.699258  264.0  15.0   6   \n",
      "1822      4998      0   63.0               1        1.464895  264.0  15.0   2   \n",
      "3443      4999      0  129.0               1       51.065793  264.0  15.0   5   \n",
      "\n",
      "      Ny  Nz   ShadedPAR   SunlitPAR   ShadedArea  SunlitArea         Area  \\\n",
      "0      6   3   48.783260  144.457764  1669.359253  307.066376  1976.425659   \n",
      "49     2   6   50.222652  145.897171   639.340942  467.153961  1106.494873   \n",
      "77     7   7   76.529640  172.204147   131.880585   49.266487   181.147064   \n",
      "84     7   4  162.029709  257.704224   114.480240  108.982895   223.463135   \n",
      "91     5   5   36.165016  131.839523  1061.264648    3.100358  1064.364990   \n",
      "...   ..  ..         ...         ...          ...         ...          ...   \n",
      "586    4   6   28.958939  124.633453   982.723572  278.425110  1261.148682   \n",
      "3641   4   4   20.419191  116.093712  1379.531006   34.760368  1414.291382   \n",
      "1051   6   5   68.352638  164.027176  1125.141846    1.110655  1126.252441   \n",
      "1822   5   5   39.313770  134.988281  1225.665894   14.276536  1239.942383   \n",
      "3443   2   6   60.735207  156.409714   431.796021  383.754333   815.550354   \n",
      "\n",
      "            PARa  Intercepted  Transmitted  \n",
      "0      63.647678   251.589828    31.452011  \n",
      "49     90.615723   200.531677    35.146641  \n",
      "77    102.550201    37.153339    72.656891  \n",
      "84    208.690125    93.269104   155.314255  \n",
      "91     36.443703    77.578804    28.307266  \n",
      "...          ...          ...          ...  \n",
      "586    50.081097   126.319427    21.615057  \n",
      "3641   22.770676    64.408737    13.644242  \n",
      "1051   68.446991   154.177170    60.248528  \n",
      "1822   40.415356   100.225418    28.215555  \n",
      "3443  105.754509   172.496262    47.396954  \n",
      "\n",
      "[5000 rows x 18 columns]\n"
     ]
    }
   ],
   "source": [
    "# print the outputs\n",
    "print(lighting.triangles_outputs)"
   ]
  },
  {
   "cell_type": "code",
   "execution_count": 24,
   "id": "a6786993",
   "metadata": {},
   "outputs": [
    {
     "data": {
      "application/vnd.jupyter.widget-view+json": {
       "model_id": "a165f53325d34f22bf1aeccd6e86e668",
       "version_major": 2,
       "version_minor": 0
      },
      "text/plain": [
       "SceneWidget(axes_helper=True, scenes=[{'id': 'TAKVsoO1nznHUiHmDmrJ66VkY', 'data': b'x\\xda\\x8c]\\x05|\\x15\\xd7\\xd…"
      ]
     },
     "execution_count": 24,
     "metadata": {},
     "output_type": "execute_result"
    }
   ],
   "source": [
    "# visualisation\n",
    "SceneWidget(lighting.plantGL_light(printtriangles=True, printvoxels=True), \n",
    "            position=(-50.0, -50.0, 0.0), \n",
    "            size_display=(600, 400), \n",
    "            plane=True, \n",
    "            size_world = 100, \n",
    "            axes_helper=True)"
   ]
  },
  {
   "cell_type": "code",
   "execution_count": 25,
   "id": "e4c43fad",
   "metadata": {},
   "outputs": [
    {
     "data": {
      "application/vnd.jupyter.widget-view+json": {
       "model_id": "e99211ca72ad4fe4b2168078e77a2813",
       "version_major": 2,
       "version_minor": 0
      },
      "text/plain": [
       "SceneWidget(axes_helper=True, scenes=[{'id': 'Z1NblcYxLB60iSeS9Myrk4Izd', 'data': b'x\\xda\\x95]Y\\x90\\xae\\xc5Y\\x…"
      ]
     },
     "execution_count": 25,
     "metadata": {},
     "output_type": "execute_result"
    }
   ],
   "source": [
    "# visualisation\n",
    "SceneWidget(lighting.plantGL_light(printtriangles=False, printvoxels=True), \n",
    "            position=(-50.0, -50.0, 0.0), \n",
    "            size_display=(600, 400), \n",
    "            plane=True, \n",
    "            size_world = 100, \n",
    "            axes_helper=True)"
   ]
  },
  {
   "cell_type": "code",
   "execution_count": null,
   "id": "bb2294a8",
   "metadata": {},
   "outputs": [],
   "source": []
  }
 ],
 "metadata": {
  "kernelspec": {
   "display_name": "Python 3 (ipykernel)",
   "language": "python",
   "name": "python3"
  },
  "language_info": {
   "codemirror_mode": {
    "name": "ipython",
    "version": 3
   },
   "file_extension": ".py",
   "mimetype": "text/x-python",
   "name": "python",
   "nbconvert_exporter": "python",
   "pygments_lexer": "ipython3",
   "version": "3.8.17"
  }
 },
 "nbformat": 4,
 "nbformat_minor": 5
}
