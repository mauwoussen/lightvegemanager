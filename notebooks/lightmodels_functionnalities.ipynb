{
 "cells": [
  {
   "cell_type": "markdown",
   "id": "971cb814",
   "metadata": {},
   "source": [
    "# Light models options\n",
    "\n",
    "## Content\n",
    "\n",
    "- CARIBU\n",
    "    - sun algo\n",
    "    - virtual sensors\n",
    "    - autres parametre\n",
    "- RATP\n",
    "    - distribution angles foliaires\n",
    "    - tesselation sur la grille\n",
    "    - autre paramètres\n",
    "    \n",
    "## Introduction\n",
    "\n",
    "During our use of lightvegemanager, we added special features for each known light models. This notebook gives you a small introduction to them.\n",
    "\n",
    "The parameters of those features are stored in a dict."
   ]
  },
  {
   "cell_type": "code",
   "execution_count": 1,
   "id": "293a40d2",
   "metadata": {},
   "outputs": [],
   "source": [
    "import os\n",
    "from lightvegemanager.LVM import LightVegeManager\n",
    "from pgljupyter import SceneWidget\n",
    "from lightvegemanager.trianglesmesh import random_triangle_generator"
   ]
  },
  {
   "cell_type": "markdown",
   "id": "232237fe",
   "metadata": {},
   "source": [
    "## CARIBU\n",
    "\n",
    "This is the complete parameters you can provide with CARIBU: \n",
    "\n",
    "```python\n",
    "caribu_args = {\n",
    "                    \"sun algo\" : \"ratp\",\n",
    "                    \"sun algo\" : \"caribu\",\n",
    "\n",
    "                    \"caribu opt\" : {\n",
    "                                    band0 = (reflectance, transmittance),\n",
    "                                    band1 = (reflectance, transmittance),\n",
    "                                    ...\n",
    "                                    },\n",
    "                    \"debug\" : bool,\n",
    "                    \"soil mesh\" : bool,\n",
    "                    \"sensors\" : [\"grid\", dxyz, nxyz, orig, vtkpath, \"vtk\"]\n",
    "                }\n",
    "```"
   ]
  },
  {
   "cell_type": "markdown",
   "id": "7a847443",
   "metadata": {},
   "source": [
    "### Computing the sun position\n",
    "\n",
    "In order to compute the sun position, you can use either the algorithm from RATP or CARIBU. The (x, y, z) output is formatted in CARIBU format."
   ]
  },
  {
   "cell_type": "code",
   "execution_count": 2,
   "id": "00259bc9",
   "metadata": {},
   "outputs": [
    {
     "name": "stdout",
     "output_type": "stream",
     "text": [
      "(0.33506553253259913, -0.8798617206271511, -0.3370080733212115)\n"
     ]
    }
   ],
   "source": [
    "caribu_args = { \"sun algo\" : \"caribu\" }\n",
    "\n",
    "lighting = LightVegeManager(lightmodel=\"caribu\", lightmodel_parameters=caribu_args)\n",
    "lighting.build(geometry=[(0., 0., 0.), (1., 0., 0.), (1., 1., 1.)])\n",
    "energy = 500.\n",
    "hour = 15\n",
    "day = 264\n",
    "lighting.run(energy=energy, hour=hour, day=day)\n",
    "\n",
    "sun_caribu = lighting.sun\n",
    "print(sun_caribu)"
   ]
  },
  {
   "cell_type": "code",
   "execution_count": 3,
   "id": "20273c93",
   "metadata": {},
   "outputs": [
    {
     "name": "stdout",
     "output_type": "stream",
     "text": [
      "(0.33241183146897624, -0.8800565622452903, -0.3391206592769639)\n"
     ]
    }
   ],
   "source": [
    "caribu_args = { \"sun algo\" : \"ratp\" }\n",
    "\n",
    "lighting = LightVegeManager(lightmodel=\"caribu\", lightmodel_parameters=caribu_args)\n",
    "lighting.build(geometry=[(0., 0., 0.), (1., 0., 0.), (1., 1., 1.)])\n",
    "energy = 500.\n",
    "hour = 15\n",
    "day = 264\n",
    "lighting.run(energy=energy, hour=hour, day=day)\n",
    "\n",
    "sun_ratp = lighting.sun\n",
    "print(sun_ratp)"
   ]
  },
  {
   "cell_type": "code",
   "execution_count": 4,
   "id": "7b0e119e",
   "metadata": {},
   "outputs": [
    {
     "name": "stdout",
     "output_type": "stream",
     "text": [
      "euclidean dist =  0.003397515564596359  m\n"
     ]
    }
   ],
   "source": [
    "dist = (sum([ (x-y)**2 for x,y in zip(sun_ratp, sun_caribu) ])) ** (1/2)\n",
    "print(\"euclidean dist = \",dist,\" m\")"
   ]
  },
  {
   "cell_type": "markdown",
   "id": "b1febd05",
   "metadata": {},
   "source": [
    "### Grid of virtual sensors\n",
    "\n",
    "If you can to match a grid of voxels, you can generate a set of virtual sensors following a 3D grid. You need to precise the dimension of the grid:\n",
    "- dxyz: `[dx, dy, dz]` size of one voxel\n",
    "- nxyz: `[nx, ny, nz]` number of voxels on each xyz axis\n",
    "- orig: `[0x, 0y, 0z]` origin point of the grid\n",
    "\n",
    "Optionnaly, you can write a geometric visualisation of the sensors in VTK format. You need to provide the file path and the flag `\"vtk\"`."
   ]
  },
  {
   "cell_type": "code",
   "execution_count": 8,
   "id": "556e7a16",
   "metadata": {},
   "outputs": [],
   "source": [
    "# grid dimensions\n",
    "dxyz = [1.] * 3\n",
    "nxyz = [5, 5, 7]\n",
    "orig = [0.] * 3"
   ]
  },
  {
   "cell_type": "code",
   "execution_count": 9,
   "id": "95967c93",
   "metadata": {},
   "outputs": [],
   "source": [
    "# random triangles\n",
    "nb_triangles = 50\n",
    "spheresize = (1., 0.3) # vertices of triangles are the sphere surface\n",
    "triangles = []\n",
    "for i in range(nb_triangles):\n",
    "    triangles.append(random_triangle_generator(worldsize=(0., 5.), spheresize=spheresize))"
   ]
  },
  {
   "cell_type": "code",
   "execution_count": 10,
   "id": "ed022b4c",
   "metadata": {},
   "outputs": [],
   "source": [
    "caribu_args = { \"sensors\" : [\"grid\", dxyz, nxyz, orig] }\n",
    "\n",
    "lighting = LightVegeManager(lightmodel=\"caribu\", lightmodel_parameters=caribu_args, environment={\"infinite\":True})\n",
    "lighting.build(geometry=triangles)"
   ]
  },
  {
   "cell_type": "markdown",
   "id": "d11f570b",
   "metadata": {},
   "source": [
    "You can visualize the grid of sensors with plantGL through the method `plantGL_sensors`"
   ]
  },
  {
   "cell_type": "code",
   "execution_count": 11,
   "id": "8c5f06e2",
   "metadata": {},
   "outputs": [
    {
     "data": {
      "application/vnd.jupyter.widget-view+json": {
       "model_id": "12c381b7a3564abc8c39f565a3df8ba1",
       "version_major": 2,
       "version_minor": 0
      },
      "text/plain": [
       "SceneWidget(axes_helper=True, scenes=[{'id': '8cwhGR0RpCR4UmXwXjqEDf9BQ', 'data': b'x\\xda\\x85\\x9ai\\x83\\x16G\\x1…"
      ]
     },
     "execution_count": 11,
     "metadata": {},
     "output_type": "execute_result"
    }
   ],
   "source": [
    "SceneWidget(lighting.plantGL_sensors(), \n",
    "            position=(-2.5, -2.5, 0.0), \n",
    "            size_display=(600, 400), \n",
    "            plane=True, \n",
    "            size_world = 10, \n",
    "            axes_helper=True)"
   ]
  },
  {
   "cell_type": "markdown",
   "id": "c33fec94",
   "metadata": {},
   "source": [
    "The lighting results are stored in `sensors_outputs`"
   ]
  },
  {
   "cell_type": "code",
   "execution_count": 12,
   "id": "fcd4be39",
   "metadata": {},
   "outputs": [
    {
     "name": "stdout",
     "output_type": "stream",
     "text": [
      "{'par': {0: 0.5620043191303375, 1: 0.5618584729038281, 2: 0.60389586895853, 3: 0.5994287825556907, 4: 0.6003338819673372, 5: 0.9892227473385927, 6: 0.5420517619926417, 7: 0.552905696886898, 8: 0.5743983291679143, 9: 0.5231573288803778, 10: 0.7745655468808682, 11: 0.9950071883035141, 12: 0.49672566375401617, 13: 0.5718796592189763, 14: 0.48319737010376, 15: 0.6195291102018295, 16: 0.9035769753518178, 17: 0.997274929628352, 18: 0.47939433586083885, 19: 0.5249417244166038, 20: 0.5515631860087062, 21: 0.6541147586727625, 22: 0.910320558731268, 23: 0.9967711618096655, 24: 0.44404974665543817, 25: 0.3464944534705235, 26: 0.576028086893188, 27: 0.6768626772490913, 28: 0.7667147667894887, 29: 0.9955096543499555, 30: 0.5238543129825075, 31: 0.5599085722160164, 32: 0.5901538606669944, 33: 0.7256886984161701, 34: 0.7374665066266308, 35: 0.9697439931165255, 36: 0.535805675734872, 37: 0.5592452891944351, 38: 0.5756647374752185, 39: 0.6436426017849102, 40: 0.8336044711449767, 41: 0.9589390716358468, 42: 0.48280334011804865, 43: 0.47289570500357087, 44: 0.40950521426955416, 45: 0.5061163894590417, 46: 0.9029644634913371, 47: 0.9808292116907193, 48: 0.5256773022268902, 49: 0.5373692172299218, 50: 0.5395389993405157, 51: 0.5559339155709611, 52: 0.9110388997824403, 53: 0.9957011733188681, 54: 0.6082497251081437, 55: 0.5540370777829412, 56: 0.6013499582290773, 57: 0.7539935965727287, 58: 0.8696727228246093, 59: 0.993298546073756, 60: 0.4081481856749862, 61: 0.46169380494714657, 62: 0.5809020807378312, 63: 0.7442590554152073, 64: 0.7138952233199232, 65: 0.7478732769241822, 66: 0.5032646122746112, 67: 0.5531634094300184, 68: 0.638550859443428, 69: 0.7628007559452091, 70: 0.7781122640973328, 71: 0.9574046623297123, 72: 0.312388722462537, 73: 0.504423637651493, 74: 0.5442149181600349, 75: 0.7391683436234034, 76: 0.8855818394771745, 77: 0.9640197200776475, 78: 0.4203580140844563, 79: 0.4537542845248214, 80: 0.5989753470969673, 81: 0.7306663839592556, 82: 0.9018268581652129, 83: 0.9909660673736099, 84: 0.37802489895460467, 85: 0.43292188930298, 86: 0.46987687366761505, 87: 0.6846420042310976, 88: 0.7452057446753113, 89: 0.773713129441179, 90: 0.47203107097816877, 91: 0.5435298642622011, 92: 0.6677550575938763, 93: 0.6634022267445692, 94: 0.5372252318195736, 95: 0.9023960865197724, 96: 0.4971634549724447, 97: 0.5488919752425052, 98: 0.6747951992905524, 99: 0.6863121733752311, 100: 0.696034183027644, 101: 0.9291264272919091, 102: 0.44645286035739024, 103: 0.504907254303561, 104: 0.6142409240919622, 105: 0.7297223496657302, 106: 0.8596382049913499, 107: 0.9763594295561757, 108: 0.5048272323959268, 109: 0.4952087687052097, 110: 0.5130209741432934, 111: 0.6775275892147514, 112: 0.7948734232763064, 113: 0.9863293381925695, 114: 0.43721475011224165, 115: 0.5566692345452607, 116: 0.5383103915581062, 117: 0.6024880166636262, 118: 0.5720972583778527, 119: 0.6589129343366613, 120: 0.4924768124509249, 121: 0.537193061591714, 122: 0.6699775196270484, 123: 0.620561586323873, 124: 0.6521497566319846, 125: 0.9702187152637108, 126: 0.5876689594669928, 127: 0.5945561199175049, 128: 0.5497260905040386, 129: 0.5634661564314017, 130: 0.699646648631934, 131: 0.9926887155755253, 132: 0.5227188014528775, 133: 0.5774079809607106, 134: 0.43936686890653404, 135: 0.43682929998543724, 136: 0.62938914304342, 137: 0.9942403057070559, 138: 0.4797982572937865, 139: 0.5089085824700754, 140: 0.5471748263661631, 141: 0.6248668599922557, 142: 0.7369761308417812, 143: 0.9569481023238572, 144: 0.3407071432166338, 145: 0.33782083243555117, 146: 0.6309292261528813, 147: 0.6244924603643601, 148: 0.7465780451297654, 149: 0.8912547821466066}}\n"
     ]
    }
   ],
   "source": [
    "energy = 500.\n",
    "hour = 15\n",
    "day = 264\n",
    "lighting.run(energy=energy, hour=hour, day=day)\n",
    "\n",
    "print(lighting.sensors_outputs)"
   ]
  },
  {
   "cell_type": "markdown",
   "id": "028f5975",
   "metadata": {},
   "source": [
    "You can also visualize the results in the plantGL scene"
   ]
  },
  {
   "cell_type": "code",
   "execution_count": 7,
   "id": "3258001b",
   "metadata": {},
   "outputs": [
    {
     "ename": "AttributeError",
     "evalue": "'LightVegeManager' object has no attribute '_LightVegeManager__sensors_plantgl'",
     "output_type": "error",
     "traceback": [
      "\u001b[1;31m---------------------------------------------------------------------------\u001b[0m",
      "\u001b[1;31mAttributeError\u001b[0m                            Traceback (most recent call last)",
      "Cell \u001b[1;32mIn[7], line 1\u001b[0m\n\u001b[1;32m----> 1\u001b[0m SceneWidget(\u001b[43mlighting\u001b[49m\u001b[38;5;241;43m.\u001b[39;49m\u001b[43mplantGL_sensors\u001b[49m\u001b[43m(\u001b[49m\u001b[43mlight\u001b[49m\u001b[38;5;241;43m=\u001b[39;49m\u001b[38;5;28;43;01mTrue\u001b[39;49;00m\u001b[43m)\u001b[49m, \n\u001b[0;32m      2\u001b[0m             position\u001b[38;5;241m=\u001b[39m(\u001b[38;5;241m-\u001b[39m\u001b[38;5;241m2.5\u001b[39m, \u001b[38;5;241m-\u001b[39m\u001b[38;5;241m2.5\u001b[39m, \u001b[38;5;241m0.0\u001b[39m), \n\u001b[0;32m      3\u001b[0m             size_display\u001b[38;5;241m=\u001b[39m(\u001b[38;5;241m600\u001b[39m, \u001b[38;5;241m400\u001b[39m), \n\u001b[0;32m      4\u001b[0m             plane\u001b[38;5;241m=\u001b[39m\u001b[38;5;28;01mTrue\u001b[39;00m, \n\u001b[0;32m      5\u001b[0m             size_world \u001b[38;5;241m=\u001b[39m \u001b[38;5;241m10\u001b[39m, \n\u001b[0;32m      6\u001b[0m             axes_helper\u001b[38;5;241m=\u001b[39m\u001b[38;5;28;01mTrue\u001b[39;00m)\n",
      "File \u001b[1;32mc:\\users\\mwoussen\\cdd\\codes\\dev\\lightvegemanager\\src\\lightvegemanager\\tool.py:1088\u001b[0m, in \u001b[0;36mLightVegeManager.plantGL_sensors\u001b[1;34m(self, light)\u001b[0m\n\u001b[0;32m   1085\u001b[0m \u001b[38;5;28;01mdef\u001b[39;00m \u001b[38;5;21mplantGL_sensors\u001b[39m(\u001b[38;5;28mself\u001b[39m, light\u001b[38;5;241m=\u001b[39m\u001b[38;5;28;01mFalse\u001b[39;00m):\n\u001b[0;32m   1086\u001b[0m     \u001b[38;5;28;01mimport\u001b[39;00m \u001b[38;5;21;01mopenalea\u001b[39;00m\u001b[38;5;21;01m.\u001b[39;00m\u001b[38;5;21;01mplantgl\u001b[39;00m\u001b[38;5;21;01m.\u001b[39;00m\u001b[38;5;21;01mall\u001b[39;00m \u001b[38;5;28;01mas\u001b[39;00m \u001b[38;5;21;01mpgl\u001b[39;00m\n\u001b[1;32m-> 1088\u001b[0m     plantGL_sensors \u001b[38;5;241m=\u001b[39m \u001b[38;5;28;43mself\u001b[39;49m\u001b[38;5;241;43m.\u001b[39;49m\u001b[43m__sensors_plantgl\u001b[49m\n\u001b[0;32m   1090\u001b[0m     \u001b[38;5;28;01mif\u001b[39;00m light:\n\u001b[0;32m   1091\u001b[0m         var \u001b[38;5;241m=\u001b[39m [v \u001b[38;5;28;01mfor\u001b[39;00m v \u001b[38;5;129;01min\u001b[39;00m \u001b[38;5;28mself\u001b[39m\u001b[38;5;241m.\u001b[39m__sensors_outputs[\u001b[38;5;124m\"\u001b[39m\u001b[38;5;124mpar\u001b[39m\u001b[38;5;124m\"\u001b[39m]\u001b[38;5;241m.\u001b[39mvalues()]\n",
      "\u001b[1;31mAttributeError\u001b[0m: 'LightVegeManager' object has no attribute '_LightVegeManager__sensors_plantgl'"
     ]
    }
   ],
   "source": [
    "SceneWidget(lighting.plantGL_sensors(light=True), \n",
    "            position=(-2.5, -2.5, 0.0), \n",
    "            size_display=(600, 400), \n",
    "            plane=True, \n",
    "            size_world = 10, \n",
    "            axes_helper=True)"
   ]
  },
  {
   "cell_type": "code",
   "execution_count": 11,
   "id": "5f2b40d2",
   "metadata": {},
   "outputs": [
    {
     "data": {
      "application/vnd.jupyter.widget-view+json": {
       "model_id": "2b5e06124ce741ab8849cdad61f61a18",
       "version_major": 2,
       "version_minor": 0
      },
      "text/plain": [
       "SceneWidget(axes_helper=True, scenes=[{'id': 'A5C5KpsvluofwnlhgGz2Qa4N7', 'data': b'x\\xda\\x8d\\x9c\\t\\x98\\x16\\xc…"
      ]
     },
     "execution_count": 11,
     "metadata": {},
     "output_type": "execute_result"
    }
   ],
   "source": [
    "SceneWidget(lighting.plantGL_sensors(light=True) + lighting.plantGL_nolight(), \n",
    "            position=(-2.5, -2.5, 0.0), \n",
    "            size_display=(600, 400), \n",
    "            plane=True, \n",
    "            size_world = 10, \n",
    "            axes_helper=True)"
   ]
  },
  {
   "cell_type": "markdown",
   "id": "7b4fe6e1",
   "metadata": {},
   "source": [
    "### Other parameters\n",
    "\n",
    "In additional features, you can activate the debug mode in CARIBU, which describe the internal steps."
   ]
  },
  {
   "cell_type": "code",
   "execution_count": 6,
   "id": "494b7ef9",
   "metadata": {},
   "outputs": [
    {
     "name": "stdout",
     "output_type": "stream",
     "text": [
      "Prepare scene 1\n",
      "done\n"
     ]
    },
    {
     "ename": "FileNotFoundError",
     "evalue": "[Errno 2] No such file or directory: './caribuscene_2672400716080\\\\cscene.can'",
     "output_type": "error",
     "traceback": [
      "\u001b[1;31m---------------------------------------------------------------------------\u001b[0m",
      "\u001b[1;31mFileNotFoundError\u001b[0m                         Traceback (most recent call last)",
      "Cell \u001b[1;32mIn[6], line 9\u001b[0m\n\u001b[0;32m      7\u001b[0m hour \u001b[38;5;241m=\u001b[39m \u001b[38;5;241m15\u001b[39m\n\u001b[0;32m      8\u001b[0m day \u001b[38;5;241m=\u001b[39m \u001b[38;5;241m264\u001b[39m\n\u001b[1;32m----> 9\u001b[0m \u001b[43mlighting\u001b[49m\u001b[38;5;241;43m.\u001b[39;49m\u001b[43mrun\u001b[49m\u001b[43m(\u001b[49m\u001b[43menergy\u001b[49m\u001b[38;5;241;43m=\u001b[39;49m\u001b[43menergy\u001b[49m\u001b[43m,\u001b[49m\u001b[43m \u001b[49m\u001b[43mhour\u001b[49m\u001b[38;5;241;43m=\u001b[39;49m\u001b[43mhour\u001b[49m\u001b[43m,\u001b[49m\u001b[43m \u001b[49m\u001b[43mday\u001b[49m\u001b[38;5;241;43m=\u001b[39;49m\u001b[43mday\u001b[49m\u001b[43m)\u001b[49m\n",
      "File \u001b[1;32mc:\\users\\mwoussen\\cdd\\codes\\dev\\lightvegemanager\\src\\lightvegemanager\\tool.py:533\u001b[0m, in \u001b[0;36mLightVegeManager.run\u001b[1;34m(self, energy, day, hour, parunit, truesolartime, id_sensors)\u001b[0m\n\u001b[0;32m    531\u001b[0m \u001b[38;5;28;01mif\u001b[39;00m sun_sky_option \u001b[38;5;241m==\u001b[39m \u001b[38;5;124m\"\u001b[39m\u001b[38;5;124mmix\u001b[39m\u001b[38;5;124m\"\u001b[39m:\n\u001b[0;32m    532\u001b[0m     start \u001b[38;5;241m=\u001b[39m time\u001b[38;5;241m.\u001b[39mtime()\n\u001b[1;32m--> 533\u001b[0m     raw_sun, aggregated_sun \u001b[38;5;241m=\u001b[39m \u001b[43mrun_caribu\u001b[49m\u001b[43m(\u001b[49m\u001b[38;5;241;43m*\u001b[39;49m\u001b[43marg\u001b[49m\u001b[43m)\u001b[49m\n\u001b[0;32m    534\u001b[0m     arg[\u001b[38;5;241m0\u001b[39m] \u001b[38;5;241m=\u001b[39m c_scene_sky\n\u001b[0;32m    535\u001b[0m     raw_sky, aggregated_sky \u001b[38;5;241m=\u001b[39m run_caribu(\u001b[38;5;241m*\u001b[39marg)\n",
      "File \u001b[1;32mc:\\users\\mwoussen\\cdd\\codes\\dev\\lightvegemanager\\src\\lightvegemanager\\CARIBUinputs.py:370\u001b[0m, in \u001b[0;36mrun_caribu\u001b[1;34m(c_scene, direct_active, infinite, sensors, energy)\u001b[0m\n\u001b[0;32m    329\u001b[0m \u001b[38;5;250m\u001b[39m\u001b[38;5;124;03m\"\"\"runs caribu depending on input options\u001b[39;00m\n\u001b[0;32m    330\u001b[0m \n\u001b[0;32m    331\u001b[0m \u001b[38;5;124;03m:param c_scene: instance of CaribuScene containing geometry, light source(s), opt etc...\u001b[39;00m\n\u001b[1;32m   (...)\u001b[0m\n\u001b[0;32m    367\u001b[0m \u001b[38;5;124;03m:rtype: dict of dict, dict of dict\u001b[39;00m\n\u001b[0;32m    368\u001b[0m \u001b[38;5;124;03m\"\"\"\u001b[39;00m    \n\u001b[0;32m    369\u001b[0m \u001b[38;5;28;01mif\u001b[39;00m sensors \u001b[38;5;129;01mis\u001b[39;00m \u001b[38;5;28;01mNone\u001b[39;00m :\n\u001b[1;32m--> 370\u001b[0m     raw, aggregated \u001b[38;5;241m=\u001b[39m \u001b[43mc_scene\u001b[49m\u001b[38;5;241;43m.\u001b[39;49m\u001b[43mrun\u001b[49m\u001b[43m(\u001b[49m\u001b[43mdirect\u001b[49m\u001b[38;5;241;43m=\u001b[39;49m\u001b[43mdirect_active\u001b[49m\u001b[43m,\u001b[49m\u001b[43m \u001b[49m\u001b[43minfinite\u001b[49m\u001b[38;5;241;43m=\u001b[39;49m\u001b[43minfinite\u001b[49m\u001b[43m)\u001b[49m\n\u001b[0;32m    371\u001b[0m \u001b[38;5;28;01melse\u001b[39;00m :\n\u001b[0;32m    372\u001b[0m     raw, aggregated \u001b[38;5;241m=\u001b[39m c_scene\u001b[38;5;241m.\u001b[39mrun(direct\u001b[38;5;241m=\u001b[39mdirect_active, infinite\u001b[38;5;241m=\u001b[39minfinite, \n\u001b[0;32m    373\u001b[0m                                                         sensors\u001b[38;5;241m=\u001b[39msensors)\n",
      "File \u001b[1;32m~\\AppData\\Local\\miniconda3\\envs\\mobidivpy37\\lib\\site-packages\\alinea.caribu-8.0.7-py3.8.egg\\alinea\\caribu\\CaribuScene.py:568\u001b[0m, in \u001b[0;36mCaribuScene.run\u001b[1;34m(self, direct, infinite, d_sphere, layers, height, screen_size, screen_resolution, sensors, split_face, simplify)\u001b[0m\n\u001b[0;32m    566\u001b[0m         \u001b[38;5;28mself\u001b[39m\u001b[38;5;241m.\u001b[39mcanfile \u001b[38;5;241m=\u001b[39m os\u001b[38;5;241m.\u001b[39mpath\u001b[38;5;241m.\u001b[39mjoin(\u001b[38;5;28mself\u001b[39m\u001b[38;5;241m.\u001b[39mtempdir,\u001b[38;5;124m'\u001b[39m\u001b[38;5;124mcscene.can\u001b[39m\u001b[38;5;124m'\u001b[39m)\n\u001b[0;32m    567\u001b[0m         \u001b[38;5;28mself\u001b[39m\u001b[38;5;241m.\u001b[39moptfile \u001b[38;5;241m=\u001b[39m os\u001b[38;5;241m.\u001b[39mpath\u001b[38;5;241m.\u001b[39mjoin(\u001b[38;5;28mself\u001b[39m\u001b[38;5;241m.\u001b[39mtempdir,\u001b[38;5;124m'\u001b[39m\u001b[38;5;124mband0.opt\u001b[39m\u001b[38;5;124m'\u001b[39m)\n\u001b[1;32m--> 568\u001b[0m         \u001b[43mwrite_scene\u001b[49m\u001b[43m(\u001b[49m\u001b[43mtriangles\u001b[49m\u001b[43m,\u001b[49m\u001b[43m \u001b[49m\u001b[43mmaterials\u001b[49m\u001b[43m,\u001b[49m\u001b[43m \u001b[49m\u001b[43mcanfile\u001b[49m\u001b[43m \u001b[49m\u001b[38;5;241;43m=\u001b[39;49m\u001b[43m \u001b[49m\u001b[38;5;28;43mself\u001b[39;49m\u001b[38;5;241;43m.\u001b[39;49m\u001b[43mcanfile\u001b[49m\u001b[43m,\u001b[49m\u001b[43m \u001b[49m\u001b[43moptfile\u001b[49m\u001b[43m \u001b[49m\u001b[38;5;241;43m=\u001b[39;49m\u001b[43m \u001b[49m\u001b[38;5;28;43mself\u001b[39;49m\u001b[38;5;241;43m.\u001b[39;49m\u001b[43moptfile\u001b[49m\u001b[43m)\u001b[49m\n\u001b[0;32m    570\u001b[0m \u001b[38;5;28;01melse\u001b[39;00m:\n\u001b[0;32m    571\u001b[0m     \u001b[38;5;66;03m# self.materialvalues is a cache for the computation of the material list\u001b[39;00m\n\u001b[0;32m    572\u001b[0m     materials \u001b[38;5;241m=\u001b[39m \u001b[38;5;28mself\u001b[39m\u001b[38;5;241m.\u001b[39mmaterialvalues\n",
      "File \u001b[1;32m~\\AppData\\Local\\miniconda3\\envs\\mobidivpy37\\lib\\site-packages\\alinea.caribu-8.0.7-py3.8.egg\\alinea\\caribu\\caribu.py:177\u001b[0m, in \u001b[0;36mwrite_scene\u001b[1;34m(triangles, materials, canfile, optfile)\u001b[0m\n\u001b[0;32m    175\u001b[0m o_string, labels \u001b[38;5;241m=\u001b[39m opt_string_and_labels(materials)\n\u001b[0;32m    176\u001b[0m can_string \u001b[38;5;241m=\u001b[39m triangles_string(triangles, labels)\n\u001b[1;32m--> 177\u001b[0m \u001b[38;5;28;43mopen\u001b[39;49m\u001b[43m(\u001b[49m\u001b[43mcanfile\u001b[49m\u001b[43m,\u001b[49m\u001b[38;5;124;43m'\u001b[39;49m\u001b[38;5;124;43mw\u001b[39;49m\u001b[38;5;124;43m'\u001b[39;49m\u001b[43m)\u001b[49m\u001b[38;5;241m.\u001b[39mwrite(can_string)\n\u001b[0;32m    178\u001b[0m \u001b[38;5;28mopen\u001b[39m(optfile,\u001b[38;5;124m'\u001b[39m\u001b[38;5;124mw\u001b[39m\u001b[38;5;124m'\u001b[39m)\u001b[38;5;241m.\u001b[39mwrite(o_string)\n",
      "\u001b[1;31mFileNotFoundError\u001b[0m: [Errno 2] No such file or directory: './caribuscene_2672400716080\\\\cscene.can'"
     ]
    }
   ],
   "source": [
    "caribu_args = { \"debug\" : True }\n",
    "\n",
    "lighting = LightVegeManager(lightmodel=\"caribu\", lightmodel_parameters=caribu_args)\n",
    "lighting.build(geometry=[(0., 0., 0.), (1., 0., 0.), (1., 1., 1.)])\n",
    "\n",
    "energy = 500.\n",
    "hour = 15\n",
    "day = 264\n",
    "lighting.run(energy=energy, hour=hour, day=day)"
   ]
  },
  {
   "cell_type": "markdown",
   "id": "0d638836",
   "metadata": {},
   "source": [
    "You can also use the soilmesh option and get the lighting hitting the soil. The method `soilenergy` get you access to its result."
   ]
  },
  {
   "cell_type": "code",
   "execution_count": 5,
   "id": "bf20d164",
   "metadata": {},
   "outputs": [
    {
     "name": "stdout",
     "output_type": "stream",
     "text": [
      "{'Qi': 0.6750540873627096, 'Einc': 0.6750540873627096}\n"
     ]
    }
   ],
   "source": [
    "caribu_args = { \"soil mesh\" : True }\n",
    "\n",
    "lighting = LightVegeManager(lightmodel=\"caribu\", lightmodel_parameters=caribu_args)\n",
    "lighting.build(geometry=[(0., 0., 0.), (1., 0., 0.), (1., 1., 1.)])\n",
    "\n",
    "energy = 500.\n",
    "hour = 15\n",
    "day = 264\n",
    "lighting.run(energy=energy, hour=hour, day=day)\n",
    "\n",
    "print(lighting.soilenergy)"
   ]
  },
  {
   "cell_type": "markdown",
   "id": "a08a758b",
   "metadata": {},
   "source": [
    "## RATP\n",
    "\n",
    "This is the complete parameters you can provide with CARIBU: \n",
    "\n",
    "\n",
    "```python\n",
    "ratp_args = {\n",
    "                # Grid specifications\n",
    "                \"voxel size\" : [dx, dy, dz],\n",
    "                \"voxel size\" : \"dynamic\",\n",
    "                \n",
    "                \"full grid\" : bool,\n",
    "\n",
    "                \"origin\" : [xorigin, yorigin, zorigin],\n",
    "                \"origin\" : [xorigin, yorigin],\n",
    "\n",
    "                \"number voxels\" : [nx, ny, nz],\n",
    "                \"grid slicing\" : \"ground = 0.\"\n",
    "                \"tesselation level\" : int\n",
    "\n",
    "                # Leaf angle distribution\n",
    "                \"angle distrib algo\" : \"compute global\",\n",
    "                \"angle distrib algo\" : \"compute voxel\",\n",
    "                \"angle distrib algo\" : \"file\",\n",
    "\n",
    "                \"nb angle classes\" : int,\n",
    "                \"angle distrib file\" : filepath,\n",
    "\n",
    "                # Vegetation type\n",
    "                \"soil reflectance\" : [reflectance_band0, reflectance_band1, ...],\n",
    "                \"reflectance coefficients\" : [reflectance_band0, reflectance_band1, ...],\n",
    "                \"mu\" : [mu_scene0, mu_scene1, ...]\n",
    "            }\n",
    "```"
   ]
  },
  {
   "cell_type": "markdown",
   "id": "063c07d8",
   "metadata": {},
   "source": [
    "### Leaf angle distribution\n",
    "\n",
    "Leaf angle distribution can be generated in 3 ways:\n",
    "- from a file, one distribution per specy\n",
    "- global and dynamically, it generates a distribution from a triangles mesh for each specy\n",
    "- per voxel and dynamically, it generates a distribution from the triangles located in each voxel"
   ]
  },
  {
   "cell_type": "code",
   "execution_count": 2,
   "id": "17d41b51",
   "metadata": {},
   "outputs": [],
   "source": [
    "# random triangles\n",
    "nb_triangles = 50\n",
    "spheresize = (1., 0.3) # vertices of triangles are the sphere surface\n",
    "worldsize = (0., 5.)\n",
    "triangles = [random_triangle_generator(worldsize=worldsize, spheresize=spheresize) for i in range(nb_triangles)]"
   ]
  },
  {
   "cell_type": "markdown",
   "id": "d6755645",
   "metadata": {},
   "source": [
    "#### File\n",
    "\n",
    "You need the flag `\"file\"` and to specify the file path."
   ]
  },
  {
   "cell_type": "code",
   "execution_count": 15,
   "id": "13097ed4",
   "metadata": {},
   "outputs": [
    {
     "name": "stdout",
     "output_type": "stream",
     "text": [
      "{'global': [[0.1382, 0.1664, 0.1972, 0.1925, 0.1507, 0.0903, 0.0425, 0.0172, 0.005]]}\n"
     ]
    }
   ],
   "source": [
    "filepath = os.path.join(os.path.dirname(os.path.abspath(\"\")), \"data\", \"luzerne_angle_distrib.data\")\n",
    "ratp_parameters = { \"angle distrib algo\" : \"file\", \"angle distrib file\" : filepath }\n",
    "\n",
    "# initialize the instance\n",
    "lighting = LightVegeManager(lightmodel=\"ratp\", lightmodel_parameters=ratp_parameters)\n",
    "\n",
    "# build the scene\n",
    "lighting.build(geometry=triangles)\n",
    "\n",
    "print(lighting.leafangledistribution)"
   ]
  },
  {
   "cell_type": "markdown",
   "id": "85daaa61",
   "metadata": {},
   "source": [
    "#### Global distribution\n",
    "\n",
    "You need the flag `\"compute global\"` and to specify the number of angle classes you need."
   ]
  },
  {
   "cell_type": "code",
   "execution_count": 3,
   "id": "7c882e53",
   "metadata": {},
   "outputs": [
    {
     "name": "stdout",
     "output_type": "stream",
     "text": [
      "{'global': [[0.0, 0.01403472520994376, 0.14553389876181141, 0.13870880399511626, 0.17786938035077418, 0.06842434118299212, 0.09608726894836216, 0.20983153542452182, 0.14951004612647875]]}\n"
     ]
    }
   ],
   "source": [
    "ratp_parameters = { \"angle distrib algo\" : \"compute global\", \"nb angle classes\" : 9 }\n",
    "\n",
    "# initialize the instance\n",
    "lighting = LightVegeManager(lightmodel=\"ratp\", lightmodel_parameters=ratp_parameters)\n",
    "\n",
    "# build the scene\n",
    "lighting.build(geometry=triangles)\n",
    "\n",
    "print(lighting.leafangledistribution)"
   ]
  },
  {
   "cell_type": "markdown",
   "id": "8a0ea69d",
   "metadata": {},
   "source": [
    "#### Local distribution\n",
    "\n",
    "You need the flag `\"compute voxel\"` and to specify the number of angle classes you need. You will get one distribution for each voxel of your grid and each specy."
   ]
  },
  {
   "cell_type": "code",
   "execution_count": 6,
   "id": "397e12a3",
   "metadata": {},
   "outputs": [
    {
     "name": "stdout",
     "output_type": "stream",
     "text": [
      "Global\n",
      "[[0.009674637223767685, 0.06468549489243054, 0.10705660994810652, 0.10196105003699654, 0.07575759861707439, 0.3044721953841436, 0.06446975879644407, 0.14828246866341796, 0.12364018643761852]]\n",
      "\n",
      "\n",
      " Local\n",
      "[0. 0. 0. 0. 0. 0. 0. 1. 0.]\n",
      "[0. 0. 0. 0. 0. 0. 0. 0. 1.]\n",
      "[0. 0. 1. 0. 0. 0. 0. 0. 0.]\n",
      "[0.         0.         0.55805526 0.44194474 0.         0.\n",
      " 0.         0.         0.        ]\n",
      "[0. 0. 0. 0. 0. 0. 1. 0. 0.]\n",
      "[0. 0. 0. 0. 1. 0. 0. 0. 0.]\n",
      "[0. 0. 0. 0. 0. 1. 0. 0. 0.]\n",
      "[0. 0. 0. 0. 0. 0. 0. 1. 0.]\n",
      "[0. 0. 0. 0. 0. 0. 0. 0. 1.]\n",
      "[0. 0. 0. 0. 1. 0. 0. 0. 0.]\n",
      "[0. 1. 0. 0. 0. 0. 0. 0. 0.]\n",
      "[0. 1. 0. 0. 0. 0. 0. 0. 0.]\n",
      "[0. 1. 0. 0. 0. 0. 0. 0. 0.]\n",
      "[0. 0. 0. 1. 0. 0. 0. 0. 0.]\n",
      "[0. 1. 0. 0. 0. 0. 0. 0. 0.]\n",
      "[0. 0. 0. 0. 1. 0. 0. 0. 0.]\n",
      "[0.         0.         0.41000514 0.58999486 0.         0.\n",
      " 0.         0.         0.        ]\n",
      "[0. 0. 0. 0. 0. 1. 0. 0. 0.]\n",
      "[0. 0. 0. 0. 0. 0. 0. 0. 1.]\n",
      "[0. 0. 1. 0. 0. 0. 0. 0. 0.]\n",
      "[0. 0. 0. 0. 1. 0. 0. 0. 0.]\n",
      "[0. 0. 0. 0. 0. 0. 0. 1. 0.]\n",
      "[1. 0. 0. 0. 0. 0. 0. 0. 0.]\n",
      "[0. 0. 0. 0. 1. 0. 0. 0. 0.]\n",
      "[0. 0. 0. 0. 1. 0. 0. 0. 0.]\n",
      "[0. 0. 0. 0. 0. 1. 0. 0. 0.]\n",
      "[0.         0.         0.58893012 0.41106988 0.         0.\n",
      " 0.         0.         0.        ]\n",
      "[0. 0. 0. 0. 1. 0. 0. 0. 0.]\n",
      "[0. 0. 0. 0. 0. 1. 0. 0. 0.]\n",
      "[0.         0.30170822 0.         0.         0.         0.\n",
      " 0.         0.         0.69829178]\n",
      "[0.         0.         0.         0.17828753 0.         0.\n",
      " 0.         0.         0.82171247]\n",
      "[0. 0. 0. 1. 0. 0. 0. 0. 0.]\n",
      "[0. 0. 0. 0. 0. 1. 0. 0. 0.]\n",
      "[0. 0. 0. 0. 0. 0. 0. 0. 1.]\n",
      "[0. 0. 0. 1. 0. 0. 0. 0. 0.]\n",
      "[0. 1. 0. 0. 0. 0. 0. 0. 0.]\n",
      "[1. 0. 0. 0. 0. 0. 0. 0. 0.]\n",
      "[0. 0. 0. 0. 0. 0. 0. 1. 0.]\n",
      "[0. 0. 0. 1. 0. 0. 0. 0. 0.]\n",
      "[0. 0. 0. 0. 0. 1. 0. 0. 0.]\n",
      "[0. 0. 0. 0. 0. 0. 0. 0. 1.]\n",
      "[0. 0. 1. 0. 0. 0. 0. 0. 0.]\n",
      "[0. 0. 0. 0. 0. 0. 0. 1. 0.]\n",
      "[0. 0. 0. 0. 0. 0. 1. 0. 0.]\n"
     ]
    }
   ],
   "source": [
    "ratp_parameters = { \n",
    "                    \"voxel size\" : [1., 1., 1.],\n",
    "                    \"angle distrib algo\" : \"compute voxel\", \n",
    "                    \"nb angle classes\" : 9\n",
    "                    }\n",
    "\n",
    "# initialize the instance\n",
    "lighting = LightVegeManager(lightmodel=\"ratp\", lightmodel_parameters=ratp_parameters)\n",
    "\n",
    "# build the scene\n",
    "lighting.build(geometry=triangles)\n",
    "\n",
    "print(\"Global\")\n",
    "print(lighting.leafangledistribution[\"global\"])\n",
    "print(\"\\n\\n Local\")\n",
    "for a in lighting.leafangledistribution[\"voxel\"]:\n",
    "    print(a[0])"
   ]
  },
  {
   "cell_type": "markdown",
   "id": "00f716c8",
   "metadata": {},
   "source": [
    "For visualization of the situation"
   ]
  },
  {
   "cell_type": "code",
   "execution_count": 7,
   "id": "9f6ae1ef",
   "metadata": {},
   "outputs": [
    {
     "data": {
      "application/vnd.jupyter.widget-view+json": {
       "model_id": "7632d86906e349c3ab0757bebb81acb5",
       "version_major": 2,
       "version_minor": 0
      },
      "text/plain": [
       "SceneWidget(axes_helper=True, scenes=[{'id': 'Rp6rgkWOhuO88XZzffdSscV0V', 'data': b'x\\xda\\x8d\\x9b{\\x9c\\x8d\\xd5…"
      ]
     },
     "execution_count": 7,
     "metadata": {},
     "output_type": "execute_result"
    }
   ],
   "source": [
    "SceneWidget(lighting.plantGL_nolight(printtriangles=True, printvoxels=True), \n",
    "            position=(-2.5, -2.5, 0.0), \n",
    "            size_display=(600, 400), \n",
    "            plane=True, \n",
    "            size_world = 10, \n",
    "            axes_helper=True)"
   ]
  },
  {
   "cell_type": "markdown",
   "id": "5434504e",
   "metadata": {},
   "source": [
    "### Triangles tesselation in a grid\n",
    "\n",
    "You can reduce the error while transferring a triangle mesh to a voxel mesh by subdividing triangles across multiple voxels.\n",
    "\n",
    "<div>\n",
    "<img src=\"attachment:tesselation_voxels.png\" width=\"500\"/>\n",
    "</div>\n",
    "\n",
    "You only need to precise how many times you want to subdivide the triangles."
   ]
  },
  {
   "cell_type": "code",
   "execution_count": 21,
   "id": "b110d224",
   "metadata": {},
   "outputs": [
    {
     "data": {
      "application/vnd.jupyter.widget-view+json": {
       "model_id": "06b27e827cfe46f784e8d39259bacc84",
       "version_major": 2,
       "version_minor": 0
      },
      "text/plain": [
       "SceneWidget(axes_helper=True, scenes=[{'id': 'w9mu1jQPBqZrSzDk4B45B9Wav', 'data': b'x\\xda\\x94}\\x07\\x9c^E\\xd5~\\…"
      ]
     },
     "execution_count": 21,
     "metadata": {},
     "output_type": "execute_result"
    }
   ],
   "source": [
    "ratp_parameters = { \"voxel size\" : [1., 1., 1.], \"tesselation level\" : 7 }\n",
    "\n",
    "# initialize the instance\n",
    "lighting = LightVegeManager(lightmodel=\"ratp\", lightmodel_parameters=ratp_parameters)\n",
    "\n",
    "# build the scene\n",
    "lighting.build(geometry=triangles)\n",
    "\n",
    "SceneWidget(lighting.plantGL_nolight(printtriangles=True, printvoxels=True), \n",
    "            position=(-2.5, -2.5, 0.0), \n",
    "            size_display=(600, 400), \n",
    "            plane=True, \n",
    "            size_world = 10, \n",
    "            axes_helper=True)"
   ]
  },
  {
   "cell_type": "markdown",
   "id": "f6c2c03b",
   "metadata": {},
   "source": [
    "### Other parameters\n",
    "\n",
    "By default, the number of voxels is dynamically computed following the voxel size and mesh limits, but you can force its number. \n",
    "\n",
    "Voxel size can also be dynamically computed and is based on 3 times the longest triangle."
   ]
  }
 ],
 "metadata": {
  "kernelspec": {
   "display_name": "Python 3 (ipykernel)",
   "language": "python",
   "name": "python3"
  },
  "language_info": {
   "codemirror_mode": {
    "name": "ipython",
    "version": 3
   },
   "file_extension": ".py",
   "mimetype": "text/x-python",
   "name": "python",
   "nbconvert_exporter": "python",
   "pygments_lexer": "ipython3",
   "version": "3.8.17"
  }
 },
 "nbformat": 4,
 "nbformat_minor": 5
}
