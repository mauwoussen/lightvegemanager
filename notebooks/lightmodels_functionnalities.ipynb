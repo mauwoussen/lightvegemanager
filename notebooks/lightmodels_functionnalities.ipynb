{
 "cells": [
  {
   "cell_type": "markdown",
   "id": "971cb814",
   "metadata": {},
   "source": [
    "# Light models options\n",
    "\n",
    "## Content\n",
    "\n",
    "- CARIBU\n",
    "    - sun algo\n",
    "    - virtual sensors\n",
    "    - autres parametre\n",
    "- RATP\n",
    "    - distribution angles foliaires\n",
    "    - tesselation sur la grille\n",
    "    - autre paramètres\n",
    "    \n",
    "## Introduction\n",
    "\n",
    "During our use of lightvegemanager, we added special features for each known light models. This notebook gives you a small introduction to them.\n",
    "\n",
    "The parameters of those features are stored in a dict."
   ]
  },
  {
   "cell_type": "code",
   "execution_count": 1,
   "id": "293a40d2",
   "metadata": {},
   "outputs": [],
   "source": [
    "import os\n",
    "from lightvegemanager.tool import LightVegeManager\n",
    "from pgljupyter import SceneWidget\n",
    "from lightvegemanager.trianglesmesh import random_triangle_generator"
   ]
  },
  {
   "cell_type": "markdown",
   "id": "232237fe",
   "metadata": {},
   "source": [
    "## CARIBU\n",
    "\n",
    "This is the complete parameters you can provide with CARIBU: \n",
    "\n",
    "```python\n",
    "caribu_args = {\n",
    "                    \"sun algo\" : \"ratp\",\n",
    "                    \"sun algo\" : \"caribu\",\n",
    "\n",
    "                    \"caribu opt\" : {\n",
    "                                    band0 = (reflectance, transmittance),\n",
    "                                    band1 = (reflectance, transmittance),\n",
    "                                    ...\n",
    "                                    },\n",
    "                    \"debug\" : bool,\n",
    "                    \"soil mesh\" : bool,\n",
    "                    \"sensors\" : [\"grid\", dxyz, nxyz, orig, vtkpath, \"vtk\"]\n",
    "                }\n",
    "```"
   ]
  },
  {
   "cell_type": "markdown",
   "id": "7a847443",
   "metadata": {},
   "source": [
    "### Computing the sun position\n",
    "\n",
    "In order to compute the sun position, you can use either the algorithm from RATP or CARIBU. The (x, y, z) output is formatted in CARIBU format."
   ]
  },
  {
   "cell_type": "code",
   "execution_count": 2,
   "id": "00259bc9",
   "metadata": {},
   "outputs": [
    {
     "name": "stdout",
     "output_type": "stream",
     "text": [
      "(0.33506553253259913, -0.8798617206271511, -0.3370080733212115)\n"
     ]
    }
   ],
   "source": [
    "caribu_args = { \"sun algo\" : \"caribu\" }\n",
    "\n",
    "lighting = LightVegeManager(lightmodel=\"caribu\", lightmodel_parameters=caribu_args)\n",
    "lighting.build(geometry=[(0., 0., 0.), (1., 0., 0.), (1., 1., 1.)])\n",
    "energy = 500.\n",
    "hour = 15\n",
    "day = 264\n",
    "lighting.run(energy=energy, hour=hour, day=day)\n",
    "\n",
    "sun_caribu = lighting.sun\n",
    "print(sun_caribu)"
   ]
  },
  {
   "cell_type": "code",
   "execution_count": 3,
   "id": "20273c93",
   "metadata": {},
   "outputs": [
    {
     "name": "stdout",
     "output_type": "stream",
     "text": [
      "(0.33241183146897624, -0.8800565622452903, -0.3391206592769639)\n"
     ]
    }
   ],
   "source": [
    "caribu_args = { \"sun algo\" : \"ratp\" }\n",
    "\n",
    "lighting = LightVegeManager(lightmodel=\"caribu\", lightmodel_parameters=caribu_args)\n",
    "lighting.build(geometry=[(0., 0., 0.), (1., 0., 0.), (1., 1., 1.)])\n",
    "energy = 500.\n",
    "hour = 15\n",
    "day = 264\n",
    "lighting.run(energy=energy, hour=hour, day=day)\n",
    "\n",
    "sun_ratp = lighting.sun\n",
    "print(sun_ratp)"
   ]
  },
  {
   "cell_type": "code",
   "execution_count": 4,
   "id": "7b0e119e",
   "metadata": {},
   "outputs": [
    {
     "name": "stdout",
     "output_type": "stream",
     "text": [
      "euclidean dist =  0.003397515564596359  m\n"
     ]
    }
   ],
   "source": [
    "dist = (sum([ (x-y)**2 for x,y in zip(sun_ratp, sun_caribu) ])) ** (1/2)\n",
    "print(\"euclidean dist = \",dist,\" m\")"
   ]
  },
  {
   "cell_type": "markdown",
   "id": "b1febd05",
   "metadata": {},
   "source": [
    "### Grid of virtual sensors\n",
    "\n",
    "If you can to match a grid of voxels, you can generate a set of virtual sensors following a 3D grid. You need to precise the dimension of the grid:\n",
    "- dxyz: `[dx, dy, dz]` size of one voxel\n",
    "- nxyz: `[nx, ny, nz]` number of voxels on each xyz axis\n",
    "- orig: `[0x, 0y, 0z]` origin point of the grid\n",
    "\n",
    "Optionnaly, you can write a geometric visualisation of the sensors in VTK format. You need to provide the file path and the flag `\"vtk\"`."
   ]
  },
  {
   "cell_type": "code",
   "execution_count": 5,
   "id": "556e7a16",
   "metadata": {},
   "outputs": [],
   "source": [
    "# grid dimensions\n",
    "dxyz = [1.] * 3\n",
    "nxyz = [5, 5, 7]\n",
    "orig = [0.] * 3"
   ]
  },
  {
   "cell_type": "code",
   "execution_count": 6,
   "id": "95967c93",
   "metadata": {},
   "outputs": [],
   "source": [
    "# random triangles\n",
    "nb_triangles = 50\n",
    "spheresize = (1., 0.3) # vertices of triangles are the sphere surface\n",
    "triangles = []\n",
    "for i in range(nb_triangles):\n",
    "    triangles.append(random_triangle_generator(worldsize=(0., 5.), spheresize=spheresize))"
   ]
  },
  {
   "cell_type": "code",
   "execution_count": 7,
   "id": "ed022b4c",
   "metadata": {},
   "outputs": [],
   "source": [
    "caribu_args = { \"sensors\" : [\"grid\", dxyz, nxyz, orig] }\n",
    "\n",
    "lighting = LightVegeManager(lightmodel=\"caribu\", lightmodel_parameters=caribu_args, environment={\"infinite\":True})\n",
    "lighting.build(geometry=triangles)"
   ]
  },
  {
   "cell_type": "markdown",
   "id": "d11f570b",
   "metadata": {},
   "source": [
    "You can visualize the grid of sensors with plantGL through the method `plantGL_sensors`"
   ]
  },
  {
   "cell_type": "code",
   "execution_count": 8,
   "id": "8c5f06e2",
   "metadata": {},
   "outputs": [
    {
     "data": {
      "application/vnd.jupyter.widget-view+json": {
       "model_id": "c4b21ddf6b534ee78c313a600f826ee8",
       "version_major": 2,
       "version_minor": 0
      },
      "text/plain": [
       "SceneWidget(axes_helper=True, scenes=[{'id': '5Vqwz9Efxkxj28jdFqCxbxcbp', 'data': b'x\\xda\\x85\\x9ai\\xa3\\x1dE\\x1…"
      ]
     },
     "execution_count": 8,
     "metadata": {},
     "output_type": "execute_result"
    }
   ],
   "source": [
    "SceneWidget(lighting.plantGL_sensors(), \n",
    "            position=(-2.5, -2.5, 0.0), \n",
    "            size_display=(600, 400), \n",
    "            plane=True, \n",
    "            size_world = 10, \n",
    "            axes_helper=True)"
   ]
  },
  {
   "cell_type": "markdown",
   "id": "c33fec94",
   "metadata": {},
   "source": [
    "The lighting results are stored in `sensors_outputs`"
   ]
  },
  {
   "cell_type": "code",
   "execution_count": 9,
   "id": "fcd4be39",
   "metadata": {},
   "outputs": [
    {
     "name": "stdout",
     "output_type": "stream",
     "text": [
      "{'par': {0: 0.4560724473971301, 1: 0.5597166461228308, 2: 0.6986380128556864, 3: 0.6845203904383483, 4: 0.6906468953330336, 5: 0.9987378235520781, 6: 0.5310573079813798, 7: 0.467795931803776, 8: 0.6538145674220506, 9: 0.7236034554986488, 10: 0.8572887301698419, 11: 0.998669244158108, 12: 0.511913521816071, 13: 0.39631908042333885, 14: 0.46969240011946356, 15: 0.5903884616056262, 16: 0.9084580599815228, 17: 0.9990156380849111, 18: 0.48702812641362986, 19: 0.4205418304454306, 20: 0.5971990625876635, 21: 0.8058332876390724, 22: 0.8607864300703283, 23: 0.9990854702131475, 24: 0.4501434457248188, 25: 0.5894430533669032, 26: 0.6723992524655475, 27: 0.7648694261577343, 28: 0.9318459165061888, 29: 0.9993280153519044, 30: 0.45474822288861627, 31: 0.546989522018469, 32: 0.658102048001646, 33: 0.7095541719414544, 34: 0.7739174998275351, 35: 0.9962935671991479, 36: 0.5377586676014298, 37: 0.5382639317346481, 38: 0.5408160927438361, 39: 0.7935959927971068, 40: 0.920196831289358, 41: 0.9975696089957445, 42: 0.4575451377636548, 43: 0.4036439194570512, 44: 0.4629005218114519, 45: 0.7549075175888795, 46: 0.9344286303567234, 47: 0.9973638583526065, 48: 0.3593421074458185, 49: 0.464355422688018, 50: 0.4894984165408405, 51: 0.7187810081555954, 52: 0.8779509595989947, 53: 0.9968141657812191, 54: 0.4374935829159728, 55: 0.5195157706289963, 56: 0.6565213414057143, 57: 0.7729795069285983, 58: 0.8623410211362983, 59: 0.9979269460524829, 60: 0.44586454300295997, 61: 0.4348611335897764, 62: 0.6148082004039533, 63: 0.8324504678080485, 64: 0.9124491374752436, 65: 0.9983942731821154, 66: 0.47642684964200865, 67: 0.515955760765495, 68: 0.5153631174483889, 69: 0.7996662166867451, 70: 0.8669882197327463, 71: 0.9613470264092893, 72: 0.3774759244588849, 73: 0.37054974913539224, 74: 0.6067861089636581, 75: 0.7522868804721149, 76: 0.8257344311627344, 77: 0.9915175072021412, 78: 0.46610953441102604, 79: 0.4176267985376496, 80: 0.5816549331691615, 81: 0.5340600258694032, 82: 0.6291900376440045, 83: 0.9824065502754242, 84: 0.41011567246694364, 85: 0.49749834575770147, 86: 0.6504402992478163, 87: 0.7268510492952461, 88: 0.8716554984611687, 89: 0.9949911274718047, 90: 0.4753288758620162, 91: 0.6264822051112617, 92: 0.6350025517881998, 93: 0.8457093231724656, 94: 0.8496522506896284, 95: 0.9978168938158875, 96: 0.520343405638044, 97: 0.5752986948647784, 98: 0.6154304899020375, 99: 0.6507350368554838, 100: 0.870876811854064, 101: 0.9110524680856302, 102: 0.48391879596716003, 103: 0.4379432719551198, 104: 0.6559593103708854, 105: 0.7057688255344525, 106: 0.7489938563512457, 107: 0.9359418936260193, 108: 0.47316970901611205, 109: 0.4901027314173215, 110: 0.6565758189863061, 111: 0.7386660945797882, 112: 0.6809050141156036, 113: 0.9863509160454065, 114: 0.497664038000291, 115: 0.5620618011591737, 116: 0.680023672013987, 117: 0.8132931975715953, 118: 0.8359532384794398, 119: 0.9944751487289748, 120: 0.49410835028203914, 121: 0.6335778821330184, 122: 0.6995101564860964, 123: 0.7957274522610597, 124: 0.7714318345743875, 125: 0.9983821980240223, 126: 0.523007540302683, 127: 0.5913991658596133, 128: 0.723803258296944, 129: 0.7780059226307945, 130: 0.9284260571472582, 131: 0.98273443024487, 132: 0.5652129376170574, 133: 0.5512760273474778, 134: 0.688505915312587, 135: 0.8013038104452361, 136: 0.8600777428183627, 137: 0.9911055809424814, 138: 0.47240896668946614, 139: 0.3742115838914664, 140: 0.48899247235676224, 141: 0.790849797442867, 142: 0.8013351276529527, 143: 0.9977262538727758, 144: 0.49695358186675836, 145: 0.5766839072377725, 146: 0.6534937344672704, 147: 0.7943642004984268, 148: 0.8327292330291998, 149: 0.9987524980695914}}\n"
     ]
    }
   ],
   "source": [
    "energy = 500.\n",
    "hour = 15\n",
    "day = 264\n",
    "lighting.run(energy=energy, hour=hour, day=day)\n",
    "\n",
    "print(lighting.sensors_outputs)"
   ]
  },
  {
   "cell_type": "markdown",
   "id": "028f5975",
   "metadata": {},
   "source": [
    "You can also visualize the results in the plantGL scene"
   ]
  },
  {
   "cell_type": "code",
   "execution_count": 10,
   "id": "3258001b",
   "metadata": {},
   "outputs": [
    {
     "data": {
      "application/vnd.jupyter.widget-view+json": {
       "model_id": "8fb46ebde7124a8ea12027669a3774bd",
       "version_major": 2,
       "version_minor": 0
      },
      "text/plain": [
       "SceneWidget(axes_helper=True, scenes=[{'id': '0vMmSlh4jzpepdy4s3WDR4UPn', 'data': b'x\\xda\\x8d\\x9b\\xeb\\x83VU\\x1…"
      ]
     },
     "execution_count": 10,
     "metadata": {},
     "output_type": "execute_result"
    }
   ],
   "source": [
    "SceneWidget(lighting.plantGL_sensors(light=True), \n",
    "            position=(-2.5, -2.5, 0.0), \n",
    "            size_display=(600, 400), \n",
    "            plane=True, \n",
    "            size_world = 10, \n",
    "            axes_helper=True)"
   ]
  },
  {
   "cell_type": "code",
   "execution_count": 11,
   "id": "5f2b40d2",
   "metadata": {},
   "outputs": [
    {
     "data": {
      "application/vnd.jupyter.widget-view+json": {
       "model_id": "2b5e06124ce741ab8849cdad61f61a18",
       "version_major": 2,
       "version_minor": 0
      },
      "text/plain": [
       "SceneWidget(axes_helper=True, scenes=[{'id': 'A5C5KpsvluofwnlhgGz2Qa4N7', 'data': b'x\\xda\\x8d\\x9c\\t\\x98\\x16\\xc…"
      ]
     },
     "execution_count": 11,
     "metadata": {},
     "output_type": "execute_result"
    }
   ],
   "source": [
    "SceneWidget(lighting.plantGL_sensors(light=True) + lighting.plantGL_nolight(), \n",
    "            position=(-2.5, -2.5, 0.0), \n",
    "            size_display=(600, 400), \n",
    "            plane=True, \n",
    "            size_world = 10, \n",
    "            axes_helper=True)"
   ]
  },
  {
   "cell_type": "markdown",
   "id": "7b4fe6e1",
   "metadata": {},
   "source": [
    "### Other parameters\n",
    "\n",
    "In additional features, you can activate the debug mode in CARIBU, which describe the internal steps."
   ]
  },
  {
   "cell_type": "code",
   "execution_count": 12,
   "id": "494b7ef9",
   "metadata": {},
   "outputs": [
    {
     "name": "stdout",
     "output_type": "stream",
     "text": [
      "Prepare scene 1\n",
      "done\n"
     ]
    },
    {
     "ename": "FileNotFoundError",
     "evalue": "[Errno 2] No such file or directory: './caribuscene_2255566074448\\\\cscene.can'",
     "output_type": "error",
     "traceback": [
      "\u001b[1;31m---------------------------------------------------------------------------\u001b[0m",
      "\u001b[1;31mFileNotFoundError\u001b[0m                         Traceback (most recent call last)",
      "Cell \u001b[1;32mIn[12], line 9\u001b[0m\n\u001b[0;32m      7\u001b[0m hour \u001b[38;5;241m=\u001b[39m \u001b[38;5;241m15\u001b[39m\n\u001b[0;32m      8\u001b[0m day \u001b[38;5;241m=\u001b[39m \u001b[38;5;241m264\u001b[39m\n\u001b[1;32m----> 9\u001b[0m \u001b[43mlighting\u001b[49m\u001b[38;5;241;43m.\u001b[39;49m\u001b[43mrun\u001b[49m\u001b[43m(\u001b[49m\u001b[43menergy\u001b[49m\u001b[38;5;241;43m=\u001b[39;49m\u001b[43menergy\u001b[49m\u001b[43m,\u001b[49m\u001b[43m \u001b[49m\u001b[43mhour\u001b[49m\u001b[38;5;241;43m=\u001b[39;49m\u001b[43mhour\u001b[49m\u001b[43m,\u001b[49m\u001b[43m \u001b[49m\u001b[43mday\u001b[49m\u001b[38;5;241;43m=\u001b[39;49m\u001b[43mday\u001b[49m\u001b[43m)\u001b[49m\n",
      "File \u001b[1;32mc:\\users\\mwoussen\\cdd\\codes\\dev\\lightvegemanager\\src\\lightvegemanager\\tool.py:510\u001b[0m, in \u001b[0;36mLightVegeManager.run\u001b[1;34m(self, energy, day, hour, parunit, truesolartime, id_sensors)\u001b[0m\n\u001b[0;32m    508\u001b[0m \u001b[38;5;28;01mif\u001b[39;00m sun_sky_option \u001b[38;5;241m==\u001b[39m \u001b[38;5;124m\"\u001b[39m\u001b[38;5;124mmix\u001b[39m\u001b[38;5;124m\"\u001b[39m:\n\u001b[0;32m    509\u001b[0m     start \u001b[38;5;241m=\u001b[39m time\u001b[38;5;241m.\u001b[39mtime()\n\u001b[1;32m--> 510\u001b[0m     raw_sun, aggregated_sun \u001b[38;5;241m=\u001b[39m \u001b[43mrun_caribu\u001b[49m\u001b[43m(\u001b[49m\u001b[38;5;241;43m*\u001b[39;49m\u001b[43marg\u001b[49m\u001b[43m)\u001b[49m\n\u001b[0;32m    511\u001b[0m     arg[\u001b[38;5;241m0\u001b[39m] \u001b[38;5;241m=\u001b[39m c_scene_sky\n\u001b[0;32m    512\u001b[0m     raw_sky, aggregated_sky \u001b[38;5;241m=\u001b[39m run_caribu(\u001b[38;5;241m*\u001b[39marg)\n",
      "File \u001b[1;32mc:\\users\\mwoussen\\cdd\\codes\\dev\\lightvegemanager\\src\\lightvegemanager\\CARIBUinputs.py:370\u001b[0m, in \u001b[0;36mrun_caribu\u001b[1;34m(c_scene, direct_active, infinite, sensors, energy)\u001b[0m\n\u001b[0;32m    329\u001b[0m \u001b[38;5;250m\u001b[39m\u001b[38;5;124;03m\"\"\"runs caribu depending on input options\u001b[39;00m\n\u001b[0;32m    330\u001b[0m \n\u001b[0;32m    331\u001b[0m \u001b[38;5;124;03m:param c_scene: instance of CaribuScene containing geometry, light source(s), opt etc...\u001b[39;00m\n\u001b[1;32m   (...)\u001b[0m\n\u001b[0;32m    367\u001b[0m \u001b[38;5;124;03m:rtype: dict of dict, dict of dict\u001b[39;00m\n\u001b[0;32m    368\u001b[0m \u001b[38;5;124;03m\"\"\"\u001b[39;00m    \n\u001b[0;32m    369\u001b[0m \u001b[38;5;28;01mif\u001b[39;00m sensors \u001b[38;5;129;01mis\u001b[39;00m \u001b[38;5;28;01mNone\u001b[39;00m :\n\u001b[1;32m--> 370\u001b[0m     raw, aggregated \u001b[38;5;241m=\u001b[39m \u001b[43mc_scene\u001b[49m\u001b[38;5;241;43m.\u001b[39;49m\u001b[43mrun\u001b[49m\u001b[43m(\u001b[49m\u001b[43mdirect\u001b[49m\u001b[38;5;241;43m=\u001b[39;49m\u001b[43mdirect_active\u001b[49m\u001b[43m,\u001b[49m\u001b[43m \u001b[49m\u001b[43minfinite\u001b[49m\u001b[38;5;241;43m=\u001b[39;49m\u001b[43minfinite\u001b[49m\u001b[43m)\u001b[49m\n\u001b[0;32m    371\u001b[0m \u001b[38;5;28;01melse\u001b[39;00m :\n\u001b[0;32m    372\u001b[0m     raw, aggregated \u001b[38;5;241m=\u001b[39m c_scene\u001b[38;5;241m.\u001b[39mrun(direct\u001b[38;5;241m=\u001b[39mdirect_active, infinite\u001b[38;5;241m=\u001b[39minfinite, \n\u001b[0;32m    373\u001b[0m                                                         sensors\u001b[38;5;241m=\u001b[39msensors)\n",
      "File \u001b[1;32m~\\AppData\\Local\\miniconda3\\envs\\mobidivpy37\\lib\\site-packages\\alinea.caribu-8.0.7-py3.8.egg\\alinea\\caribu\\CaribuScene.py:568\u001b[0m, in \u001b[0;36mCaribuScene.run\u001b[1;34m(self, direct, infinite, d_sphere, layers, height, screen_size, screen_resolution, sensors, split_face, simplify)\u001b[0m\n\u001b[0;32m    566\u001b[0m         \u001b[38;5;28mself\u001b[39m\u001b[38;5;241m.\u001b[39mcanfile \u001b[38;5;241m=\u001b[39m os\u001b[38;5;241m.\u001b[39mpath\u001b[38;5;241m.\u001b[39mjoin(\u001b[38;5;28mself\u001b[39m\u001b[38;5;241m.\u001b[39mtempdir,\u001b[38;5;124m'\u001b[39m\u001b[38;5;124mcscene.can\u001b[39m\u001b[38;5;124m'\u001b[39m)\n\u001b[0;32m    567\u001b[0m         \u001b[38;5;28mself\u001b[39m\u001b[38;5;241m.\u001b[39moptfile \u001b[38;5;241m=\u001b[39m os\u001b[38;5;241m.\u001b[39mpath\u001b[38;5;241m.\u001b[39mjoin(\u001b[38;5;28mself\u001b[39m\u001b[38;5;241m.\u001b[39mtempdir,\u001b[38;5;124m'\u001b[39m\u001b[38;5;124mband0.opt\u001b[39m\u001b[38;5;124m'\u001b[39m)\n\u001b[1;32m--> 568\u001b[0m         \u001b[43mwrite_scene\u001b[49m\u001b[43m(\u001b[49m\u001b[43mtriangles\u001b[49m\u001b[43m,\u001b[49m\u001b[43m \u001b[49m\u001b[43mmaterials\u001b[49m\u001b[43m,\u001b[49m\u001b[43m \u001b[49m\u001b[43mcanfile\u001b[49m\u001b[43m \u001b[49m\u001b[38;5;241;43m=\u001b[39;49m\u001b[43m \u001b[49m\u001b[38;5;28;43mself\u001b[39;49m\u001b[38;5;241;43m.\u001b[39;49m\u001b[43mcanfile\u001b[49m\u001b[43m,\u001b[49m\u001b[43m \u001b[49m\u001b[43moptfile\u001b[49m\u001b[43m \u001b[49m\u001b[38;5;241;43m=\u001b[39;49m\u001b[43m \u001b[49m\u001b[38;5;28;43mself\u001b[39;49m\u001b[38;5;241;43m.\u001b[39;49m\u001b[43moptfile\u001b[49m\u001b[43m)\u001b[49m\n\u001b[0;32m    570\u001b[0m \u001b[38;5;28;01melse\u001b[39;00m:\n\u001b[0;32m    571\u001b[0m     \u001b[38;5;66;03m# self.materialvalues is a cache for the computation of the material list\u001b[39;00m\n\u001b[0;32m    572\u001b[0m     materials \u001b[38;5;241m=\u001b[39m \u001b[38;5;28mself\u001b[39m\u001b[38;5;241m.\u001b[39mmaterialvalues\n",
      "File \u001b[1;32m~\\AppData\\Local\\miniconda3\\envs\\mobidivpy37\\lib\\site-packages\\alinea.caribu-8.0.7-py3.8.egg\\alinea\\caribu\\caribu.py:177\u001b[0m, in \u001b[0;36mwrite_scene\u001b[1;34m(triangles, materials, canfile, optfile)\u001b[0m\n\u001b[0;32m    175\u001b[0m o_string, labels \u001b[38;5;241m=\u001b[39m opt_string_and_labels(materials)\n\u001b[0;32m    176\u001b[0m can_string \u001b[38;5;241m=\u001b[39m triangles_string(triangles, labels)\n\u001b[1;32m--> 177\u001b[0m \u001b[38;5;28;43mopen\u001b[39;49m\u001b[43m(\u001b[49m\u001b[43mcanfile\u001b[49m\u001b[43m,\u001b[49m\u001b[38;5;124;43m'\u001b[39;49m\u001b[38;5;124;43mw\u001b[39;49m\u001b[38;5;124;43m'\u001b[39;49m\u001b[43m)\u001b[49m\u001b[38;5;241m.\u001b[39mwrite(can_string)\n\u001b[0;32m    178\u001b[0m \u001b[38;5;28mopen\u001b[39m(optfile,\u001b[38;5;124m'\u001b[39m\u001b[38;5;124mw\u001b[39m\u001b[38;5;124m'\u001b[39m)\u001b[38;5;241m.\u001b[39mwrite(o_string)\n",
      "\u001b[1;31mFileNotFoundError\u001b[0m: [Errno 2] No such file or directory: './caribuscene_2255566074448\\\\cscene.can'"
     ]
    }
   ],
   "source": [
    "caribu_args = { \"debug\" : True }\n",
    "\n",
    "lighting = LightVegeManager(lightmodel=\"caribu\", lightmodel_parameters=caribu_args)\n",
    "lighting.build(geometry=[(0., 0., 0.), (1., 0., 0.), (1., 1., 1.)])\n",
    "\n",
    "energy = 500.\n",
    "hour = 15\n",
    "day = 264\n",
    "lighting.run(energy=energy, hour=hour, day=day)"
   ]
  },
  {
   "cell_type": "markdown",
   "id": "0d638836",
   "metadata": {},
   "source": [
    "You can also use the soilmesh option and get the lighting hitting the soil. The method `soilenergy` get you access to its result."
   ]
  },
  {
   "cell_type": "code",
   "execution_count": 13,
   "id": "bf20d164",
   "metadata": {},
   "outputs": [
    {
     "name": "stdout",
     "output_type": "stream",
     "text": [
      "{'Qi': 0.6750540873627096, 'Einc': 0.6750540873627096}\n"
     ]
    }
   ],
   "source": [
    "caribu_args = { \"soil mesh\" : True }\n",
    "\n",
    "lighting = LightVegeManager(lightmodel=\"caribu\", lightmodel_parameters=caribu_args)\n",
    "lighting.build(geometry=[(0., 0., 0.), (1., 0., 0.), (1., 1., 1.)])\n",
    "\n",
    "energy = 500.\n",
    "hour = 15\n",
    "day = 264\n",
    "lighting.run(energy=energy, hour=hour, day=day)\n",
    "\n",
    "print(lighting.soilenergy)"
   ]
  },
  {
   "cell_type": "markdown",
   "id": "a08a758b",
   "metadata": {},
   "source": [
    "## RATP\n",
    "\n",
    "This is the complete parameters you can provide with CARIBU: \n",
    "\n",
    "\n",
    "```python\n",
    "ratp_args = {\n",
    "                # Grid specifications\n",
    "                \"voxel size\" : [dx, dy, dz],\n",
    "                \"voxel size\" : \"dynamic\",\n",
    "                \n",
    "                \"full grid\" : bool,\n",
    "\n",
    "                \"origin\" : [xorigin, yorigin, zorigin],\n",
    "                \"origin\" : [xorigin, yorigin],\n",
    "\n",
    "                \"number voxels\" : [nx, ny, nz],\n",
    "                \"grid slicing\" : \"ground = 0.\"\n",
    "                \"tesselation level\" : int\n",
    "\n",
    "                # Leaf angle distribution\n",
    "                \"angle distrib algo\" : \"compute global\",\n",
    "                \"angle distrib algo\" : \"compute voxel\",\n",
    "                \"angle distrib algo\" : \"file\",\n",
    "\n",
    "                \"nb angle classes\" : int,\n",
    "                \"angle distrib file\" : filepath,\n",
    "\n",
    "                # Vegetation type\n",
    "                \"soil reflectance\" : [reflectance_band0, reflectance_band1, ...],\n",
    "                \"reflectance coefficients\" : [reflectance_band0, reflectance_band1, ...],\n",
    "                \"mu\" : [mu_scene0, mu_scene1, ...]\n",
    "            }\n",
    "```"
   ]
  },
  {
   "cell_type": "markdown",
   "id": "063c07d8",
   "metadata": {},
   "source": [
    "### Leaf angle distribution\n",
    "\n",
    "Leaf angle distribution can be generated in 3 ways:\n",
    "- from a file, one distribution per specy\n",
    "- global and dynamically, it generates a distribution from a triangles mesh for each specy\n",
    "- per voxel and dynamically, it generates a distribution from the triangles located in each voxel"
   ]
  },
  {
   "cell_type": "code",
   "execution_count": 14,
   "id": "17d41b51",
   "metadata": {},
   "outputs": [],
   "source": [
    "# random triangles\n",
    "nb_triangles = 50\n",
    "spheresize = (1., 0.3) # vertices of triangles are the sphere surface\n",
    "worldsize = (0., 5.)\n",
    "triangles = [random_triangle_generator(worldsize=worldsize, spheresize=spheresize) for i in range(nb_triangles)]"
   ]
  },
  {
   "cell_type": "markdown",
   "id": "d6755645",
   "metadata": {},
   "source": [
    "#### File\n",
    "\n",
    "You need the flag `\"file\"` and to specify the file path."
   ]
  },
  {
   "cell_type": "code",
   "execution_count": 15,
   "id": "13097ed4",
   "metadata": {},
   "outputs": [
    {
     "name": "stdout",
     "output_type": "stream",
     "text": [
      "{'global': [[0.1382, 0.1664, 0.1972, 0.1925, 0.1507, 0.0903, 0.0425, 0.0172, 0.005]]}\n"
     ]
    }
   ],
   "source": [
    "filepath = os.path.join(os.path.dirname(os.path.abspath(\"\")), \"data\", \"luzerne_angle_distrib.data\")\n",
    "ratp_parameters = { \"angle distrib algo\" : \"file\", \"angle distrib file\" : filepath }\n",
    "\n",
    "# initialize the instance\n",
    "lighting = LightVegeManager(lightmodel=\"ratp\", lightmodel_parameters=ratp_parameters)\n",
    "\n",
    "# build the scene\n",
    "lighting.build(geometry=triangles)\n",
    "\n",
    "print(lighting.leafangledistribution)"
   ]
  },
  {
   "cell_type": "markdown",
   "id": "85daaa61",
   "metadata": {},
   "source": [
    "#### Global distribution\n",
    "\n",
    "You need the flag `\"compute global\"` and to specify the number of angle classes you need."
   ]
  },
  {
   "cell_type": "code",
   "execution_count": 16,
   "id": "7c882e53",
   "metadata": {},
   "outputs": [
    {
     "name": "stdout",
     "output_type": "stream",
     "text": [
      "{'global': [[0.0, 0.19273415359521537, 0.11554748213196556, 0.17677495458860615, 0.18680529870130733, 0.10087211486436341, 0.03267928815256627, 0.1403135320597791, 0.05427317590619683]]}\n"
     ]
    }
   ],
   "source": [
    "ratp_parameters = { \"angle distrib algo\" : \"compute global\", \"nb angle classes\" : 9 }\n",
    "\n",
    "# initialize the instance\n",
    "lighting = LightVegeManager(lightmodel=\"ratp\", lightmodel_parameters=ratp_parameters)\n",
    "\n",
    "# build the scene\n",
    "lighting.build(geometry=triangles)\n",
    "\n",
    "print(lighting.leafangledistribution)"
   ]
  },
  {
   "cell_type": "markdown",
   "id": "8a0ea69d",
   "metadata": {},
   "source": [
    "#### Local distribution\n",
    "\n",
    "You need the flag `\"compute voxel\"` and to specify the number of angle classes you need. You will get one distribution for each voxel of your grid and each specy."
   ]
  },
  {
   "cell_type": "code",
   "execution_count": 17,
   "id": "397e12a3",
   "metadata": {},
   "outputs": [
    {
     "name": "stdout",
     "output_type": "stream",
     "text": [
      "Global\n",
      "[[0.0, 0.19273415359521537, 0.11554748213196556, 0.17677495458860615, 0.18680529870130733, 0.10087211486436341, 0.03267928815256627, 0.1403135320597791, 0.05427317590619683]]\n",
      "\n",
      "\n",
      " Local\n",
      "[0. 0. 0. 0. 0. 0. 0. 0. 1.]\n",
      "[0. 0. 0. 0. 1. 0. 0. 0. 0.]\n",
      "[0. 0. 0. 0. 0. 1. 0. 0. 0.]\n",
      "[0. 0. 1. 0. 0. 0. 0. 0. 0.]\n",
      "[0. 1. 0. 0. 0. 0. 0. 0. 0.]\n",
      "[0.         0.         0.99043699 0.         0.         0.\n",
      " 0.         0.         0.00956301]\n",
      "[0. 0. 0. 0. 0. 0. 1. 0. 0.]\n",
      "[0. 0. 1. 0. 0. 0. 0. 0. 0.]\n",
      "[0.         0.         0.         0.95844425 0.         0.\n",
      " 0.         0.04155575 0.        ]\n",
      "[0. 0. 0. 0. 1. 0. 0. 0. 0.]\n",
      "[0. 1. 0. 0. 0. 0. 0. 0. 0.]\n",
      "[0. 0. 0. 1. 0. 0. 0. 0. 0.]\n",
      "[0.         0.         0.         0.02857925 0.         0.\n",
      " 0.97142075 0.         0.        ]\n",
      "[0. 0. 0. 0. 1. 0. 0. 0. 0.]\n",
      "[0. 0. 0. 0. 1. 0. 0. 0. 0.]\n",
      "[0. 0. 0. 0. 1. 0. 0. 0. 0.]\n",
      "[0.       0.       0.       0.303138 0.       0.696862 0.       0.\n",
      " 0.      ]\n",
      "[0. 0. 0. 0. 0. 0. 0. 1. 0.]\n",
      "[0. 0. 1. 0. 0. 0. 0. 0. 0.]\n",
      "[0. 0. 0. 1. 0. 0. 0. 0. 0.]\n",
      "[0. 1. 0. 0. 0. 0. 0. 0. 0.]\n",
      "[0. 1. 0. 0. 0. 0. 0. 0. 0.]\n",
      "[0. 0. 0. 0. 0. 1. 0. 0. 0.]\n",
      "[0. 0. 0. 0. 0. 0. 0. 0. 1.]\n",
      "[0. 1. 0. 0. 0. 0. 0. 0. 0.]\n",
      "[0. 0. 0. 0. 0. 0. 0. 1. 0.]\n",
      "[0. 0. 1. 0. 0. 0. 0. 0. 0.]\n",
      "[0. 0. 0. 0. 0. 0. 0. 0. 1.]\n",
      "[0. 1. 0. 0. 0. 0. 0. 0. 0.]\n",
      "[0. 0. 0. 1. 0. 0. 0. 0. 0.]\n",
      "[0. 0. 0. 1. 0. 0. 0. 0. 0.]\n",
      "[0. 0. 0. 0. 0. 0. 1. 0. 0.]\n",
      "[0. 1. 0. 0. 0. 0. 0. 0. 0.]\n",
      "[0. 0. 0. 0. 1. 0. 0. 0. 0.]\n",
      "[0. 0. 0. 0. 1. 0. 0. 0. 0.]\n",
      "[0. 0. 0. 0. 0. 1. 0. 0. 0.]\n",
      "[0.         0.         0.         0.         0.23071426 0.\n",
      " 0.         0.76928574 0.        ]\n",
      "[0. 0. 0. 1. 0. 0. 0. 0. 0.]\n",
      "[0. 0. 0. 0. 0. 0. 1. 0. 0.]\n",
      "[0. 0. 0. 0. 0. 0. 0. 0. 1.]\n",
      "[0. 0. 0. 1. 0. 0. 0. 0. 0.]\n",
      "[0. 0. 1. 0. 0. 0. 0. 0. 0.]\n",
      "[0. 0. 0. 0. 0. 0. 1. 0. 0.]\n",
      "[0. 0. 0. 1. 0. 0. 0. 0. 0.]\n"
     ]
    }
   ],
   "source": [
    "ratp_parameters = { \n",
    "                    \"voxel size\" : [1., 1., 1.],\n",
    "                    \"angle distrib algo\" : \"compute voxel\", \n",
    "                    \"nb angle classes\" : 9\n",
    "                    }\n",
    "\n",
    "# initialize the instance\n",
    "lighting = LightVegeManager(lightmodel=\"ratp\", lightmodel_parameters=ratp_parameters)\n",
    "\n",
    "# build the scene\n",
    "lighting.build(geometry=triangles)\n",
    "\n",
    "print(\"Global\")\n",
    "print(lighting.leafangledistribution[\"global\"])\n",
    "print(\"\\n\\n Local\")\n",
    "for a in lighting.leafangledistribution[\"voxel\"]:\n",
    "    print(a[0])"
   ]
  },
  {
   "cell_type": "markdown",
   "id": "00f716c8",
   "metadata": {},
   "source": [
    "For visualization of the situation"
   ]
  },
  {
   "cell_type": "code",
   "execution_count": 18,
   "id": "9f6ae1ef",
   "metadata": {},
   "outputs": [
    {
     "data": {
      "application/vnd.jupyter.widget-view+json": {
       "model_id": "aec11614bc4040c5a887b0de6aefeebe",
       "version_major": 2,
       "version_minor": 0
      },
      "text/plain": [
       "SceneWidget(axes_helper=True, scenes=[{'id': 'usAftBR7F6qaaxhGICGSDolmJ', 'data': b'x\\xda\\x8d\\x9b\\x0b\\x9cNe\\xf…"
      ]
     },
     "execution_count": 18,
     "metadata": {},
     "output_type": "execute_result"
    }
   ],
   "source": [
    "SceneWidget(lighting.plantGL_nolight(printtriangles=True, printvoxels=True), \n",
    "            position=(-2.5, -2.5, 0.0), \n",
    "            size_display=(600, 400), \n",
    "            plane=True, \n",
    "            size_world = 10, \n",
    "            axes_helper=True)"
   ]
  },
  {
   "attachments": {
    "tesselation_voxels.png": {
     "image/png": "[encoded data removed]"
    }
   },
   "cell_type": "markdown",
   "id": "5434504e",
   "metadata": {},
   "source": [
    "### Triangles tesselation in a grid\n",
    "\n",
    "You can reduce the error while transferring a triangle mesh to a voxel mesh by subdividing triangles across multiple voxels.\n",
    "\n",
    "<div>\n",
    "<img src=\"attachment:tesselation_voxels.png\" width=\"500\"/>\n",
    "</div>\n",
    "\n",
    "You only need to precise how many times you want to subdivide the triangles."
   ]
  },
  {
   "cell_type": "code",
   "execution_count": 21,
   "id": "b110d224",
   "metadata": {},
   "outputs": [
    {
     "data": {
      "application/vnd.jupyter.widget-view+json": {
       "model_id": "06b27e827cfe46f784e8d39259bacc84",
       "version_major": 2,
       "version_minor": 0
      },
      "text/plain": [
       "SceneWidget(axes_helper=True, scenes=[{'id': 'w9mu1jQPBqZrSzDk4B45B9Wav', 'data': b'x\\xda\\x94}\\x07\\x9c^E\\xd5~\\…"
      ]
     },
     "execution_count": 21,
     "metadata": {},
     "output_type": "execute_result"
    }
   ],
   "source": [
    "ratp_parameters = { \"voxel size\" : [1., 1., 1.], \"tesselation level\" : 7 }\n",
    "\n",
    "# initialize the instance\n",
    "lighting = LightVegeManager(lightmodel=\"ratp\", lightmodel_parameters=ratp_parameters)\n",
    "\n",
    "# build the scene\n",
    "lighting.build(geometry=triangles)\n",
    "\n",
    "SceneWidget(lighting.plantGL_nolight(printtriangles=True, printvoxels=True), \n",
    "            position=(-2.5, -2.5, 0.0), \n",
    "            size_display=(600, 400), \n",
    "            plane=True, \n",
    "            size_world = 10, \n",
    "            axes_helper=True)"
   ]
  },
  {
   "cell_type": "markdown",
   "id": "f6c2c03b",
   "metadata": {},
   "source": [
    "### Other parameters\n",
    "\n",
    "By default, the number of voxels is dynamically computed following the voxel size and mesh limits, but you can force its number. \n",
    "\n",
    "Voxel size can also be dynamically computed and is based on 3 times the longest triangle."
   ]
  }
 ],
 "metadata": {
  "kernelspec": {
   "display_name": "Python 3 (ipykernel)",
   "language": "python",
   "name": "python3"
  },
  "language_info": {
   "codemirror_mode": {
    "name": "ipython",
    "version": 3
   },
   "file_extension": ".py",
   "mimetype": "text/x-python",
   "name": "python",
   "nbconvert_exporter": "python",
   "pygments_lexer": "ipython3",
   "version": "3.8.17"
  }
 },
 "nbformat": 4,
 "nbformat_minor": 5
}
