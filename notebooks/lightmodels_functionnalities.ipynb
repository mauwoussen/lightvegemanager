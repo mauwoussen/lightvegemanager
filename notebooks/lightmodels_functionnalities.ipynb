{
 "cells": [
  {
   "cell_type": "markdown",
   "id": "971cb814",
   "metadata": {},
   "source": [
    "# Light models options\n",
    "\n",
    "## Content\n",
    "\n",
    "- CARIBU\n",
    "    - sun algo\n",
    "    - virtual sensors\n",
    "    - autres parametre\n",
    "- RATP\n",
    "    - distribution angles foliaires\n",
    "    - tesselation sur la grille\n",
    "    - autre paramètres\n",
    "    \n",
    "## Introduction\n",
    "\n",
    "During our use of lightvegemanager, we added special features for each known light models. Here is a little introduction to them."
   ]
  },
  {
   "cell_type": "code",
   "execution_count": 1,
   "id": "293a40d2",
   "metadata": {},
   "outputs": [],
   "source": [
    "import os\n",
    "from lightvegemanager.tool import LightVegeManager\n",
    "from pgljupyter import SceneWidget\n",
    "from lightvegemanager.trianglesmesh import random_triangle_generator"
   ]
  },
  {
   "cell_type": "markdown",
   "id": "232237fe",
   "metadata": {},
   "source": [
    "## CARIBU\n",
    "\n",
    "You can provide parameters according to the light model. The parameters are stored in a dict. This is the complete parameters you can provide with CARIBU: \n",
    "\n",
    "```python\n",
    "caribu_args = {\n",
    "                    \"sun algo\" : \"ratp\",\n",
    "                    \"sun algo\" : \"caribu\",\n",
    "\n",
    "                    \"caribu opt\" : {\n",
    "                                    band0 = (reflectance, transmittance),\n",
    "                                    band1 = (reflectance, transmittance),\n",
    "                                    ...\n",
    "                                    },\n",
    "                    \"debug\" : bool,\n",
    "                    \"soil mesh\" : bool,\n",
    "                    \"sensors\" : [\"grid\", dxyz, nxyz, orig, vtkpath, \"vtk\"]\n",
    "                }\n",
    "```"
   ]
  },
  {
   "cell_type": "markdown",
   "id": "7a847443",
   "metadata": {},
   "source": [
    "### Computing the sun position\n",
    "\n",
    "In order to compute the sun position, you can use either the algorithm from RATP or CARIBU. The (x, y, z) output is formatted in CARIBU format."
   ]
  },
  {
   "cell_type": "code",
   "execution_count": 4,
   "id": "00259bc9",
   "metadata": {},
   "outputs": [
    {
     "name": "stdout",
     "output_type": "stream",
     "text": [
      "(0.33506553253259913, -0.8798617206271511, -0.3370080733212115)\n"
     ]
    }
   ],
   "source": [
    "caribu_args = { \"sun algo\" : \"caribu\" }\n",
    "\n",
    "lighting = LightVegeManager(lightmodel=\"caribu\", lightmodel_parameters=caribu_args)\n",
    "lighting.build(geometry=[(0., 0., 0.), (1., 0., 0.), (1., 1., 1.)])\n",
    "energy = 500.\n",
    "hour = 15\n",
    "day = 264\n",
    "lighting.run(energy=energy, hour=hour, day=day)\n",
    "\n",
    "sun_caribu = lighting.sun\n",
    "print(sun_caribu)"
   ]
  },
  {
   "cell_type": "code",
   "execution_count": 5,
   "id": "20273c93",
   "metadata": {},
   "outputs": [
    {
     "name": "stdout",
     "output_type": "stream",
     "text": [
      "(0.33241183146897624, -0.8800565622452903, -0.3391206592769639)\n"
     ]
    }
   ],
   "source": [
    "caribu_args = { \"sun algo\" : \"ratp\" }\n",
    "\n",
    "lighting = LightVegeManager(lightmodel=\"caribu\", lightmodel_parameters=caribu_args)\n",
    "lighting.build(geometry=[(0., 0., 0.), (1., 0., 0.), (1., 1., 1.)])\n",
    "energy = 500.\n",
    "hour = 15\n",
    "day = 264\n",
    "lighting.run(energy=energy, hour=hour, day=day)\n",
    "\n",
    "sun_ratp = lighting.sun\n",
    "print(sun_ratp)"
   ]
  },
  {
   "cell_type": "code",
   "execution_count": 7,
   "id": "7b0e119e",
   "metadata": {},
   "outputs": [
    {
     "name": "stdout",
     "output_type": "stream",
     "text": [
      "euclidean dist =  0.003397515564596359  m\n"
     ]
    }
   ],
   "source": [
    "dist = (sum([ (x-y)**2 for x,y in zip(sun_ratp, sun_caribu) ])) ** (1/2)\n",
    "print(\"euclidean dist = \",dist,\" m\")"
   ]
  },
  {
   "cell_type": "markdown",
   "id": "b1febd05",
   "metadata": {},
   "source": [
    "### Grid of virtual sensors\n",
    "\n",
    "If you can to match a grid of voxels, you can generate a set of virtual sensors following a 3D grid. You need to precise the dimension of the grid:\n",
    "- dxyz: `[dx, dy, dz]` size of one voxel\n",
    "- nxyz: `[nx, ny, nz]` number of voxels on each xyz axis\n",
    "- orig: `[0x, 0y, 0z]` origin point of the grid\n",
    "\n",
    "Optionnaly, you can write a geometric visualisation of the sensors in VTK format. You need to provide the file path and the flag `\"vtk\"`."
   ]
  },
  {
   "cell_type": "code",
   "execution_count": 2,
   "id": "556e7a16",
   "metadata": {},
   "outputs": [],
   "source": [
    "# grid dimensions\n",
    "dxyz = [1.] * 3\n",
    "nxyz = [5, 5, 7]\n",
    "orig = [0.] * 3"
   ]
  },
  {
   "cell_type": "code",
   "execution_count": 3,
   "id": "95967c93",
   "metadata": {},
   "outputs": [],
   "source": [
    "# random triangles\n",
    "nb_triangles = 50\n",
    "spheresize = (1., 0.3) # vertices of triangles are the sphere surface\n",
    "triangles = []\n",
    "for i in range(nb_triangles):\n",
    "    triangles.append(random_triangle_generator(worldsize=(0., 5.), spheresize=spheresize))"
   ]
  },
  {
   "cell_type": "code",
   "execution_count": 4,
   "id": "ed022b4c",
   "metadata": {},
   "outputs": [],
   "source": [
    "caribu_args = { \"sensors\" : [\"grid\", dxyz, nxyz, orig] }\n",
    "\n",
    "lighting = LightVegeManager(lightmodel=\"caribu\", lightmodel_parameters=caribu_args, environment={\"infinite\":True})\n",
    "lighting.build(geometry=triangles)"
   ]
  },
  {
   "cell_type": "markdown",
   "id": "d11f570b",
   "metadata": {},
   "source": [
    "You can visualize the grid of sensors with plantGL through the method `plantGL_sensors`"
   ]
  },
  {
   "cell_type": "code",
   "execution_count": 13,
   "id": "8c5f06e2",
   "metadata": {},
   "outputs": [
    {
     "data": {
      "application/vnd.jupyter.widget-view+json": {
       "model_id": "3a795783fa724a46b78a59d52fc5677c",
       "version_major": 2,
       "version_minor": 0
      },
      "text/plain": [
       "SceneWidget(axes_helper=True, scenes=[{'id': 'rpNaRspB7H0J2oKjhBfYykU71', 'data': b'x\\xda\\x85\\x9a\\xf9\\xba\\x15G…"
      ]
     },
     "execution_count": 13,
     "metadata": {},
     "output_type": "execute_result"
    }
   ],
   "source": [
    "SceneWidget(lighting.plantGL_sensors(), \n",
    "            position=(-2.5, -2.5, 0.0), \n",
    "            size_display=(600, 400), \n",
    "            plane=True, \n",
    "            size_world = 10, \n",
    "            axes_helper=True)"
   ]
  },
  {
   "cell_type": "markdown",
   "id": "c33fec94",
   "metadata": {},
   "source": [
    "The lighting results are stored in `sensors_outputs`"
   ]
  },
  {
   "cell_type": "code",
   "execution_count": 17,
   "id": "fcd4be39",
   "metadata": {},
   "outputs": [
    {
     "name": "stdout",
     "output_type": "stream",
     "text": [
      "{'par': {0: 0.51834194067706, 1: 0.5308753998657116, 2: 0.6356410071880358, 3: 0.6280440745835342, 4: 0.7348723244391282, 5: 0.8377871001112634, 6: 0.4617251984176415, 7: 0.495129715697577, 8: 0.6131363817804785, 9: 0.5687714360698057, 10: 0.7322514236236515, 11: 0.8691497441835251, 12: 0.501409869368752, 13: 0.5802620746019611, 14: 0.5684306740502441, 15: 0.5448581816686048, 16: 0.7425834546380425, 17: 0.9448173795583968, 18: 0.48838057941884705, 19: 0.6124255210438949, 20: 0.5122986569042225, 21: 0.5196097528711219, 22: 0.6537519378903659, 23: 0.97910108961367, 24: 0.45924012286835925, 25: 0.5461410549684866, 26: 0.551527499861868, 27: 0.6180217890182801, 28: 0.6108037693496773, 29: 0.9533450759609043, 30: 0.47920650612455634, 31: 0.48509765917006636, 32: 0.4551374400234053, 33: 0.5855859239206206, 34: 0.7597544084095198, 35: 0.8641678490671126, 36: 0.4860121934865708, 37: 0.43959299789620904, 38: 0.43956593364806973, 39: 0.4036644342974864, 40: 0.7638839031112808, 41: 0.9007351905848812, 42: 0.5251419238192803, 43: 0.46126821372044885, 44: 0.41667205111819017, 45: 0.4968340802165048, 46: 0.7948675260827973, 47: 0.9435643107424596, 48: 0.47906967265823486, 49: 0.49778880474951165, 50: 0.4204373489559713, 51: 0.5677638346661975, 52: 0.8022129525509314, 53: 0.9673922133922965, 54: 0.5283510603735843, 55: 0.44551710610975725, 56: 0.49210113391046634, 57: 0.7146955670558728, 58: 0.7356424071887203, 59: 0.9271045254957095, 60: 0.5120418333114727, 61: 0.3596728014228353, 62: 0.37398690002227297, 63: 0.6034948137913889, 64: 0.7336930328783193, 65: 0.8590324029603247, 66: 0.4834097743681514, 67: 0.3910286540349822, 68: 0.3907557306621735, 69: 0.39198401423947576, 70: 0.508504590642667, 71: 0.9416354297249045, 72: 0.4754397848783006, 73: 0.3771805822156766, 74: 0.48198742477852835, 75: 0.40281836559829853, 76: 0.8028721943895224, 77: 0.9700996640514535, 78: 0.4324765007908733, 79: 0.40286405265932684, 80: 0.4517569674397516, 81: 0.5708668477747182, 82: 0.8710161873157761, 83: 0.9559789002347753, 84: 0.4143262511261377, 85: 0.35189874346231115, 86: 0.4504073473488214, 87: 0.6042034732308468, 88: 0.7670304386890762, 89: 0.8370007349434336, 90: 0.46668495886542527, 91: 0.4854025755573592, 92: 0.5345979721002958, 93: 0.62521366369586, 94: 0.651247522500461, 95: 0.8361066859773177, 96: 0.46501102937511973, 97: 0.4923827085324488, 98: 0.5641887632230667, 99: 0.6244764939935656, 100: 0.6782646532084828, 101: 0.9176886772444335, 102: 0.43231267350112107, 103: 0.43287245502849897, 104: 0.5535162151364506, 105: 0.7375322721560529, 106: 0.8536240714978374, 107: 0.9212006440344006, 108: 0.4145466067128266, 109: 0.4810271968225363, 110: 0.5234041338458567, 111: 0.5822987916276953, 112: 0.7415684051648578, 113: 0.816947437440918, 114: 0.3541767811681498, 115: 0.4250647962523507, 116: 0.4917133187582134, 117: 0.5692356324728592, 118: 0.6023285489385215, 119: 0.4528014905789319, 120: 0.5144710738020222, 121: 0.5368482445866736, 122: 0.6732298585703681, 123: 0.6857984441696575, 124: 0.6038900904068507, 125: 0.8493901265405036, 126: 0.4358880212918314, 127: 0.48329446189795555, 128: 0.6598711427288821, 129: 0.6519413545787534, 130: 0.6073208628736244, 131: 0.930992314691149, 132: 0.5067107970636116, 133: 0.524213064318667, 134: 0.6315028079173408, 135: 0.6370967379539592, 136: 0.6800813165981127, 137: 0.9139708890616902, 138: 0.4376666339795125, 139: 0.5281068049896077, 140: 0.5994199029108521, 141: 0.4977449274533771, 142: 0.4408512805419674, 143: 0.8936171526701367, 144: 0.41178392940457, 145: 0.5055553902936644, 146: 0.6188786457511692, 147: 0.6059780088098925, 148: 0.5696229915527733, 149: 0.8506266556565081}}\n"
     ]
    }
   ],
   "source": [
    "energy = 500.\n",
    "hour = 15\n",
    "day = 264\n",
    "lighting.run(energy=energy, hour=hour, day=day)\n",
    "\n",
    "print(lighting.sensors_outputs)"
   ]
  },
  {
   "cell_type": "markdown",
   "id": "028f5975",
   "metadata": {},
   "source": [
    "You can also visualize the results in the plantGL scene"
   ]
  },
  {
   "cell_type": "code",
   "execution_count": 18,
   "id": "3258001b",
   "metadata": {},
   "outputs": [
    {
     "data": {
      "application/vnd.jupyter.widget-view+json": {
       "model_id": "05f30102f14341ecb4653a8ea0141448",
       "version_major": 2,
       "version_minor": 0
      },
      "text/plain": [
       "SceneWidget(axes_helper=True, scenes=[{'id': '5oUEYlG3YRLDXmFUN2Lt207uh', 'data': b'x\\xda\\x8d\\x9by\\x9f\\x16G\\x1…"
      ]
     },
     "execution_count": 18,
     "metadata": {},
     "output_type": "execute_result"
    }
   ],
   "source": [
    "SceneWidget(lighting.plantGL_sensors(light=True), \n",
    "            position=(-2.5, -2.5, 0.0), \n",
    "            size_display=(600, 400), \n",
    "            plane=True, \n",
    "            size_world = 10, \n",
    "            axes_helper=True)"
   ]
  },
  {
   "cell_type": "code",
   "execution_count": 15,
   "id": "5f2b40d2",
   "metadata": {},
   "outputs": [
    {
     "data": {
      "application/vnd.jupyter.widget-view+json": {
       "model_id": "f9145d6171ca4f0bb5bf8d2deb69d5ed",
       "version_major": 2,
       "version_minor": 0
      },
      "text/plain": [
       "SceneWidget(axes_helper=True, scenes=[{'id': 'JRXUARzeztEqD2KcWxWb1bEoI', 'data': b'x\\xda\\x8d\\x9c\\t\\x98\\x16\\xc…"
      ]
     },
     "execution_count": 15,
     "metadata": {},
     "output_type": "execute_result"
    }
   ],
   "source": [
    "SceneWidget(lighting.plantGL_sensors(light=True) + lighting.plantGL_nolight(), \n",
    "            position=(-2.5, -2.5, 0.0), \n",
    "            size_display=(600, 400), \n",
    "            plane=True, \n",
    "            size_world = 10, \n",
    "            axes_helper=True)"
   ]
  },
  {
   "cell_type": "markdown",
   "id": "7b4fe6e1",
   "metadata": {},
   "source": [
    "### Other parameters\n",
    "\n",
    "In additional features, you can activate the debug mode in CARIBU, which describe the internal steps."
   ]
  },
  {
   "cell_type": "code",
   "execution_count": 20,
   "id": "494b7ef9",
   "metadata": {},
   "outputs": [
    {
     "name": "stdout",
     "output_type": "stream",
     "text": [
      "Prepare scene 1\n",
      "done\n"
     ]
    },
    {
     "ename": "FileNotFoundError",
     "evalue": "[Errno 2] No such file or directory: './caribuscene_3041942304848\\\\cscene.can'",
     "output_type": "error",
     "traceback": [
      "\u001b[1;31m---------------------------------------------------------------------------\u001b[0m",
      "\u001b[1;31mFileNotFoundError\u001b[0m                         Traceback (most recent call last)",
      "Cell \u001b[1;32mIn[20], line 9\u001b[0m\n\u001b[0;32m      7\u001b[0m hour \u001b[38;5;241m=\u001b[39m \u001b[38;5;241m15\u001b[39m\n\u001b[0;32m      8\u001b[0m day \u001b[38;5;241m=\u001b[39m \u001b[38;5;241m264\u001b[39m\n\u001b[1;32m----> 9\u001b[0m \u001b[43mlighting\u001b[49m\u001b[38;5;241;43m.\u001b[39;49m\u001b[43mrun\u001b[49m\u001b[43m(\u001b[49m\u001b[43menergy\u001b[49m\u001b[38;5;241;43m=\u001b[39;49m\u001b[43menergy\u001b[49m\u001b[43m,\u001b[49m\u001b[43m \u001b[49m\u001b[43mhour\u001b[49m\u001b[38;5;241;43m=\u001b[39;49m\u001b[43mhour\u001b[49m\u001b[43m,\u001b[49m\u001b[43m \u001b[49m\u001b[43mday\u001b[49m\u001b[38;5;241;43m=\u001b[39;49m\u001b[43mday\u001b[49m\u001b[43m)\u001b[49m\n",
      "File \u001b[1;32mc:\\users\\mwoussen\\cdd\\codes\\dev\\lightvegemanager\\src\\lightvegemanager\\tool.py:477\u001b[0m, in \u001b[0;36mLightVegeManager.run\u001b[1;34m(self, energy, day, hour, parunit, truesolartime, id_sensors)\u001b[0m\n\u001b[0;32m    475\u001b[0m \u001b[38;5;28;01mif\u001b[39;00m sun_sky_option \u001b[38;5;241m==\u001b[39m \u001b[38;5;124m\"\u001b[39m\u001b[38;5;124mmix\u001b[39m\u001b[38;5;124m\"\u001b[39m:\n\u001b[0;32m    476\u001b[0m     start \u001b[38;5;241m=\u001b[39m time\u001b[38;5;241m.\u001b[39mtime()\n\u001b[1;32m--> 477\u001b[0m     raw_sun, aggregated_sun \u001b[38;5;241m=\u001b[39m \u001b[43mrun_caribu\u001b[49m\u001b[43m(\u001b[49m\u001b[38;5;241;43m*\u001b[39;49m\u001b[43marg\u001b[49m\u001b[43m)\u001b[49m\n\u001b[0;32m    478\u001b[0m     arg[\u001b[38;5;241m0\u001b[39m] \u001b[38;5;241m=\u001b[39m c_scene_sky\n\u001b[0;32m    479\u001b[0m     raw_sky, aggregated_sky \u001b[38;5;241m=\u001b[39m run_caribu(\u001b[38;5;241m*\u001b[39marg)\n",
      "File \u001b[1;32mc:\\users\\mwoussen\\cdd\\codes\\dev\\lightvegemanager\\src\\lightvegemanager\\CARIBUinputs.py:372\u001b[0m, in \u001b[0;36mrun_caribu\u001b[1;34m(c_scene, direct_active, infinite, sensors, energy)\u001b[0m\n\u001b[0;32m    331\u001b[0m \u001b[38;5;250m\u001b[39m\u001b[38;5;124;03m\"\"\"runs caribu depending on input options\u001b[39;00m\n\u001b[0;32m    332\u001b[0m \n\u001b[0;32m    333\u001b[0m \u001b[38;5;124;03m:param c_scene: instance of CaribuScene containing geometry, light source(s), opt etc...\u001b[39;00m\n\u001b[1;32m   (...)\u001b[0m\n\u001b[0;32m    369\u001b[0m \u001b[38;5;124;03m:rtype: dict of dict, dict of dict\u001b[39;00m\n\u001b[0;32m    370\u001b[0m \u001b[38;5;124;03m\"\"\"\u001b[39;00m    \n\u001b[0;32m    371\u001b[0m \u001b[38;5;28;01mif\u001b[39;00m sensors \u001b[38;5;129;01mis\u001b[39;00m \u001b[38;5;28;01mNone\u001b[39;00m :\n\u001b[1;32m--> 372\u001b[0m     raw, aggregated \u001b[38;5;241m=\u001b[39m \u001b[43mc_scene\u001b[49m\u001b[38;5;241;43m.\u001b[39;49m\u001b[43mrun\u001b[49m\u001b[43m(\u001b[49m\u001b[43mdirect\u001b[49m\u001b[38;5;241;43m=\u001b[39;49m\u001b[43mdirect_active\u001b[49m\u001b[43m,\u001b[49m\u001b[43m \u001b[49m\u001b[43minfinite\u001b[49m\u001b[38;5;241;43m=\u001b[39;49m\u001b[43minfinite\u001b[49m\u001b[43m)\u001b[49m\n\u001b[0;32m    373\u001b[0m \u001b[38;5;28;01melse\u001b[39;00m :\n\u001b[0;32m    374\u001b[0m     raw, aggregated \u001b[38;5;241m=\u001b[39m c_scene\u001b[38;5;241m.\u001b[39mrun(direct\u001b[38;5;241m=\u001b[39mdirect_active, infinite\u001b[38;5;241m=\u001b[39minfinite, \n\u001b[0;32m    375\u001b[0m                                                         sensors\u001b[38;5;241m=\u001b[39msensors)\n",
      "File \u001b[1;32m~\\AppData\\Local\\miniconda3\\envs\\mobidivpy37\\lib\\site-packages\\alinea.caribu-8.0.7-py3.8.egg\\alinea\\caribu\\CaribuScene.py:568\u001b[0m, in \u001b[0;36mCaribuScene.run\u001b[1;34m(self, direct, infinite, d_sphere, layers, height, screen_size, screen_resolution, sensors, split_face, simplify)\u001b[0m\n\u001b[0;32m    566\u001b[0m         \u001b[38;5;28mself\u001b[39m\u001b[38;5;241m.\u001b[39mcanfile \u001b[38;5;241m=\u001b[39m os\u001b[38;5;241m.\u001b[39mpath\u001b[38;5;241m.\u001b[39mjoin(\u001b[38;5;28mself\u001b[39m\u001b[38;5;241m.\u001b[39mtempdir,\u001b[38;5;124m'\u001b[39m\u001b[38;5;124mcscene.can\u001b[39m\u001b[38;5;124m'\u001b[39m)\n\u001b[0;32m    567\u001b[0m         \u001b[38;5;28mself\u001b[39m\u001b[38;5;241m.\u001b[39moptfile \u001b[38;5;241m=\u001b[39m os\u001b[38;5;241m.\u001b[39mpath\u001b[38;5;241m.\u001b[39mjoin(\u001b[38;5;28mself\u001b[39m\u001b[38;5;241m.\u001b[39mtempdir,\u001b[38;5;124m'\u001b[39m\u001b[38;5;124mband0.opt\u001b[39m\u001b[38;5;124m'\u001b[39m)\n\u001b[1;32m--> 568\u001b[0m         \u001b[43mwrite_scene\u001b[49m\u001b[43m(\u001b[49m\u001b[43mtriangles\u001b[49m\u001b[43m,\u001b[49m\u001b[43m \u001b[49m\u001b[43mmaterials\u001b[49m\u001b[43m,\u001b[49m\u001b[43m \u001b[49m\u001b[43mcanfile\u001b[49m\u001b[43m \u001b[49m\u001b[38;5;241;43m=\u001b[39;49m\u001b[43m \u001b[49m\u001b[38;5;28;43mself\u001b[39;49m\u001b[38;5;241;43m.\u001b[39;49m\u001b[43mcanfile\u001b[49m\u001b[43m,\u001b[49m\u001b[43m \u001b[49m\u001b[43moptfile\u001b[49m\u001b[43m \u001b[49m\u001b[38;5;241;43m=\u001b[39;49m\u001b[43m \u001b[49m\u001b[38;5;28;43mself\u001b[39;49m\u001b[38;5;241;43m.\u001b[39;49m\u001b[43moptfile\u001b[49m\u001b[43m)\u001b[49m\n\u001b[0;32m    570\u001b[0m \u001b[38;5;28;01melse\u001b[39;00m:\n\u001b[0;32m    571\u001b[0m     \u001b[38;5;66;03m# self.materialvalues is a cache for the computation of the material list\u001b[39;00m\n\u001b[0;32m    572\u001b[0m     materials \u001b[38;5;241m=\u001b[39m \u001b[38;5;28mself\u001b[39m\u001b[38;5;241m.\u001b[39mmaterialvalues\n",
      "File \u001b[1;32m~\\AppData\\Local\\miniconda3\\envs\\mobidivpy37\\lib\\site-packages\\alinea.caribu-8.0.7-py3.8.egg\\alinea\\caribu\\caribu.py:177\u001b[0m, in \u001b[0;36mwrite_scene\u001b[1;34m(triangles, materials, canfile, optfile)\u001b[0m\n\u001b[0;32m    175\u001b[0m o_string, labels \u001b[38;5;241m=\u001b[39m opt_string_and_labels(materials)\n\u001b[0;32m    176\u001b[0m can_string \u001b[38;5;241m=\u001b[39m triangles_string(triangles, labels)\n\u001b[1;32m--> 177\u001b[0m \u001b[38;5;28;43mopen\u001b[39;49m\u001b[43m(\u001b[49m\u001b[43mcanfile\u001b[49m\u001b[43m,\u001b[49m\u001b[38;5;124;43m'\u001b[39;49m\u001b[38;5;124;43mw\u001b[39;49m\u001b[38;5;124;43m'\u001b[39;49m\u001b[43m)\u001b[49m\u001b[38;5;241m.\u001b[39mwrite(can_string)\n\u001b[0;32m    178\u001b[0m \u001b[38;5;28mopen\u001b[39m(optfile,\u001b[38;5;124m'\u001b[39m\u001b[38;5;124mw\u001b[39m\u001b[38;5;124m'\u001b[39m)\u001b[38;5;241m.\u001b[39mwrite(o_string)\n",
      "\u001b[1;31mFileNotFoundError\u001b[0m: [Errno 2] No such file or directory: './caribuscene_3041942304848\\\\cscene.can'"
     ]
    }
   ],
   "source": [
    "caribu_args = { \"debug\" : True }\n",
    "\n",
    "lighting = LightVegeManager(lightmodel=\"caribu\", lightmodel_parameters=caribu_args)\n",
    "lighting.build(geometry=[(0., 0., 0.), (1., 0., 0.), (1., 1., 1.)])\n",
    "\n",
    "energy = 500.\n",
    "hour = 15\n",
    "day = 264\n",
    "lighting.run(energy=energy, hour=hour, day=day)"
   ]
  },
  {
   "cell_type": "markdown",
   "id": "0d638836",
   "metadata": {},
   "source": [
    "You can also use the soilmesh option and get the lighting hitting the soil. The method `soilenergy` get you access to its result."
   ]
  },
  {
   "cell_type": "code",
   "execution_count": 23,
   "id": "bf20d164",
   "metadata": {},
   "outputs": [
    {
     "name": "stdout",
     "output_type": "stream",
     "text": [
      "{'Qi': 0.6750540873627096, 'Einc': 0.6750540873627096}\n"
     ]
    }
   ],
   "source": [
    "caribu_args = { \"soil mesh\" : True }\n",
    "\n",
    "lighting = LightVegeManager(lightmodel=\"caribu\", lightmodel_parameters=caribu_args)\n",
    "lighting.build(geometry=[(0., 0., 0.), (1., 0., 0.), (1., 1., 1.)])\n",
    "\n",
    "energy = 500.\n",
    "hour = 15\n",
    "day = 264\n",
    "lighting.run(energy=energy, hour=hour, day=day)\n",
    "\n",
    "print(lighting.soilenergy)"
   ]
  },
  {
   "cell_type": "markdown",
   "id": "a08a758b",
   "metadata": {},
   "source": [
    "## RATP\n",
    "\n",
    "```python\n",
    "ratp_args = {\n",
    "                # Grid specifications\n",
    "                \"voxel size\" : [dx, dy, dz],\n",
    "                \"voxel size\" : \"dynamic\",\n",
    "                \n",
    "                \"full grid\" : bool,\n",
    "\n",
    "                \"origin\" : [xorigin, yorigin, zorigin],\n",
    "                \"origin\" : [xorigin, yorigin],\n",
    "\n",
    "                \"number voxels\" : [nx, ny, nz],\n",
    "                \"grid slicing\" : \"ground = 0.\"\n",
    "                \"tesselation level\" : int\n",
    "\n",
    "                # Leaf angle distribution\n",
    "                \"angle distrib algo\" : \"compute global\",\n",
    "                \"angle distrib algo\" : \"compute voxel\",\n",
    "                \"angle distrib algo\" : \"file\",\n",
    "\n",
    "                \"nb angle classes\" : int,\n",
    "                \"angle distrib file\" : filepath,\n",
    "\n",
    "                # Vegetation type\n",
    "                \"soil reflectance\" : [reflectance_band0, reflectance_band1, ...],\n",
    "                \"reflectance coefficients\" : [reflectance_band0, reflectance_band1, ...],\n",
    "                \"mu\" : [mu_scene0, mu_scene1, ...]\n",
    "            }\n",
    "```"
   ]
  },
  {
   "cell_type": "markdown",
   "id": "063c07d8",
   "metadata": {},
   "source": [
    "### Leaf angle distribution\n",
    "\n",
    "Leaf angle distribution can be generated in 3 ways:\n",
    "- from a file, one distribution per specy\n",
    "- global and dynamically, it generates a distribution from a triangles mesh for each specy\n",
    "- per voxel and dynamically, it generates a distribution from the triangles located in each voxel"
   ]
  },
  {
   "cell_type": "code",
   "execution_count": 8,
   "id": "17d41b51",
   "metadata": {},
   "outputs": [],
   "source": [
    "# random triangles\n",
    "nb_triangles = 50\n",
    "spheresize = (1., 0.3) # vertices of triangles are the sphere surface\n",
    "worldsize = (0., 5.)\n",
    "triangles = [random_triangle_generator(worldsize=worldsize, spheresize=spheresize) for i in range(nb_triangles)]"
   ]
  },
  {
   "cell_type": "markdown",
   "id": "d6755645",
   "metadata": {},
   "source": [
    "#### File\n",
    "\n",
    "You need the flag `\"file\"` and to specify the file path."
   ]
  },
  {
   "cell_type": "code",
   "execution_count": 3,
   "id": "13097ed4",
   "metadata": {},
   "outputs": [
    {
     "name": "stdout",
     "output_type": "stream",
     "text": [
      "{'global': [[0.1382, 0.1664, 0.1972, 0.1925, 0.1507, 0.0903, 0.0425, 0.0172, 0.005]]}\n"
     ]
    }
   ],
   "source": [
    "filepath = os.path.join(os.path.dirname(os.path.abspath(\"\")), \"data\", \"luzerne_angle_distrib.data\")\n",
    "ratp_parameters = { \"angle distrib algo\" : \"file\", \"angle distrib file\" : filepath }\n",
    "\n",
    "# initialize the instance\n",
    "lighting = LightVegeManager(lightmodel=\"ratp\", lightmodel_parameters=ratp_parameters)\n",
    "\n",
    "# build the scene\n",
    "lighting.build(geometry=triangles)\n",
    "\n",
    "print(lighting.leafangledistribution)"
   ]
  },
  {
   "cell_type": "markdown",
   "id": "85daaa61",
   "metadata": {},
   "source": [
    "#### Global distribution\n",
    "\n",
    "You need the flag `\"compute global\"` and to specify the number of angle classes you need."
   ]
  },
  {
   "cell_type": "code",
   "execution_count": 5,
   "id": "7c882e53",
   "metadata": {},
   "outputs": [
    {
     "name": "stdout",
     "output_type": "stream",
     "text": [
      "{'global': [[0.06155178223916461, 0.12499042395940269, 0.06445789476401936, 0.1187479400647726, 0.21074770572428322, 0.12460435598932129, 0.1405535570495526, 0.01797247992923503, 0.13637386028024864]]}\n"
     ]
    }
   ],
   "source": [
    "ratp_parameters = { \"angle distrib algo\" : \"compute global\", \"nb angle classes\" : 9 }\n",
    "\n",
    "# initialize the instance\n",
    "lighting = LightVegeManager(lightmodel=\"ratp\", lightmodel_parameters=ratp_parameters)\n",
    "\n",
    "# build the scene\n",
    "lighting.build(geometry=triangles)\n",
    "\n",
    "print(lighting.leafangledistribution)"
   ]
  },
  {
   "cell_type": "markdown",
   "id": "8a0ea69d",
   "metadata": {},
   "source": [
    "#### Local distribution\n",
    "\n",
    "You need the flag `\"compute voxel\"` and to specify the number of angle classes you need. You will get one distribution for each voxel of your grid and each specy."
   ]
  },
  {
   "cell_type": "code",
   "execution_count": 11,
   "id": "397e12a3",
   "metadata": {},
   "outputs": [
    {
     "name": "stdout",
     "output_type": "stream",
     "text": [
      "Global\n",
      "[[0.09035031695555507, 0.08761577143411951, 0.056255001524189746, 0.0753746859951702, 0.27007435951575953, 0.12360752121946102, 0.1302826782705683, 0.113942659680832, 0.05249700540434461]]\n",
      "\n",
      "\n",
      " Local\n",
      "[0. 0. 0. 0. 0. 0. 0. 1. 0.]\n",
      "[0. 0. 1. 0. 0. 0. 0. 0. 0.]\n",
      "[0. 0. 0. 1. 0. 0. 0. 0. 0.]\n",
      "[0. 0. 0. 0. 0. 0. 0. 1. 0.]\n",
      "[0. 0. 1. 0. 0. 0. 0. 0. 0.]\n",
      "[0.55943496 0.         0.44056504 0.         0.         0.\n",
      " 0.         0.         0.        ]\n",
      "[0. 1. 0. 0. 0. 0. 0. 0. 0.]\n",
      "[0. 0. 0. 0. 0. 0. 1. 0. 0.]\n",
      "[0. 0. 0. 0. 0. 0. 0. 0. 1.]\n",
      "[0. 0. 0. 0. 0. 0. 1. 0. 0.]\n",
      "[0.         0.81407011 0.         0.18592989 0.         0.\n",
      " 0.         0.         0.        ]\n",
      "[0. 0. 0. 0. 0. 1. 0. 0. 0.]\n",
      "[0. 0. 1. 0. 0. 0. 0. 0. 0.]\n",
      "[0. 0. 0. 0. 1. 0. 0. 0. 0.]\n",
      "[0. 0. 0. 0. 1. 0. 0. 0. 0.]\n",
      "[0. 0. 0. 0. 0. 1. 0. 0. 0.]\n",
      "[0.         0.00742362 0.         0.         0.         0.\n",
      " 0.30061391 0.69196247 0.        ]\n",
      "[0. 1. 0. 0. 0. 0. 0. 0. 0.]\n",
      "[0. 0. 0. 0. 1. 0. 0. 0. 0.]\n",
      "[0. 0. 0. 0. 0. 0. 0. 1. 0.]\n",
      "[0. 0. 0. 0. 0. 0. 0. 1. 0.]\n",
      "[0. 0. 0. 0. 0. 0. 0. 1. 0.]\n",
      "[0. 0. 0. 0. 0. 0. 0. 0. 1.]\n",
      "[0. 1. 0. 0. 0. 0. 0. 0. 0.]\n",
      "[0. 1. 0. 0. 0. 0. 0. 0. 0.]\n",
      "[0. 0. 0. 0. 0. 0. 0. 1. 0.]\n",
      "[1. 0. 0. 0. 0. 0. 0. 0. 0.]\n",
      "[0. 0. 0. 0. 1. 0. 0. 0. 0.]\n",
      "[0. 0. 0. 0. 0. 1. 0. 0. 0.]\n",
      "[0. 0. 0. 1. 0. 0. 0. 0. 0.]\n",
      "[0. 0. 0. 0. 0. 0. 1. 0. 0.]\n",
      "[0.         0.         0.         0.60484427 0.         0.39515573\n",
      " 0.         0.         0.        ]\n",
      "[0. 0. 0. 0. 0. 0. 1. 0. 0.]\n",
      "[0. 0. 1. 0. 0. 0. 0. 0. 0.]\n",
      "[0. 0. 0. 0. 0. 0. 1. 0. 0.]\n",
      "[0. 0. 0. 0. 0. 1. 0. 0. 0.]\n",
      "[0. 0. 0. 0. 1. 0. 0. 0. 0.]\n",
      "[0. 0. 0. 0. 1. 0. 0. 0. 0.]\n",
      "[0. 1. 0. 0. 0. 0. 0. 0. 0.]\n",
      "[0. 0. 0. 0. 1. 0. 0. 0. 0.]\n",
      "[0. 0. 0. 0. 1. 0. 0. 0. 0.]\n",
      "[0. 0. 0. 0. 1. 0. 0. 0. 0.]\n",
      "[1. 0. 0. 0. 0. 0. 0. 0. 0.]\n",
      "[0. 0. 0. 0. 0. 0. 1. 0. 0.]\n",
      "[0. 0. 0. 0. 0. 0. 0. 0. 1.]\n"
     ]
    }
   ],
   "source": [
    "ratp_parameters = { \n",
    "                    \"voxel size\" : [1., 1., 1.],\n",
    "                    \"angle distrib algo\" : \"compute voxel\", \n",
    "                    \"nb angle classes\" : 9\n",
    "                    }\n",
    "\n",
    "# initialize the instance\n",
    "lighting = LightVegeManager(lightmodel=\"ratp\", lightmodel_parameters=ratp_parameters)\n",
    "\n",
    "# build the scene\n",
    "lighting.build(geometry=triangles)\n",
    "\n",
    "print(\"Global\")\n",
    "print(lighting.leafangledistribution[\"global\"])\n",
    "print(\"\\n\\n Local\")\n",
    "for a in lighting.leafangledistribution[\"voxel\"]:\n",
    "    print(a[0])"
   ]
  },
  {
   "cell_type": "markdown",
   "id": "00f716c8",
   "metadata": {},
   "source": [
    "For visualization of the situation"
   ]
  },
  {
   "cell_type": "code",
   "execution_count": 14,
   "id": "9f6ae1ef",
   "metadata": {},
   "outputs": [
    {
     "data": {
      "application/vnd.jupyter.widget-view+json": {
       "model_id": "f959c5e51d6f46a2adf4786f7aac29c6",
       "version_major": 2,
       "version_minor": 0
      },
      "text/plain": [
       "SceneWidget(axes_helper=True, scenes=[{'id': 'VXiNJUbqifCr9iQOhQ9okiBdG', 'data': b'x\\xda\\x8d[\\tx\\x14E\\xda\\x1e…"
      ]
     },
     "execution_count": 14,
     "metadata": {},
     "output_type": "execute_result"
    }
   ],
   "source": [
    "SceneWidget(lighting.plantGL_nolight(printtriangles=True, printvoxels=True), \n",
    "            position=(-2.5, -2.5, 0.0), \n",
    "            size_display=(600, 400), \n",
    "            plane=True, \n",
    "            size_world = 10, \n",
    "            axes_helper=True)"
   ]
  },
  {
   "attachments": {
    "tesselation_voxels.png": {
     "image/png": "[encoded data removed]"
    }
   },
   "cell_type": "markdown",
   "id": "5434504e",
   "metadata": {},
   "source": [
    "### Triangles tesselation in a grid\n",
    "\n",
    "You can reduce the error while transferring a triangle mesh to a voxel mesh by subdividing triangles across multiple voxels.\n",
    "\n",
    "<div>\n",
    "<img src=\"attachment:tesselation_voxels.png\" width=\"500\"/>\n",
    "</div>\n",
    "\n",
    "You only need to precise how many times you want to subdivide the triangles."
   ]
  },
  {
   "cell_type": "code",
   "execution_count": 18,
   "id": "b110d224",
   "metadata": {},
   "outputs": [
    {
     "data": {
      "application/vnd.jupyter.widget-view+json": {
       "model_id": "a4d4919bf69441cebd10a56c2a976bde",
       "version_major": 2,
       "version_minor": 0
      },
      "text/plain": [
       "SceneWidget(axes_helper=True, scenes=[{'id': 'gV833JQsWfuarucHtF2W2o3IM', 'data': b'x\\xda\\x95[\\x0bX\\x15\\xd5\\x1…"
      ]
     },
     "execution_count": 18,
     "metadata": {},
     "output_type": "execute_result"
    }
   ],
   "source": [
    "ratp_parameters = { \"tesselation level\" : 7 }\n",
    "\n",
    "# initialize the instance\n",
    "lighting = LightVegeManager(lightmodel=\"ratp\", lightmodel_parameters=ratp_parameters)\n",
    "\n",
    "# build the scene\n",
    "lighting.build(geometry=triangles)\n",
    "\n",
    "SceneWidget(lighting.plantGL_nolight(printtriangles=True, printvoxels=False), \n",
    "            position=(-2.5, -2.5, 0.0), \n",
    "            size_display=(600, 400), \n",
    "            plane=True, \n",
    "            size_world = 10, \n",
    "            axes_helper=True)"
   ]
  },
  {
   "cell_type": "markdown",
   "id": "f6c2c03b",
   "metadata": {},
   "source": [
    "### Other parameters\n",
    "\n",
    "By default, the number of voxels is dynamically computed following the voxel size and mesh limits, but you can force its number. \n",
    "\n",
    "Voxel size can also be dynamically computed and is based on 3 times the longest triangle."
   ]
  }
 ],
 "metadata": {
  "kernelspec": {
   "display_name": "Python 3 (ipykernel)",
   "language": "python",
   "name": "python3"
  },
  "language_info": {
   "codemirror_mode": {
    "name": "ipython",
    "version": 3
   },
   "file_extension": ".py",
   "mimetype": "text/x-python",
   "name": "python",
   "nbconvert_exporter": "python",
   "pygments_lexer": "ipython3",
   "version": "3.8.17"
  }
 },
 "nbformat": 4,
 "nbformat_minor": 5
}
