{
 "cells": [
  {
   "cell_type": "markdown",
   "id": "cbde3745",
   "metadata": {},
   "source": [
    "# Example of use\n",
    "Here is an example with a more \"realistic\" canopy. We start from a single fescue and alfafa in a `.bgeom` file, then we will generate copies and random positions in order to make a canopy."
   ]
  },
  {
   "cell_type": "code",
   "execution_count": 1,
   "id": "a08c5c2f",
   "metadata": {},
   "outputs": [],
   "source": [
    "import os\n",
    "from lightvegemanager.tool import LightVegeManager\n",
    "from pgljupyter import SceneWidget\n",
    "from openalea.plantgl.all import Scene"
   ]
  },
  {
   "cell_type": "markdown",
   "id": "9f47c2cf",
   "metadata": {},
   "source": [
    "## Canopy generation\n",
    "\n",
    "Load the `.bgeom` files"
   ]
  },
  {
   "cell_type": "code",
   "execution_count": 3,
   "id": "8a256e07",
   "metadata": {},
   "outputs": [
    {
     "data": {
      "text/plain": [
       "['C:\\\\Users\\\\mwoussen\\\\cdd\\\\codes\\\\dev\\\\lightvegemanager\\\\data\\\\Fet-LD-F2.bgeom',\n",
       " 'C:\\\\Users\\\\mwoussen\\\\cdd\\\\codes\\\\dev\\\\lightvegemanager\\\\data\\\\LD-F1.bgeom']"
      ]
     },
     "execution_count": 3,
     "metadata": {},
     "output_type": "execute_result"
    }
   ],
   "source": [
    "fet_fgeom = os.path.join(os.path.dirname(os.path.abspath(\"\")), \"data\", \"Fet-LD-F2.bgeom\")\n",
    "luz_fgeom = os.path.join(os.path.dirname(os.path.abspath(\"\")), \"data\", \"LD-F1.bgeom\")\n",
    "bgeom_files = [fet_fgeom, luz_fgeom]\n",
    "bgeom_files"
   ]
  },
  {
   "cell_type": "markdown",
   "id": "1cd43c24",
   "metadata": {},
   "source": [
    "Generate copies in random position"
   ]
  },
  {
   "cell_type": "code",
   "execution_count": 5,
   "id": "4748bbba",
   "metadata": {},
   "outputs": [],
   "source": [
    "from lightvegemanager.trianglesmesh import create_heterogeneous_canopy\n",
    "\n",
    "# scene generation parameters\n",
    "nplants = 50\n",
    "plant_density=130 \n",
    "var_plant_position=110\n",
    "\n",
    "# generate random canopy from plant examples\n",
    "if not isinstance(bgeom_files, list): bgeom_files = [bgeom_files]\n",
    "scenes = []\n",
    "for f in bgeom_files :\n",
    "    plant_scene = Scene()\n",
    "    plant_scene.read(f, 'BGEOM')\n",
    "\n",
    "    # multiply a plant with variations\n",
    "    canopy, domain = create_heterogeneous_canopy(plant_scene, \n",
    "                                                 nplants=nplants, \n",
    "                                                 plant_density=plant_density, \n",
    "                                                 var_plant_position=var_plant_position)\n",
    "\n",
    "    scenes.append(canopy)"
   ]
  },
  {
   "cell_type": "markdown",
   "id": "6d7ebdf6",
   "metadata": {},
   "source": [
    "## Lighting simulation\n",
    "Set simulation parameters"
   ]
  },
  {
   "cell_type": "code",
   "execution_count": 4,
   "id": "6079d47a",
   "metadata": {},
   "outputs": [],
   "source": [
    "# setup environment\n",
    "environment = {}\n",
    "environment[\"coordinates\"] = [48.8 ,2.3 ,1] # latitude, longitude, timezone\n",
    "\n",
    "# we compute only sun light in an infinite scene\n",
    "environment[\"diffus\"] = False\n",
    "environment[\"direct\"] = True\n",
    "environment[\"reflected\"] = False\n",
    "environment[\"infinite\"] = True\n",
    "\n",
    "# CARIBU parameters\n",
    "caribu_parameters = {\n",
    "    \"sun algo\": \"caribu\",\n",
    "    \"caribu opt\" : { \"par\": (0.10, 0.05) }\n",
    "}\n",
    "\n",
    "# inputs values for lighting\n",
    "energy=500\n",
    "day=264\n",
    "hour=15\n"
   ]
  },
  {
   "cell_type": "markdown",
   "id": "7cd1baa4",
   "metadata": {},
   "source": [
    "Run the simulation"
   ]
  },
  {
   "cell_type": "code",
   "execution_count": 6,
   "id": "d0a11760",
   "metadata": {},
   "outputs": [
    {
     "name": "stdout",
     "output_type": "stream",
     "text": [
      "     Day  Hour      Organ  VegetationType       Area    par Eabs      par Ei\n",
      "0    264    15  825510368               0  83.332180   68.469279   80.552093\n",
      "1    264    15  825501440               0  75.958035  174.799148  205.646057\n",
      "2    264    15  825503168               0   4.520565   71.441463   84.048780\n",
      "3    264    15  825503824               0  57.771363   75.469741   88.787931\n",
      "4    264    15  825498448               0   5.711880  113.087842  133.044520\n",
      "..   ...   ...        ...             ...        ...         ...         ...\n",
      "321  264    15  825485200               1   2.625990  266.464178  313.487268\n",
      "322  264    15  825485904               1  18.000312  119.617531  140.726507\n",
      "323  264    15  825486976               1  12.152513   93.015484  109.429981\n",
      "324  264    15  825488784               1   9.200676  594.787384  699.749863\n",
      "325  264    15  825489120               1   9.200676  419.272837  493.262162\n",
      "\n",
      "[326 rows x 7 columns]\n"
     ]
    }
   ],
   "source": [
    "# Initializing the tool\n",
    "lighting = LightVegeManager(lightmodel=\"caribu\", \n",
    "                                environment=environment, \n",
    "                                lightmodel_parameters=caribu_parameters)    \n",
    "\n",
    "\n",
    "\n",
    "# build the scene\n",
    "geometry = {\"scenes\" : scenes }\n",
    "\n",
    "lighting.build(geometry)\n",
    "\n",
    "# compute lighting\n",
    "lighting.run(energy=energy, hour=hour, day=day)\n",
    "\n",
    "# print results gathered by elements (Shapes in the plantGL Scene)\n",
    "print(lighting.elements_outputs)"
   ]
  },
  {
   "cell_type": "code",
   "execution_count": 7,
   "id": "89796080",
   "metadata": {},
   "outputs": [
    {
     "data": {
      "application/vnd.jupyter.widget-view+json": {
       "model_id": "f0ea148ac54849e680a6906f47acf159",
       "version_major": 2,
       "version_minor": 0
      },
      "text/plain": [
       "SceneWidget(axes_helper=True, scenes=[{'id': 'iscrYkj7jZcxvvYDWDY2BWYsh', 'data': b'x\\xda\\x94}\\t\\x98%E\\x95n\\xa…"
      ]
     },
     "execution_count": 7,
     "metadata": {},
     "output_type": "execute_result"
    }
   ],
   "source": [
    "# visualisation\n",
    "SceneWidget(lighting.plantGL_light(printtriangles=True, printvoxels=False), \n",
    "            position=(0.0, 0.0, 0.0), \n",
    "            size_display=(600, 400), \n",
    "            plane=True, \n",
    "            size_world = 100, \n",
    "            axes_helper=True)"
   ]
  }
 ],
 "metadata": {
  "kernelspec": {
   "display_name": "Python 3 (ipykernel)",
   "language": "python",
   "name": "python3"
  },
  "language_info": {
   "codemirror_mode": {
    "name": "ipython",
    "version": 3
   },
   "file_extension": ".py",
   "mimetype": "text/x-python",
   "name": "python",
   "nbconvert_exporter": "python",
   "pygments_lexer": "ipython3",
   "version": "3.8.17"
  }
 },
 "nbformat": 4,
 "nbformat_minor": 5
}
