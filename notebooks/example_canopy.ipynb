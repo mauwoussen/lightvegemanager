{
 "cells": [
  {
   "cell_type": "markdown",
   "id": "cbde3745",
   "metadata": {},
   "source": [
    "# Example of use\n",
    "Here is an example with a more \"realistic\" canopy. We start from a single fescue and alfafa stored in `.bgeom` files, then we will generate copies in random positions, in order to make a canopy."
   ]
  },
  {
   "cell_type": "code",
   "execution_count": 1,
   "id": "a08c5c2f",
   "metadata": {},
   "outputs": [],
   "source": [
    "import os\n",
    "from lightvegemanager.LVM import LightVegeManager\n",
    "from pgljupyter import SceneWidget\n",
    "from openalea.plantgl.all import Scene"
   ]
  },
  {
   "cell_type": "markdown",
   "id": "9f47c2cf",
   "metadata": {},
   "source": [
    "## Canopy generation\n",
    "\n",
    "Load the `.bgeom` files"
   ]
  },
  {
   "cell_type": "code",
   "execution_count": 2,
   "id": "8a256e07",
   "metadata": {},
   "outputs": [
    {
     "data": {
      "text/plain": [
       "['C:\\\\Users\\\\mwoussen\\\\cdd\\\\codes\\\\dev\\\\lightvegemanager\\\\data\\\\Fet-LD-F2.bgeom',\n",
       " 'C:\\\\Users\\\\mwoussen\\\\cdd\\\\codes\\\\dev\\\\lightvegemanager\\\\data\\\\LD-F1.bgeom']"
      ]
     },
     "execution_count": 2,
     "metadata": {},
     "output_type": "execute_result"
    }
   ],
   "source": [
    "fet_fgeom = os.path.join(os.path.dirname(os.path.abspath(\"\")), \"data\", \"Fet-LD-F2.bgeom\")\n",
    "luz_fgeom = os.path.join(os.path.dirname(os.path.abspath(\"\")), \"data\", \"LD-F1.bgeom\")\n",
    "bgeom_files = [fet_fgeom, luz_fgeom]\n",
    "bgeom_files"
   ]
  },
  {
   "cell_type": "markdown",
   "id": "1cd43c24",
   "metadata": {},
   "source": [
    "Generate copies in random position"
   ]
  },
  {
   "cell_type": "code",
   "execution_count": 3,
   "id": "4748bbba",
   "metadata": {},
   "outputs": [],
   "source": [
    "from lightvegemanager.trianglesmesh import create_heterogeneous_canopy\n",
    "\n",
    "# scene generation parameters\n",
    "nplants = 50\n",
    "plant_density=130 \n",
    "var_plant_position=110\n",
    "\n",
    "# generate random canopy from plant examples\n",
    "if not isinstance(bgeom_files, list): bgeom_files = [bgeom_files]\n",
    "scenes = []\n",
    "for f in bgeom_files :\n",
    "    plant_scene = Scene()\n",
    "    plant_scene.read(f, 'BGEOM')\n",
    "\n",
    "    # multiply a plant with variations\n",
    "    canopy, domain = create_heterogeneous_canopy(plant_scene, \n",
    "                                                 nplants=nplants, \n",
    "                                                 plant_density=plant_density, \n",
    "                                                 var_plant_position=var_plant_position)\n",
    "\n",
    "    scenes.append(canopy)"
   ]
  },
  {
   "cell_type": "markdown",
   "id": "6d7ebdf6",
   "metadata": {},
   "source": [
    "## Lighting simulation\n",
    "Set simulation parameters"
   ]
  },
  {
   "cell_type": "code",
   "execution_count": 4,
   "id": "6079d47a",
   "metadata": {},
   "outputs": [],
   "source": [
    "# setup environment\n",
    "environment = {}\n",
    "environment[\"coordinates\"] = [48.8 ,2.3 ,1] # latitude, longitude, timezone\n",
    "\n",
    "# we compute only sun light in an infinite scene\n",
    "environment[\"diffus\"] = False\n",
    "environment[\"direct\"] = True\n",
    "environment[\"reflected\"] = False\n",
    "environment[\"infinite\"] = True\n",
    "\n",
    "# CARIBU parameters\n",
    "caribu_parameters = {\n",
    "    \"sun algo\": \"caribu\",\n",
    "    \"caribu opt\" : { \"par\": (0.10, 0.05) }\n",
    "}\n",
    "\n",
    "# inputs values for lighting\n",
    "energy=500\n",
    "day=264\n",
    "hour=15\n"
   ]
  },
  {
   "cell_type": "markdown",
   "id": "7cd1baa4",
   "metadata": {},
   "source": [
    "Run the simulation"
   ]
  },
  {
   "cell_type": "code",
   "execution_count": 5,
   "id": "d0a11760",
   "metadata": {},
   "outputs": [
    {
     "name": "stdout",
     "output_type": "stream",
     "text": [
      "     Day  Hour      Organ  VegetationType       Area    par Eabs      par Ei\n",
      "0    264    15  825510368               0  83.332180   76.246899   89.702234\n",
      "1    264    15  825501440               0  75.958035  212.034963  249.452897\n",
      "2    264    15  825503168               0   4.520565  108.134153  127.216650\n",
      "3    264    15  825503824               0  57.771363   79.214402   93.193414\n",
      "4    264    15  825498448               0   5.711880   97.236152  114.395473\n",
      "..   ...   ...        ...             ...        ...         ...         ...\n",
      "321  264    15  825485200               1   2.625990  287.633701  338.392589\n",
      "322  264    15  825485904               1  18.000312   82.696127   97.289562\n",
      "323  264    15  825486976               1  12.152513   78.609077   92.481268\n",
      "324  264    15  825488784               1   9.200676  519.140172  610.753143\n",
      "325  264    15  825489120               1   9.200676  424.977325  499.973324\n",
      "\n",
      "[326 rows x 7 columns]\n"
     ]
    }
   ],
   "source": [
    "# Initializing the tool\n",
    "lighting = LightVegeManager(lightmodel=\"caribu\", \n",
    "                                environment=environment, \n",
    "                                lightmodel_parameters=caribu_parameters)    \n",
    "\n",
    "\n",
    "\n",
    "# build the scene\n",
    "geometry = {\"scenes\" : scenes }\n",
    "\n",
    "lighting.build(geometry)\n",
    "\n",
    "# compute lighting\n",
    "lighting.run(energy=energy, hour=hour, day=day)\n",
    "\n",
    "# print results gathered by elements (Shapes in the plantGL Scene)\n",
    "print(lighting.elements_outputs)"
   ]
  },
  {
   "cell_type": "code",
   "execution_count": 6,
   "id": "89796080",
   "metadata": {},
   "outputs": [
    {
     "data": {
      "application/vnd.jupyter.widget-view+json": {
       "model_id": "af68f411fbf7401da8457c3d4bbf9f53",
       "version_major": 2,
       "version_minor": 0
      },
      "text/plain": [
       "SceneWidget(axes_helper=True, scenes=[{'id': 'iscrYkj7jZcxvvYDWDY2BWYsh', 'data': b'x\\xda\\x94\\x9d\\t|eE\\x95\\xff…"
      ]
     },
     "execution_count": 6,
     "metadata": {},
     "output_type": "execute_result"
    }
   ],
   "source": [
    "# visualisation\n",
    "SceneWidget(lighting.plantGL_light(printtriangles=True, printvoxels=False), \n",
    "            position=(0.0, 0.0, 0.0), \n",
    "            size_display=(600, 400), \n",
    "            plane=True, \n",
    "            size_world = 100, \n",
    "            axes_helper=True)"
   ]
  },
  {
   "cell_type": "code",
   "execution_count": null,
   "id": "b5c47bbe",
   "metadata": {},
   "outputs": [],
   "source": []
  }
 ],
 "metadata": {
  "kernelspec": {
   "display_name": "Python 3 (ipykernel)",
   "language": "python",
   "name": "python3"
  },
  "language_info": {
   "codemirror_mode": {
    "name": "ipython",
    "version": 3
   },
   "file_extension": ".py",
   "mimetype": "text/x-python",
   "name": "python",
   "nbconvert_exporter": "python",
   "pygments_lexer": "ipython3",
   "version": "3.8.17"
  }
 },
 "nbformat": 4,
 "nbformat_minor": 5
}
