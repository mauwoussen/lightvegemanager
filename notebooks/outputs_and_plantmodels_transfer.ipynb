{
 "cells": [
  {
   "cell_type": "markdown",
   "id": "7d2ea5d1",
   "metadata": {},
   "source": [
    "# Output formats and transfer methods\n",
    "\n",
    "## Content\n",
    "\n",
    "- Main light outputs\n",
    "- transfer results to l-egume\n",
    "- transfer results to CN-Wheat\n",
    "\n",
    "## Introduction\n",
    "\n",
    "This notebook will present the different output formats given by the tool."
   ]
  },
  {
   "cell_type": "code",
   "execution_count": 1,
   "id": "e5378cea",
   "metadata": {},
   "outputs": [],
   "source": [
    "from lightvegemanager.tool import LightVegeManager\n",
    "from pgljupyter import SceneWidget\n",
    "from lightvegemanager.trianglesmesh import random_triangle_generator"
   ]
  },
  {
   "cell_type": "markdown",
   "id": "fcb1dbc3",
   "metadata": {},
   "source": [
    "## Main light outputs: Pandas dataframe\n",
    "\n",
    "Outputs are stored in at least two different scales, by triangle or voxel, and by organ. We will use a set of random triangles as an illustration."
   ]
  },
  {
   "cell_type": "code",
   "execution_count": 2,
   "id": "634d2ae6",
   "metadata": {},
   "outputs": [],
   "source": [
    "# random triangles\n",
    "nb_triangles = 20\n",
    "spheresize = (1., 0.3) # vertices of triangles are the sphere surface\n",
    "worldsize = (0., 5.)\n",
    "triangles = [random_triangle_generator(worldsize=worldsize, spheresize=spheresize) for i in range(nb_triangles)]"
   ]
  },
  {
   "cell_type": "markdown",
   "id": "832306b2",
   "metadata": {},
   "source": [
    "We compute one iteration with CARIBU"
   ]
  },
  {
   "cell_type": "code",
   "execution_count": 3,
   "id": "9ddbcc11",
   "metadata": {},
   "outputs": [],
   "source": [
    "lighting = LightVegeManager(lightmodel=\"caribu\")\n",
    "lighting.build(geometry=triangles)\n",
    "\n",
    "energy = 500.\n",
    "hour = 15\n",
    "day = 264\n",
    "lighting.run(energy=energy, hour=hour, day=day)"
   ]
  },
  {
   "cell_type": "markdown",
   "id": "f57bcf31",
   "metadata": {},
   "source": [
    "Results for each triangle"
   ]
  },
  {
   "cell_type": "code",
   "execution_count": 4,
   "id": "7b2105d4",
   "metadata": {},
   "outputs": [
    {
     "name": "stdout",
     "output_type": "stream",
     "text": [
      "<class 'pandas.core.frame.DataFrame'> \n",
      "\n",
      "    Day  Hour  Triangle  Organ  VegetationType      Area    par Eabs  \\\n",
      "0   264    15         0      0               0  0.887983  333.972320   \n",
      "1   264    15         1      0               0  0.064478  359.626762   \n",
      "2   264    15         2      0               0  0.453055  467.189797   \n",
      "3   264    15         3      0               0  1.221273  357.496425   \n",
      "4   264    15         4      0               0  0.458616  475.442657   \n",
      "5   264    15         5      0               0  0.280610  247.592121   \n",
      "6   264    15         6      0               0  0.566238  352.833692   \n",
      "7   264    15         7      0               0  0.058097  423.081287   \n",
      "8   264    15         8      0               0  2.767725  334.256459   \n",
      "9   264    15         9      0               0  0.374497  451.617079   \n",
      "10  264    15        10      0               0  0.379997  336.551922   \n",
      "11  264    15        11      0               0  0.606435  363.404537   \n",
      "12  264    15        12      0               0  1.029608  342.804865   \n",
      "13  264    15        13      0               0  0.418867  440.261801   \n",
      "14  264    15        14      0               0  0.368815  308.680462   \n",
      "15  264    15        15      0               0  0.583434  463.362150   \n",
      "16  264    15        16      0               0  0.026466  276.634522   \n",
      "17  264    15        17      0               0  0.456672  305.102063   \n",
      "18  264    15        18      0               0  0.155659  345.261097   \n",
      "19  264    15        19      0               0  0.105090  423.684444   \n",
      "\n",
      "        par Ei  \n",
      "0   392.908611  \n",
      "1   423.090309  \n",
      "2   549.635055  \n",
      "3   420.584029  \n",
      "4   559.344302  \n",
      "5   291.284848  \n",
      "6   415.098461  \n",
      "7   497.742691  \n",
      "8   393.242893  \n",
      "9   531.314211  \n",
      "10  395.943438  \n",
      "11  427.534749  \n",
      "12  403.299841  \n",
      "13  517.955060  \n",
      "14  363.153485  \n",
      "15  545.131942  \n",
      "16  325.452379  \n",
      "17  358.943604  \n",
      "18  406.189526  \n",
      "19  498.452287  \n"
     ]
    }
   ],
   "source": [
    "print(type(lighting.triangles_outputs),\"\\n\")\n",
    "print(lighting.triangles_outputs)"
   ]
  },
  {
   "cell_type": "markdown",
   "id": "6d8cfd99",
   "metadata": {},
   "source": [
    "We can try to group multiple sets of triangles"
   ]
  },
  {
   "cell_type": "code",
   "execution_count": 5,
   "id": "b8c92592",
   "metadata": {},
   "outputs": [],
   "source": [
    "nb_triangles = 10\n",
    "triangles1 = [random_triangle_generator(worldsize=worldsize, spheresize=spheresize) for i in range(nb_triangles)]\n",
    "\n",
    "nb_triangles = 9\n",
    "triangles2 = [random_triangle_generator(worldsize=worldsize, spheresize=spheresize) for i in range(nb_triangles)]\n",
    "\n",
    "nb_triangles = 8\n",
    "triangles3 = [random_triangle_generator(worldsize=worldsize, spheresize=spheresize) for i in range(nb_triangles)]"
   ]
  },
  {
   "cell_type": "code",
   "execution_count": 6,
   "id": "ad9f5a1c",
   "metadata": {},
   "outputs": [],
   "source": [
    "scene = {0: triangles1, 1: triangles2, 2: triangles3}\n",
    "\n",
    "lighting = LightVegeManager(lightmodel=\"caribu\")\n",
    "lighting.build(geometry={\"scenes\" : [scene] })\n",
    "\n",
    "energy = 500.\n",
    "hour = 15\n",
    "day = 264\n",
    "lighting.run(energy=energy, hour=hour, day=day)"
   ]
  },
  {
   "cell_type": "code",
   "execution_count": 7,
   "id": "0da3f684",
   "metadata": {},
   "outputs": [
    {
     "name": "stdout",
     "output_type": "stream",
     "text": [
      "    Day  Hour  Triangle  Organ  VegetationType      Area    par Eabs  \\\n",
      "0   264    15         0      0               0  0.302826  323.960353   \n",
      "1   264    15         1      0               0  0.209539  425.144306   \n",
      "2   264    15         2      0               0  0.197166  362.524398   \n",
      "3   264    15         3      0               0  0.039327  362.423338   \n",
      "4   264    15         4      0               0  0.545166  299.967366   \n",
      "5   264    15         5      0               0  0.135091  479.645681   \n",
      "6   264    15         6      0               0  0.096901  409.619188   \n",
      "7   264    15         7      0               0  0.982999  361.504997   \n",
      "8   264    15         8      0               0  0.922692  312.596716   \n",
      "9   264    15         9      0               0  0.088453  356.628718   \n",
      "10  264    15        10      1               0  0.435957  394.911941   \n",
      "11  264    15        11      1               0  0.407852  368.080426   \n",
      "12  264    15        12      1               0  0.634457  348.130774   \n",
      "13  264    15        13      1               0  0.260217  380.579577   \n",
      "14  264    15        14      1               0  0.214000  471.615547   \n",
      "15  264    15        15      1               0  0.097946  333.103578   \n",
      "16  264    15        16      1               0  0.179120  459.202360   \n",
      "17  264    15        17      1               0  0.633404  382.104684   \n",
      "18  264    15        18      1               0  0.441117  389.083206   \n",
      "19  264    15        19      2               0  0.442670  319.499395   \n",
      "20  264    15        20      2               0  0.330172  299.805634   \n",
      "21  264    15        21      2               0  1.268324  442.899621   \n",
      "22  264    15        22      2               0  0.024006  382.452618   \n",
      "23  264    15        23      2               0  0.317721  362.006044   \n",
      "24  264    15        24      2               0  1.344187  386.714779   \n",
      "25  264    15        25      2               0  0.204554  348.273943   \n",
      "26  264    15        26      2               0  0.039401  371.076266   \n",
      "\n",
      "        par Ei  \n",
      "0   381.129827  \n",
      "1   500.169772  \n",
      "2   426.499292  \n",
      "3   426.380398  \n",
      "4   352.902784  \n",
      "5   564.289036  \n",
      "6   481.904927  \n",
      "7   425.299996  \n",
      "8   367.760842  \n",
      "9   419.563197  \n",
      "10  464.602284  \n",
      "11  433.035796  \n",
      "12  409.565616  \n",
      "13  447.740678  \n",
      "14  554.841820  \n",
      "15  391.886563  \n",
      "16  540.238071  \n",
      "17  449.534922  \n",
      "18  457.744948  \n",
      "19  375.881641  \n",
      "20  352.712511  \n",
      "21  521.058377  \n",
      "22  449.944257  \n",
      "23  425.889463  \n",
      "24  454.958564  \n",
      "25  409.734051  \n",
      "26  436.560313  \n"
     ]
    }
   ],
   "source": [
    "print(lighting.triangles_outputs)"
   ]
  },
  {
   "cell_type": "markdown",
   "id": "698ce3e4",
   "metadata": {},
   "source": [
    "And the grouped results"
   ]
  },
  {
   "cell_type": "code",
   "execution_count": 8,
   "id": "dda3eb15",
   "metadata": {},
   "outputs": [
    {
     "name": "stdout",
     "output_type": "stream",
     "text": [
      "   Day  Hour  Organ  VegetationType      Area    par Eabs      par Ei\n",
      "0  264    15      0               0  3.520159  345.516439  406.489928\n",
      "1  264    15      1               0  3.304070  384.875692  452.794932\n",
      "2  264    15      2               0  3.971035  385.802957  453.885832\n"
     ]
    }
   ],
   "source": [
    "print(lighting.elements_outputs)"
   ]
  },
  {
   "cell_type": "markdown",
   "id": "0e2874a2",
   "metadata": {},
   "source": [
    "With RATP, you have another output for each voxel"
   ]
  },
  {
   "cell_type": "code",
   "execution_count": 9,
   "id": "55fb9462",
   "metadata": {},
   "outputs": [],
   "source": [
    "scene = {0: triangles1, 1: triangles2, 2: triangles3}\n",
    "\n",
    "lighting = LightVegeManager(lightmodel=\"ratp\")\n",
    "lighting.build(geometry={\"scenes\" : [scene] })\n",
    "\n",
    "energy = 500.\n",
    "hour = 15\n",
    "day = 264\n",
    "lighting.run(energy=energy, hour=hour, day=day)"
   ]
  },
  {
   "cell_type": "code",
   "execution_count": 10,
   "id": "662e17d5",
   "metadata": {},
   "outputs": [
    {
     "name": "stdout",
     "output_type": "stream",
     "text": [
      "    Triangle  Organ  Voxel  VegetationType  primitive_area    Day  Hour  Nx  \\\n",
      "0          0      0    1.0               1        0.302826  264.0  15.0   1   \n",
      "1          1      0    1.0               1        0.209539  264.0  15.0   1   \n",
      "2          2      0    1.0               1        0.197166  264.0  15.0   1   \n",
      "3          3      0    1.0               1        0.039327  264.0  15.0   1   \n",
      "4          4      0    1.0               1        0.545166  264.0  15.0   1   \n",
      "21         5      0    2.0               1        0.135091  264.0  15.0   2   \n",
      "5          6      0    1.0               1        0.096901  264.0  15.0   1   \n",
      "6          7      0    1.0               1        0.982999  264.0  15.0   1   \n",
      "7          8      0    1.0               1        0.922692  264.0  15.0   1   \n",
      "22         9      0    2.0               1        0.088453  264.0  15.0   2   \n",
      "8         10      1    1.0               1        0.435957  264.0  15.0   1   \n",
      "23        11      1    2.0               1        0.407852  264.0  15.0   2   \n",
      "9         12      1    1.0               1        0.634457  264.0  15.0   1   \n",
      "10        13      1    1.0               1        0.260217  264.0  15.0   1   \n",
      "11        14      1    1.0               1        0.214000  264.0  15.0   1   \n",
      "24        15      1    2.0               1        0.097946  264.0  15.0   2   \n",
      "12        16      1    1.0               1        0.179120  264.0  15.0   1   \n",
      "25        17      1    2.0               1        0.633404  264.0  15.0   2   \n",
      "13        18      1    1.0               1        0.441117  264.0  15.0   1   \n",
      "14        19      2    1.0               1        0.442670  264.0  15.0   1   \n",
      "15        20      2    1.0               1        0.330172  264.0  15.0   1   \n",
      "26        21      2    2.0               1        1.268324  264.0  15.0   2   \n",
      "16        22      2    1.0               1        0.024006  264.0  15.0   1   \n",
      "17        23      2    1.0               1        0.317721  264.0  15.0   1   \n",
      "18        24      2    1.0               1        1.344187  264.0  15.0   1   \n",
      "19        25      2    1.0               1        0.204554  264.0  15.0   1   \n",
      "20        26      2    1.0               1        0.039401  264.0  15.0   1   \n",
      "\n",
      "    Ny  Nz   ShadedPAR   SunlitPAR  ShadedArea  SunlitArea      Area  \\\n",
      "0    1   1  357.368713  456.002899     0.45133    7.712864  8.164194   \n",
      "1    1   1  357.368713  456.002899     0.45133    7.712864  8.164194   \n",
      "2    1   1  357.368713  456.002899     0.45133    7.712864  8.164194   \n",
      "3    1   1  357.368713  456.002899     0.45133    7.712864  8.164194   \n",
      "4    1   1  357.368713  456.002899     0.45133    7.712864  8.164194   \n",
      "21   1   1  369.472687  468.106873     0.06519    2.565879  2.631069   \n",
      "5    1   1  357.368713  456.002899     0.45133    7.712864  8.164194   \n",
      "6    1   1  357.368713  456.002899     0.45133    7.712864  8.164194   \n",
      "7    1   1  357.368713  456.002899     0.45133    7.712864  8.164194   \n",
      "22   1   1  369.472687  468.106873     0.06519    2.565879  2.631069   \n",
      "8    1   1  357.368713  456.002899     0.45133    7.712864  8.164194   \n",
      "23   1   1  369.472687  468.106873     0.06519    2.565879  2.631069   \n",
      "9    1   1  357.368713  456.002899     0.45133    7.712864  8.164194   \n",
      "10   1   1  357.368713  456.002899     0.45133    7.712864  8.164194   \n",
      "11   1   1  357.368713  456.002899     0.45133    7.712864  8.164194   \n",
      "24   1   1  369.472687  468.106873     0.06519    2.565879  2.631069   \n",
      "12   1   1  357.368713  456.002899     0.45133    7.712864  8.164194   \n",
      "25   1   1  369.472687  468.106873     0.06519    2.565879  2.631069   \n",
      "13   1   1  357.368713  456.002899     0.45133    7.712864  8.164194   \n",
      "14   1   1  357.368713  456.002899     0.45133    7.712864  8.164194   \n",
      "15   1   1  357.368713  456.002899     0.45133    7.712864  8.164194   \n",
      "26   1   1  369.472687  468.106873     0.06519    2.565879  2.631069   \n",
      "16   1   1  357.368713  456.002899     0.45133    7.712864  8.164194   \n",
      "17   1   1  357.368713  456.002899     0.45133    7.712864  8.164194   \n",
      "18   1   1  357.368713  456.002899     0.45133    7.712864  8.164194   \n",
      "19   1   1  357.368713  456.002899     0.45133    7.712864  8.164194   \n",
      "20   1   1  357.368713  456.002899     0.45133    7.712864  8.164194   \n",
      "\n",
      "          PARa  Intercepted  Transmitted  \n",
      "0   450.550232     7.356759    27.887056  \n",
      "1   450.550232     7.356759    27.887056  \n",
      "2   450.550232     7.356759    27.887056  \n",
      "3   450.550232     7.356759    27.887056  \n",
      "4   450.550232     7.356759    27.887056  \n",
      "21  465.663025     2.450383    29.358543  \n",
      "5   450.550232     7.356759    27.887056  \n",
      "6   450.550232     7.356759    27.887056  \n",
      "7   450.550232     7.356759    27.887056  \n",
      "22  465.663025     2.450383    29.358543  \n",
      "8   450.550232     7.356759    27.887056  \n",
      "23  465.663025     2.450383    29.358543  \n",
      "9   450.550232     7.356759    27.887056  \n",
      "10  450.550232     7.356759    27.887056  \n",
      "11  450.550232     7.356759    27.887056  \n",
      "24  465.663025     2.450383    29.358543  \n",
      "12  450.550232     7.356759    27.887056  \n",
      "25  465.663025     2.450383    29.358543  \n",
      "13  450.550232     7.356759    27.887056  \n",
      "14  450.550232     7.356759    27.887056  \n",
      "15  450.550232     7.356759    27.887056  \n",
      "26  465.663025     2.450383    29.358543  \n",
      "16  450.550232     7.356759    27.887056  \n",
      "17  450.550232     7.356759    27.887056  \n",
      "18  450.550232     7.356759    27.887056  \n",
      "19  450.550232     7.356759    27.887056  \n",
      "20  450.550232     7.356759    27.887056  \n"
     ]
    }
   ],
   "source": [
    "print(lighting.triangles_outputs)"
   ]
  },
  {
   "cell_type": "code",
   "execution_count": 11,
   "id": "b75e7015",
   "metadata": {},
   "outputs": [
    {
     "name": "stdout",
     "output_type": "stream",
     "text": [
      "   VegetationType    Day  Hour  Voxel  Nx  Ny  Nz   ShadedPAR   SunlitPAR  \\\n",
      "0             1.0  264.0  15.0    1.0   1   1   1  357.368713  456.002899   \n",
      "1             1.0  264.0  15.0    2.0   2   1   1  369.472687  468.106873   \n",
      "\n",
      "   ShadedArea  SunlitArea      Area        PARa  Intercepted  Transmitted  \n",
      "0     0.45133    7.712864  8.164194  450.550232     7.356759    27.887056  \n",
      "1     0.06519    2.565879  2.631069  465.663025     2.450383    29.358543  \n"
     ]
    }
   ],
   "source": [
    "print(lighting.voxels_outputs)"
   ]
  },
  {
   "cell_type": "code",
   "execution_count": 12,
   "id": "efbb1e3b",
   "metadata": {},
   "outputs": [
    {
     "name": "stdout",
     "output_type": "stream",
     "text": [
      "     Day  Hour  Organ  VegetationType      Area        PARa  Intercepted  \\\n",
      "0  264.0  15.0      0               1  3.520159  451.509950     7.045186   \n",
      "1  264.0  15.0      1               1  3.304070  455.760934     5.665102   \n",
      "2  264.0  15.0      2               1  3.971035  455.377164     5.789693   \n",
      "\n",
      "   Transmitted   SunlitPAR  SunlitArea   ShadedPAR  ShadedArea  \n",
      "0     7.045186  456.771546    7.386012  358.137361    0.426808  \n",
      "1     5.665102  460.176198    5.938248  361.542012    0.318194  \n",
      "2     5.789693  459.868833    6.068949  361.234647    0.327999  \n"
     ]
    }
   ],
   "source": [
    "print(lighting.elements_outputs)"
   ]
  },
  {
   "cell_type": "markdown",
   "id": "fcc54af5",
   "metadata": {},
   "source": [
    "## l-egume results transfer\n",
    "\n",
    "There are two possible scenarios:\n",
    "- with RATP, the tool reformats the data types. Grid specifications must match with l-egume internal grid instance\n",
    "- with CARIBU, you need to use virtual sensors following the dimensions of l-egume internal grid.\n",
    "\n",
    "The id argument is used with you several input scenes but you need to transfer only some of them to your l-egume instance.\n",
    "\n",
    "In both case, it will return two tables, one with intercepted lighting and another with transmitted lighting in each voxel."
   ]
  },
  {
   "cell_type": "code",
   "execution_count": 2,
   "id": "39bd8bce",
   "metadata": {},
   "outputs": [],
   "source": [
    "# grid dimensions\n",
    "dxyz = [1.] * 3\n",
    "nxyz = [7, 7, 7]\n",
    "orig = [-1., -1., 0.]"
   ]
  },
  {
   "cell_type": "code",
   "execution_count": 3,
   "id": "25b65a64",
   "metadata": {},
   "outputs": [],
   "source": [
    "spheresize = (1., 0.3) # vertices of triangles are the sphere surface\n",
    "worldsize = (0., 5.)\n",
    "\n",
    "nb_triangles = 10\n",
    "triangles1 = [random_triangle_generator(worldsize=worldsize, spheresize=spheresize) for i in range(nb_triangles)]\n",
    "\n",
    "nb_triangles = 9\n",
    "triangles2 = [random_triangle_generator(worldsize=worldsize, spheresize=spheresize) for i in range(nb_triangles)]\n",
    "\n",
    "nb_triangles = 8\n",
    "triangles3 = [random_triangle_generator(worldsize=worldsize, spheresize=spheresize) for i in range(nb_triangles)]\n",
    "\n",
    "scene = {0: triangles1, 1: triangles2, 2: triangles3}"
   ]
  },
  {
   "cell_type": "markdown",
   "id": "ad8f382e",
   "metadata": {},
   "source": [
    "#### RATP\n",
    "\n",
    "Input: l-egume intern grid of leaf area"
   ]
  },
  {
   "cell_type": "code",
   "execution_count": 8,
   "id": "2eb81590",
   "metadata": {},
   "outputs": [],
   "source": [
    "ratp_parameters = { \"voxel size\" : dxyz,\n",
    "                    \"origin\" : orig,\n",
    "                    \"number voxels\" : nxyz,\n",
    "                    \"full grid\" : True}\n",
    "\n",
    "lighting = LightVegeManager(lightmodel=\"ratp\", lightmodel_parameters=ratp_parameters)\n",
    "lighting.build(geometry={\"scenes\" : [scene] })\n",
    "\n",
    "energy = 500.\n",
    "hour = 15\n",
    "day = 264\n",
    "lighting.run(energy=energy, hour=hour, day=day)"
   ]
  },
  {
   "cell_type": "code",
   "execution_count": 9,
   "id": "9e8d468c",
   "metadata": {},
   "outputs": [
    {
     "data": {
      "application/vnd.jupyter.widget-view+json": {
       "model_id": "f650a9774fa542e2bb5e2ba80595e729",
       "version_major": 2,
       "version_minor": 0
      },
      "text/plain": [
       "SceneWidget(axes_helper=True, scenes=[{'id': 'eVV4F11s33BPVUjNuulHClHso', 'data': b'x\\xda\\x8d}\\x0b\\x94\\xf5Uu\\x…"
      ]
     },
     "execution_count": 9,
     "metadata": {},
     "output_type": "execute_result"
    }
   ],
   "source": [
    "SceneWidget(lighting.plantGL_nolight(printtriangles=True, printvoxels=True), \n",
    "            position=(0., 0., 0.0), \n",
    "            size_display=(600, 400), \n",
    "            plane=True, \n",
    "            size_world = 10, \n",
    "            axes_helper=True)"
   ]
  },
  {
   "cell_type": "code",
   "execution_count": 10,
   "id": "e020532a",
   "metadata": {},
   "outputs": [],
   "source": [
    "import numpy\n",
    "\n",
    "m_lais = numpy.zeros([1] + nxyz)\n",
    "\n",
    "for row in lighting.voxels_outputs.itertuples():\n",
    "    m_lais[int(row.VegetationType)-1][row.Nz-1][row.Nx-1][row.Ny-1] = row.Area"
   ]
  },
  {
   "cell_type": "code",
   "execution_count": 11,
   "id": "f4281a0d",
   "metadata": {},
   "outputs": [
    {
     "name": "stdout",
     "output_type": "stream",
     "text": [
      "PARa intercepted\n",
      "[[[[1.00000000e-14 1.00000000e-14 1.00000000e-14 1.00000000e-14\n",
      "    1.00000000e-14 1.00000000e-14 1.00000000e-14]\n",
      "   [1.00000000e-14 1.00000000e-14 1.00000000e-14 1.00000000e-14\n",
      "    1.00000000e-14 1.00000000e-14 1.00000000e-14]\n",
      "   [1.00000000e-14 1.00000000e-14 1.00000000e-14 1.00000000e-14\n",
      "    1.00000000e-14 1.00000000e-14 1.00000000e-14]\n",
      "   [1.00000000e-14 1.00000000e-14 1.00000000e-14 1.00000000e-14\n",
      "    1.00000000e-14 1.00000000e-14 1.00000000e-14]\n",
      "   [1.00000000e-14 1.00000000e-14 1.00000000e-14 1.00000000e-14\n",
      "    1.00000000e-14 1.00000000e-14 1.00000000e-14]\n",
      "   [1.00000000e-14 1.00000000e-14 1.00000000e-14 1.00000000e-14\n",
      "    1.00000000e-14 1.00000000e-14 1.00000000e-14]\n",
      "   [1.00000000e-14 1.00000000e-14 1.00000000e-14 1.00000000e-14\n",
      "    1.00000000e-14 1.00000000e-14 1.00000000e-14]]\n",
      "\n",
      "  [[1.00000000e-14 1.00000000e-14 1.00000000e-14 1.00000000e-14\n",
      "    1.00000000e-14 1.00000000e-14 1.00000000e-14]\n",
      "   [1.00000000e-14 1.00000000e-14 1.00000000e-14 1.00000000e-14\n",
      "    1.00000000e-14 1.00000000e-14 1.00000000e-14]\n",
      "   [1.00000000e-14 1.00000000e-14 1.00000000e-14 1.00000000e-14\n",
      "    1.00000000e-14 1.00000000e-14 1.00000000e-14]\n",
      "   [1.00000000e-14 1.00000000e-14 1.00000000e-14 1.00000000e-14\n",
      "    1.00000000e-14 1.00000000e-14 1.00000000e-14]\n",
      "   [1.00000000e-14 1.00000000e-14 1.00000000e-14 1.00000000e-14\n",
      "    1.00000000e-14 1.00000000e-14 1.00000000e-14]\n",
      "   [1.00000000e-14 1.00000000e-14 1.91255584e-01 1.00000000e-14\n",
      "    1.00000000e-14 1.00000000e-14 1.00000000e-14]\n",
      "   [1.00000000e-14 1.00000000e-14 1.00000000e-14 1.00000000e-14\n",
      "    1.00000000e-14 1.00000000e-14 1.00000000e-14]]\n",
      "\n",
      "  [[1.00000000e-14 1.00000000e-14 1.00000000e-14 1.00000000e-14\n",
      "    1.00000000e-14 1.00000000e-14 1.00000000e-14]\n",
      "   [1.00000000e-14 1.00000000e-14 1.00000000e-14 1.00000000e-14\n",
      "    3.62365872e-01 1.22457137e-03 1.00000000e-14]\n",
      "   [1.00000000e-14 1.00000000e-14 1.95049897e-01 1.00000000e-14\n",
      "    4.01137352e-01 4.10260499e-01 1.00000000e-14]\n",
      "   [1.00000000e-14 1.00000000e-14 1.00000000e-14 2.34853730e-01\n",
      "    6.89631641e-01 1.00000000e-14 1.00000000e-14]\n",
      "   [1.00000000e-14 1.00000000e-14 1.00000000e-14 1.00000000e-14\n",
      "    1.00000000e-14 1.00000000e-14 1.00000000e-14]\n",
      "   [1.00000000e-14 1.00000000e-14 1.00000000e-14 1.05850622e-01\n",
      "    1.00000000e-14 1.00000000e-14 1.00000000e-14]\n",
      "   [1.00000000e-14 1.00000000e-14 1.00000000e-14 1.00000000e-14\n",
      "    1.00000000e-14 1.00000000e-14 1.00000000e-14]]\n",
      "\n",
      "  [[1.00000000e-14 1.00000000e-14 1.00000000e-14 1.00000000e-14\n",
      "    1.00000000e-14 1.00000000e-14 1.00000000e-14]\n",
      "   [1.00000000e-14 1.00000000e-14 1.00000000e-14 1.07698523e-01\n",
      "    1.27102673e+00 1.00000000e-14 1.00000000e-14]\n",
      "   [1.00000000e-14 1.00000000e-14 2.34604865e-01 1.00000000e-14\n",
      "    1.00000000e-14 1.00000000e-14 1.00000000e-14]\n",
      "   [1.00000000e-14 2.00332925e-02 1.00000000e-14 1.00000000e-14\n",
      "    1.00000000e-14 1.00000000e-14 1.00000000e-14]\n",
      "   [1.00000000e-14 1.00000000e-14 1.00000000e-14 1.00000000e-14\n",
      "    1.00000000e-14 1.00000000e-14 1.00000000e-14]\n",
      "   [1.00000000e-14 1.00000000e-14 1.00000000e-14 1.00000000e-14\n",
      "    1.00000000e-14 1.00000000e-14 1.00000000e-14]\n",
      "   [1.00000000e-14 1.00000000e-14 1.00000000e-14 1.00000000e-14\n",
      "    1.00000000e-14 1.00000000e-14 1.00000000e-14]]\n",
      "\n",
      "  [[1.00000000e-14 1.00000000e-14 1.00000000e-14 1.00000000e-14\n",
      "    1.00000000e-14 1.00000000e-14 1.00000000e-14]\n",
      "   [1.00000000e-14 1.00000000e-14 6.13946058e-02 5.03006637e-01\n",
      "    1.00000000e-14 1.00000000e-14 1.00000000e-14]\n",
      "   [1.00000000e-14 1.00000000e-14 1.00000000e-14 3.54082614e-01\n",
      "    1.00000000e-14 1.00000000e-14 1.00000000e-14]\n",
      "   [1.00000000e-14 1.00000000e-14 1.00000000e-14 1.38437843e+00\n",
      "    1.74996093e-01 1.00000000e-14 1.00000000e-14]\n",
      "   [1.00000000e-14 1.00000000e-14 9.02987361e-01 1.00000000e-14\n",
      "    1.00000000e-14 1.00000000e-14 1.00000000e-14]\n",
      "   [1.00000000e-14 1.18964568e-01 1.00000000e-14 1.00000000e-14\n",
      "    1.00000000e-14 1.00000000e-14 1.00000000e-14]\n",
      "   [1.00000000e-14 1.00000000e-14 1.00000000e-14 1.00000000e-14\n",
      "    1.00000000e-14 1.00000000e-14 1.00000000e-14]]\n",
      "\n",
      "  [[1.00000000e-14 1.00000000e-14 1.00000000e-14 1.00000000e-14\n",
      "    1.00000000e-14 1.00000000e-14 1.00000000e-14]\n",
      "   [1.00000000e-14 2.70237744e-01 1.00000000e-14 1.00000000e-14\n",
      "    1.00000000e-14 1.00000000e-14 1.00000000e-14]\n",
      "   [1.00000000e-14 1.00000000e-14 1.00000000e-14 1.00000000e-14\n",
      "    2.15935960e-01 1.00000000e-14 1.00000000e-14]\n",
      "   [1.00000000e-14 1.00000000e-14 1.00000000e-14 1.00000000e-14\n",
      "    3.86473686e-02 1.00000000e-14 1.00000000e-14]\n",
      "   [1.00000000e-14 1.00000000e-14 1.00000000e-14 1.36857376e-01\n",
      "    1.00000000e-14 1.00000000e-14 1.00000000e-14]\n",
      "   [1.00000000e-14 1.00000000e-14 1.00000000e-14 1.00000000e-14\n",
      "    1.00000000e-14 1.00000000e-14 1.00000000e-14]\n",
      "   [1.00000000e-14 1.00000000e-14 1.00000000e-14 1.00000000e-14\n",
      "    1.00000000e-14 1.00000000e-14 1.00000000e-14]]\n",
      "\n",
      "  [[1.00000000e-14 1.00000000e-14 1.00000000e-14 1.00000000e-14\n",
      "    1.00000000e-14 1.00000000e-14 1.00000000e-14]\n",
      "   [1.00000000e-14 1.00000000e-14 1.00000000e-14 1.00000000e-14\n",
      "    1.00000000e-14 1.00000000e-14 1.00000000e-14]\n",
      "   [1.00000000e-14 1.00000000e-14 1.00000000e-14 5.66032231e-02\n",
      "    1.00000000e-14 1.00000000e-14 1.00000000e-14]\n",
      "   [1.00000000e-14 1.00000000e-14 1.00000000e-14 1.00000000e-14\n",
      "    5.84830046e-01 1.00000000e-14 1.00000000e-14]\n",
      "   [1.00000000e-14 1.00000000e-14 1.00000000e-14 1.00000000e-14\n",
      "    1.00000000e-14 1.00000000e-14 1.00000000e-14]\n",
      "   [1.00000000e-14 1.00000000e-14 1.00000000e-14 1.00000000e-14\n",
      "    1.00000000e-14 1.00000000e-14 1.00000000e-14]\n",
      "   [1.00000000e-14 1.00000000e-14 1.00000000e-14 1.00000000e-14\n",
      "    1.00000000e-14 1.00000000e-14 1.00000000e-14]]]]\n",
      "\n",
      "\n",
      "PARa transmitted\n",
      "[[[1.         1.         1.         1.         1.         1.\n",
      "   1.        ]\n",
      "  [1.         1.         1.         1.         1.         1.\n",
      "   1.        ]\n",
      "  [1.         1.         1.         1.         1.         1.\n",
      "   1.        ]\n",
      "  [1.         1.         1.         1.         1.         1.\n",
      "   1.        ]\n",
      "  [1.         1.         1.         1.         1.         1.\n",
      "   1.        ]\n",
      "  [1.         1.         1.         1.         1.         1.\n",
      "   1.        ]\n",
      "  [1.         1.         1.         1.         1.         1.\n",
      "   1.        ]]\n",
      "\n",
      " [[1.         0.99963057 0.99957138 0.99947673 1.         1.\n",
      "   1.        ]\n",
      "  [1.         1.         1.         1.         1.         1.\n",
      "   1.        ]\n",
      "  [1.         1.         1.         1.         1.         1.\n",
      "   1.        ]\n",
      "  [1.         1.         0.99926668 1.         1.         1.\n",
      "   1.        ]\n",
      "  [0.99970013 0.99676865 0.98825139 0.99629509 0.99986303 1.\n",
      "   1.        ]\n",
      "  [0.99902207 0.99121612 0.919734   0.9877432  0.99918234 1.\n",
      "   1.        ]\n",
      "  [1.         0.998151   0.99141204 0.99720836 1.         1.\n",
      "   1.        ]]\n",
      "\n",
      " [[0.99686068 0.99802268 0.99410558 0.98673284 0.96794111 0.98563504\n",
      "   0.99416107]\n",
      "  [0.99585605 0.99449784 0.97916114 0.95942354 0.80911517 0.93542254\n",
      "   0.98531598]\n",
      "  [0.99475813 0.98461145 0.90690106 0.92244434 0.73988777 0.78323054\n",
      "   0.96694493]\n",
      "  [0.99632591 0.99120426 0.9665345  0.84882689 0.67848641 0.92360383\n",
      "   0.98617125]\n",
      "  [0.99687183 0.99460918 0.98012727 0.96042752 0.9532088  0.98170686\n",
      "   0.99605304]\n",
      "  [0.99543226 0.99152982 0.97064966 0.94378668 0.98623681 0.99440718\n",
      "   0.99580491]\n",
      "  [0.99548972 0.9954195  0.99088526 0.98755527 0.99215525 0.99616665\n",
      "   0.99683207]]\n",
      "\n",
      " [[0.99154222 0.98986703 0.97595549 0.93902242 0.87979883 0.94595563\n",
      "   0.98320436]\n",
      "  [0.98788708 0.97815615 0.93926233 0.82371432 0.40502387 0.8600387\n",
      "   0.96764725]\n",
      "  [0.98203403 0.96068132 0.84095889 0.87493688 0.78784174 0.86833286\n",
      "   0.95500243]\n",
      "  [0.98539996 0.96764213 0.94185394 0.91136855 0.86435711 0.92827505\n",
      "   0.9719072 ]\n",
      "  [0.98689526 0.98537415 0.96861196 0.95374638 0.94034904 0.96856815\n",
      "   0.98217195]\n",
      "  [0.98805183 0.9888103  0.96952713 0.96083057 0.96848112 0.97835684\n",
      "   0.98321474]\n",
      "  [0.99521863 0.99247658 0.98359537 0.97790587 0.97665089 0.98280752\n",
      "   0.98712826]]\n",
      "\n",
      " [[0.97396404 0.97732759 0.95046979 0.90020192 0.8875643  0.93730801\n",
      "   0.96813494]\n",
      "  [0.97440737 0.96788532 0.87619686 0.65420538 0.77308333 0.88455611\n",
      "   0.95573801]\n",
      "  [0.97905767 0.96105552 0.86347568 0.64449    0.798118   0.89461142\n",
      "   0.96182084]\n",
      "  [0.98428118 0.95343912 0.80644536 0.36933419 0.75600612 0.92658126\n",
      "   0.97097325]\n",
      "  [0.98272175 0.92263758 0.59786361 0.84413874 0.93022043 0.96003735\n",
      "   0.98030746]\n",
      "  [0.98167884 0.92343473 0.92852783 0.95988148 0.95882422 0.98353291\n",
      "   0.98981279]\n",
      "  [0.98821801 0.97827053 0.97353882 0.97693914 0.96563995 0.98353904\n",
      "   0.98521316]]\n",
      "\n",
      " [[0.96288335 0.93929774 0.92631412 0.89874583 0.90402168 0.94615626\n",
      "   0.95473844]\n",
      "  [0.95003837 0.84268683 0.86060578 0.81803173 0.82487935 0.90885699\n",
      "   0.94603294]\n",
      "  [0.94327873 0.91743463 0.85111934 0.76143235 0.747778   0.89120042\n",
      "   0.94725478]\n",
      "  [0.97430396 0.92609513 0.82673693 0.73656482 0.78086466 0.90808272\n",
      "   0.94624001]\n",
      "  [0.96516496 0.93356055 0.83229494 0.79863918 0.88125861 0.94769037\n",
      "   0.97597754]\n",
      "  [0.97860146 0.94880772 0.90524018 0.91579521 0.93609023 0.97752261\n",
      "   0.98202926]\n",
      "  [0.9830606  0.96851254 0.94450408 0.93516695 0.93937171 0.95932865\n",
      "   0.9740687 ]]\n",
      "\n",
      " [[0.93367374 0.91789633 0.91964561 0.9338572  0.90871698 0.94616085\n",
      "   0.95534593]\n",
      "  [0.94012743 0.90739971 0.89350057 0.88228625 0.86454254 0.9217149\n",
      "   0.94184065]\n",
      "  [0.92299747 0.89996201 0.8715623  0.81494373 0.83152366 0.87107247\n",
      "   0.93528658]\n",
      "  [0.94811577 0.91303241 0.86293799 0.79458439 0.64303416 0.88547724\n",
      "   0.9305917 ]\n",
      "  [0.94927919 0.92561966 0.88040262 0.87153274 0.84795934 0.9235304\n",
      "   0.94650728]\n",
      "  [0.96347046 0.94701046 0.90630186 0.91416645 0.91751611 0.95114535\n",
      "   0.96184111]\n",
      "  [0.95411432 0.95206857 0.91245848 0.93170208 0.91695338 0.9464457\n",
      "   0.95381296]]]\n"
     ]
    }
   ],
   "source": [
    "res_abs_i, res_trans = lighting.to_l_egume(m_lais=m_lais)\n",
    "\n",
    "print(\"PARa intercepted\")\n",
    "print(res_abs_i)\n",
    "print(\"\\n\")\n",
    "print(\"PARa transmitted\")\n",
    "print(res_trans)"
   ]
  },
  {
   "cell_type": "markdown",
   "id": "9fcffc57",
   "metadata": {},
   "source": [
    "#### CARIBU\n",
    "\n",
    "Input: l-egume intern grid of leaf area"
   ]
  },
  {
   "cell_type": "code",
   "execution_count": 4,
   "id": "00448c53",
   "metadata": {},
   "outputs": [],
   "source": [
    "caribu_args = { \"sensors\" : [\"grid\", dxyz, nxyz, orig] }\n",
    "\n",
    "lighting = LightVegeManager(lightmodel=\"caribu\", lightmodel_parameters=caribu_args, environment={\"infinite\":True})\n",
    "lighting.build(geometry={\"scenes\" : [scene] })\n",
    "\n",
    "energy = 500.\n",
    "hour = 15\n",
    "day = 264\n",
    "lighting.run(energy=energy, hour=hour, day=day)"
   ]
  },
  {
   "cell_type": "code",
   "execution_count": 5,
   "id": "59229231",
   "metadata": {},
   "outputs": [
    {
     "data": {
      "application/vnd.jupyter.widget-view+json": {
       "model_id": "807d4e2d53194fff894c9ed93cf720e8",
       "version_major": 2,
       "version_minor": 0
      },
      "text/plain": [
       "SceneWidget(axes_helper=True, scenes=[{'id': 'MwRlXOaT39UuyymKny87RStKz', 'data': b'x\\xda\\x8d\\x9d\\t\\x98\\x1dE\\x…"
      ]
     },
     "execution_count": 5,
     "metadata": {},
     "output_type": "execute_result"
    }
   ],
   "source": [
    "SceneWidget(lighting.plantGL_sensors(light=True) + lighting.plantGL_nolight(), \n",
    "            position=(-0., -0., 0.0), \n",
    "            size_display=(600, 400), \n",
    "            plane=True, \n",
    "            size_world = 10, \n",
    "            axes_helper=True)"
   ]
  },
  {
   "cell_type": "code",
   "execution_count": 6,
   "id": "9e714349",
   "metadata": {},
   "outputs": [],
   "source": [
    "# plant parameters, those variables are part of l-egume, here is a simplified version for our example\n",
    "list_invar = [{\"Hplante\": [0.0] * 2}]\n",
    "list_lstring = [\n",
    "    {\n",
    "        0: [0, 0, 0, 0, 0, 0, 0, 0, 0, \"dev\"],\n",
    "        1: [0, 0, 0, 0, 0, 0, 0, 0, 0, \"sen\"],\n",
    "        2: [1, 0, 0, 0, 0, 0, 0, 0, 0, \"dev\"],\n",
    "    }\n",
    "]\n",
    "list_dicFeuilBilanR = [\n",
    "    {\"surf\": [0.5, 1e-8]},\n",
    "]\n",
    "\n",
    "import numpy\n",
    "\n",
    "m_lais = numpy.zeros([1] + nxyz)"
   ]
  },
  {
   "cell_type": "code",
   "execution_count": 7,
   "id": "635d93e3",
   "metadata": {},
   "outputs": [
    {
     "name": "stdout",
     "output_type": "stream",
     "text": [
      "\n",
      "\n",
      "PARa absorbed per plant\n",
      "[{'Hplante': [0.0, 0.0], 'parap': array([230.44407642,  98.6702188 ]), 'parip': array([349.22395645,  98.6702188 ])}]\n"
     ]
    }
   ],
   "source": [
    "res_trans = lighting.to_l_egume(m_lais=m_lais, \n",
    "                                list_lstring=list_lstring, \n",
    "                                list_dicFeuilBilanR=list_dicFeuilBilanR, \n",
    "                                list_invar=list_invar)\n",
    "print(\"PARa transmitted\")\n",
    "print(res_trans)\n",
    "\n",
    "print(\"\\n\")\n",
    "print(\"PARa absorbed per plant\")\n",
    "print(list_invar)"
   ]
  },
  {
   "cell_type": "markdown",
   "id": "4f336844",
   "metadata": {},
   "source": [
    "## CN-Wheat results transfer\n",
    "\n",
    "The method `to_MTG` is used to transfer results to Cn-Wheat through a MTG object with the properties `\"PARa\"` and `\"Erel\"`. The `id` argument is used with you several input scenes but you need to transfer only some of them to your MTG instance."
   ]
  },
  {
   "cell_type": "code",
   "execution_count": 2,
   "id": "cc377bd4",
   "metadata": {},
   "outputs": [],
   "source": [
    "# load a MTG instance\n",
    "import os\n",
    "from alinea.adel.adel_dynamic import AdelDyn\n",
    "from alinea.adel.echap_leaf import echap_leaves\n",
    "\n",
    "INPUTS_DIRPATH = os.path.join(os.path.dirname(os.path.abspath(\"\")), \"data\")\n",
    "adel_wheat = AdelDyn(seed=1, scene_unit=\"m\", leaves=echap_leaves(xy_model=\"Soissons_byleafclass\"))\n",
    "g = adel_wheat.load(dir=INPUTS_DIRPATH)"
   ]
  },
  {
   "cell_type": "code",
   "execution_count": 3,
   "id": "476690b3",
   "metadata": {},
   "outputs": [],
   "source": [
    "lighting = LightVegeManager(lightmodel=\"caribu\")\n",
    "lighting.build(geometry={\"scenes\" : [g] })\n",
    "\n",
    "energy = 500.\n",
    "hour = 15\n",
    "day = 264\n",
    "lighting.run(energy=energy, hour=hour, day=day)"
   ]
  },
  {
   "cell_type": "code",
   "execution_count": 4,
   "id": "2ccd1d03",
   "metadata": {},
   "outputs": [
    {
     "name": "stdout",
     "output_type": "stream",
     "text": [
      "{19: 183.28839878423275, 34: 88.59510772768847, 813: 458.96763725505764, 814: 392.72942554102866, 51: 350.64417693430573}\n",
      "{19: 0.3665767975684655, 34: 0.17719021545537694, 813: 0.9179352745101153, 814: 0.7854588510820574, 51: 0.7012883538686114}\n"
     ]
    }
   ],
   "source": [
    "lighting.to_MTG(mtg=g)\n",
    "print(g.property(\"PARa\"))\n",
    "print(g.property(\"Erel\"))"
   ]
  },
  {
   "cell_type": "code",
   "execution_count": 5,
   "id": "448e2b39",
   "metadata": {},
   "outputs": [],
   "source": [
    "lighting = LightVegeManager(lightmodel=\"ratp\")\n",
    "lighting.build(geometry={\"scenes\" : [g] })\n",
    "\n",
    "energy = 500.\n",
    "hour = 15\n",
    "day = 264\n",
    "lighting.run(energy=energy, hour=hour, day=day)"
   ]
  },
  {
   "cell_type": "code",
   "execution_count": 6,
   "id": "177fd272",
   "metadata": {},
   "outputs": [
    {
     "name": "stdout",
     "output_type": "stream",
     "text": [
      "{19: 468.0222778320313, 34: 468.02227783203136, 813: 468.0222778320312, 814: 473.66244791932104, 51: 468.02227783203125}\n",
      "{19: 0.0007445579394698143, 34: 0.0007445579394698143, 813: 0.0007445579394698141, 814: 0.00030915768207336026, 51: 0.0007445579394698143}\n"
     ]
    }
   ],
   "source": [
    "lighting.to_MTG(mtg=g)\n",
    "print(g.property(\"PARa\"))\n",
    "print(g.property(\"Erel\"))"
   ]
  }
 ],
 "metadata": {
  "kernelspec": {
   "display_name": "Python 3 (ipykernel)",
   "language": "python",
   "name": "python3"
  },
  "language_info": {
   "codemirror_mode": {
    "name": "ipython",
    "version": 3
   },
   "file_extension": ".py",
   "mimetype": "text/x-python",
   "name": "python",
   "nbconvert_exporter": "python",
   "pygments_lexer": "ipython3",
   "version": "3.8.17"
  }
 },
 "nbformat": 4,
 "nbformat_minor": 5
}
