{
 "cells": [
  {
   "cell_type": "markdown",
   "id": "164dd004",
   "metadata": {},
   "source": [
    "# Environment parameters\n",
    "\n",
    "## Content\n",
    "- First\n",
    "- sky\n",
    "    - turtle of 46 directions\n",
    "    - file\n",
    "    - custom number of sky directions\n",
    "\n",
    "## Introduction\n",
    "Environment parameters are stored in a dict and transferred as an input argument for a LightVegeManager instance. It defines all static parameters during a simulation, such the sky type, radiative options etc...\n",
    "\n",
    "```python\n",
    "environment = {\n",
    "                \"coordinates\" : [latitude, longitude, timezone] ,\n",
    "\n",
    "                \"sky\" : \"turtle46\" ,\n",
    "                \"sky\" : [\"file\", filepath] ,\n",
    "                \"sky\" : [nb_azimut, nb_zenith, \"soc\" or \"uoc\"] ,\n",
    "\n",
    "                \"direct\" : bool, # sun radiations\n",
    "                \"diffus\" : bool, # sky radiations\n",
    "                \"reflected\" : bool, # reflected radiation in the canopy\n",
    "                \"infinite\" : bool, # infinitisation of the scene\n",
    "                }\n",
    "```\n"
   ]
  },
  {
   "cell_type": "code",
   "execution_count": null,
   "id": "b8cabb25",
   "metadata": {},
   "outputs": [],
   "source": [
    "from lightvegemanager.tool import LightVegeManager\n",
    "from pgljupyter import SceneWidget"
   ]
  },
  {
   "cell_type": "markdown",
   "id": "a951e939",
   "metadata": {},
   "source": [
    "As a geometric example, we will use a random set of 3D triangles"
   ]
  },
  {
   "cell_type": "code",
   "execution_count": null,
   "id": "4f37d299",
   "metadata": {},
   "outputs": [],
   "source": [
    "from lightvegemanager.trianglesmesh import random_triangle_generator\n",
    "\n",
    "nb_triangles = 50\n",
    "spheresize = (10., 2.) # vertices of triangles are the sphere surface\n",
    "triangles = []\n",
    "for i in range(nb_triangles):\n",
    "    triangles.append(random_triangle_generator(spheresize=spheresize))"
   ]
  },
  {
   "cell_type": "markdown",
   "id": "1eb888dc",
   "metadata": {},
   "source": [
    "## First options\n",
    "\n",
    "- `\"coordinates\"`: sets the coordinates of the simulation, this matters if you want direct radiations\n",
    "- `\"infinite\"`: sets if you want an infinite reproduction\n",
    "- `\"reflected\"`: activates or not the reflections in the scene\n",
    "- `\"direct\"`: activates or not the direct radiations (sun)\n",
    "- `\"diffuse\"`: activates or not the diffuse radiations (sky)"
   ]
  },
  {
   "cell_type": "markdown",
   "id": "2d74bc78",
   "metadata": {},
   "source": [
    "An example of use"
   ]
  },
  {
   "cell_type": "code",
   "execution_count": null,
   "id": "5d3ea6e8",
   "metadata": {},
   "outputs": [],
   "source": [
    "longitude = 2.\n",
    "latitude = 46.\n",
    "timezone = 1\n",
    "coordinates = [latitude, longitude, timezone]\n",
    "infinite = False\n",
    "reflected = False\n",
    "direct = False\n",
    "diffuse = True\n",
    "\n",
    "environment = {\n",
    "                \"coordinates\": coordinates ,\n",
    "                \"infinite\": infinite\n",
    "                \"reflected\": reflected,\n",
    "                \"direct\": False,\n",
    "                \"diffuse\": True\n",
    "                }"
   ]
  },
  {
   "cell_type": "code",
   "execution_count": null,
   "id": "c16d6a23",
   "metadata": {},
   "outputs": [],
   "source": [
    "lighting = LightVegeManager(lightmodel=\"caribu\", environment=environment)\n",
    "lighting.build(geometry=triangles)\n",
    "\n",
    "energy = 500.\n",
    "hour = 15\n",
    "day = 264\n",
    "lighting.run(energy=energy, hour=hour, day=day)\n",
    "print(lighting.triangles_outputs)"
   ]
  },
  {
   "cell_type": "markdown",
   "id": "fdf646c2",
   "metadata": {},
   "source": [
    "## Different ways to set a sky"
   ]
  },
  {
   "cell_type": "markdown",
   "id": "625b9a25",
   "metadata": {},
   "source": [
    "### Turtle46\n",
    "This options creates a sky in a turtle of 46 directions. It is the default sky in the tool."
   ]
  },
  {
   "cell_type": "code",
   "execution_count": null,
   "id": "a39681ea",
   "metadata": {},
   "outputs": [],
   "source": [
    "sky = \"turtle46\" \n",
    "environment.update({\"sky\": sky})"
   ]
  },
  {
   "cell_type": "code",
   "execution_count": null,
   "id": "039321e4",
   "metadata": {},
   "outputs": [],
   "source": [
    "lighting = LightVegeManager(lightmodel=\"caribu\", environment=environment)\n",
    "lighting.build(geometry=triangles)\n",
    "lighting.run(energy=energy, hour=hour, day=day)\n",
    "print(lighting.triangles_outputs)"
   ]
  },
  {
   "cell_type": "markdown",
   "id": "2a98da17",
   "metadata": {},
   "source": [
    "### File\n",
    "You can set sky directions in a file. It needs azimut, zenit, weight and solid angle of each direction."
   ]
  },
  {
   "cell_type": "code",
   "execution_count": null,
   "id": "a2c5c662",
   "metadata": {},
   "outputs": [],
   "source": [
    "import os\n",
    "datafile = os.path.join(os.path.join(os.path.dirname(os.path.abspath(\"\")), \"data\"), \"sky_5.data\")\n",
    "datafile"
   ]
  },
  {
   "cell_type": "code",
   "execution_count": null,
   "id": "86958bd3",
   "metadata": {},
   "outputs": [],
   "source": [
    "sky = [\"file\", datafile]\n",
    "environment.update({\"sky\": sky})"
   ]
  },
  {
   "cell_type": "code",
   "execution_count": null,
   "id": "7626d4e9",
   "metadata": {},
   "outputs": [],
   "source": [
    "lighting = LightVegeManager(lightmodel=\"caribu\", environment=environment)\n",
    "lighting.build(geometry=triangles)\n",
    "lighting.run(energy=energy, hour=hour, day=day)\n",
    "print(lighting.triangles_outputs)"
   ]
  },
  {
   "cell_type": "markdown",
   "id": "f4e17619",
   "metadata": {},
   "source": [
    "### Custom number of directions\n",
    "You can directly precise the number of directions for each spherical axis."
   ]
  },
  {
   "cell_type": "code",
   "execution_count": null,
   "id": "1622b9ed",
   "metadata": {},
   "outputs": [],
   "source": [
    "nazimuts = 5\n",
    "nzenits = 5\n",
    "skytype = \"soc\"\n",
    "sky = [nazimuts, nzenits, skytype]\n",
    "environment.update({\"sky\": sky})"
   ]
  },
  {
   "cell_type": "code",
   "execution_count": null,
   "id": "653e163c",
   "metadata": {},
   "outputs": [],
   "source": [
    "lighting = LightVegeManager(lightmodel=\"caribu\", environment=environment)\n",
    "lighting.build(geometry=triangles)\n",
    "lighting.run(energy=energy, hour=hour, day=day)\n",
    "print(lighting.triangles_outputs)"
   ]
  },
  {
   "cell_type": "markdown",
   "id": "4ae8f61d",
   "metadata": {},
   "source": [
    "### And RATP ?\n",
    "All the skies defined above are available with RATP as the light model"
   ]
  },
  {
   "cell_type": "code",
   "execution_count": null,
   "id": "a565276b",
   "metadata": {},
   "outputs": [],
   "source": [
    "lighting = LightVegeManager(lightmodel=\"ratp\", environment=environment)\n",
    "lighting.build(geometry=triangles)\n",
    "lighting.run(energy=energy, hour=hour, day=day)\n",
    "print(lighting.triangles_outputs)"
   ]
  }
 ],
 "metadata": {
  "kernelspec": {
   "display_name": "Python 3 (ipykernel)",
   "language": "python",
   "name": "python3"
  },
  "language_info": {
   "codemirror_mode": {
    "name": "ipython",
    "version": 3
   },
   "file_extension": ".py",
   "mimetype": "text/x-python",
   "name": "python",
   "nbconvert_exporter": "python",
   "pygments_lexer": "ipython3",
   "version": "3.8.17"
  }
 },
 "nbformat": 4,
 "nbformat_minor": 5
}
