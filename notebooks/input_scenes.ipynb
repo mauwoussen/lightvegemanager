{
 "cells": [
  {
   "cell_type": "markdown",
   "id": "2712967b",
   "metadata": {},
   "source": [
    "# Geometric inputs\n",
    "\n",
    "## Content\n",
    "- input formats\n",
    "    - Dict of triangles\n",
    "    - PlantGL scene\n",
    "    - VGX file\n",
    "    - Voxels grid\n",
    "    - MTG object from adelwheat\n",
    "    - RATP inputs\n",
    "    - RiRi5 inputs\n",
    "- organization levels: species and organs\n",
    "- stems management\n",
    "- geometric transformations\n",
    "\n",
    "## Introduction\n",
    "The main purpose of this tool was to merge several geometric scenes in various formats and apply a radiative modelling on it. Here, we will precise the different possiblities for manipulating geometry."
   ]
  },
  {
   "cell_type": "code",
   "execution_count": 1,
   "id": "533d5d6d",
   "metadata": {},
   "outputs": [],
   "source": [
    "from lightvegemanager.LVM import LightVegeManager\n",
    "from pgljupyter import SceneWidget"
   ]
  },
  {
   "cell_type": "code",
   "execution_count": 2,
   "id": "d60e30fc",
   "metadata": {},
   "outputs": [],
   "source": [
    "# Environment parameters for this notebook\n",
    "longitude = 2.\n",
    "latitude = 46.\n",
    "timezone = 1\n",
    "coordinates = [latitude, longitude, timezone]\n",
    "infinite = False\n",
    "reflected = False\n",
    "direct = False\n",
    "diffuse = True\n",
    "sky = \"turtle46\" \n",
    "\n",
    "environment = {\n",
    "                \"coordinates\": coordinates ,\n",
    "                \"infinite\": infinite,\n",
    "                \"reflected\": reflected,\n",
    "                \"direct\": direct,\n",
    "                \"diffuse\": diffuse,\n",
    "                \"sky\": sky\n",
    "                }"
   ]
  },
  {
   "cell_type": "markdown",
   "id": "3b713261",
   "metadata": {},
   "source": [
    "## Inputs Formats\n",
    "In this section, we won't present single triangle and list of triangles as input geometry, as they were present in the `tool_basics.ipynb` notebook. Also, these two formats can be direct inputs of the `geometry` argument of the `build` method, unlike the following formats which needs to be included in a list, such as:\n",
    "\n",
    "```python\n",
    "geometry = { \"scenes\": [scene1, scene2, ...] }\n",
    "```\n"
   ]
  },
  {
   "cell_type": "markdown",
   "id": "8c40dd23",
   "metadata": {},
   "source": [
    "### dict of triangles\n",
    "A mesh of triangles can be represented as a dict, where each key is an organ ID and its value, a list of triangles belonging to the organ. A triangle is a list of a 3 vertices represented by `(x,y,z)`points.\n",
    "\n",
    "In this example, we will generate random 3D triangles for 3 differents organs."
   ]
  },
  {
   "cell_type": "code",
   "execution_count": 12,
   "id": "1ce4b2f8",
   "metadata": {},
   "outputs": [],
   "source": [
    "from lightvegemanager.trianglesmesh import random_triangle_generator\n",
    "\n",
    "spheresize = (10., 2.)\n",
    "organized_triangles = {\n",
    "    111: [random_triangle_generator(spheresize=spheresize, worldsize=(0,20)) for i in range(20)],\n",
    "    222: [random_triangle_generator(spheresize=spheresize, worldsize=(20,50)) for i in range(30)],\n",
    "    333: [random_triangle_generator(spheresize=spheresize, worldsize=(50,100)) for i in range(10)],\n",
    "}"
   ]
  },
  {
   "cell_type": "markdown",
   "id": "6368552b",
   "metadata": {},
   "source": [
    "Input geometry looks like:"
   ]
  },
  {
   "cell_type": "code",
   "execution_count": 4,
   "id": "c029f0db",
   "metadata": {},
   "outputs": [],
   "source": [
    "geometry = {\n",
    "    \"scenes\": [organized_triangles]\n",
    "}"
   ]
  },
  {
   "cell_type": "markdown",
   "id": "e8dfb4e6",
   "metadata": {},
   "source": [
    "Then, we compute lighting and run a visualization of the scene.\n",
    "\n",
    "Note: `elements_outputs` method will return a Dataframe where results are integrated on each organ."
   ]
  },
  {
   "cell_type": "code",
   "execution_count": 5,
   "id": "458d90b0",
   "metadata": {},
   "outputs": [
    {
     "name": "stdout",
     "output_type": "stream",
     "text": [
      "   Day  Hour  Organ  VegetationType        Area    par Eabs      par Ei\n",
      "0  264    15    111               0  812.660080  254.783023  299.744733\n",
      "1  264    15    222               0  906.791550  326.191765  383.755017\n",
      "2  264    15    333               0  456.917637  368.655503  433.712356\n"
     ]
    },
    {
     "data": {
      "application/vnd.jupyter.widget-view+json": {
       "model_id": "33bec3443d82488aa08d03e9fa96fe30",
       "version_major": 2,
       "version_minor": 0
      },
      "text/plain": [
       "SceneWidget(axes_helper=True, scenes=[{'id': 'BwxHSpLTosrUCKkss9pQniZu1', 'data': b'x\\xda\\x85\\x9a\\t\\\\U\\xd5\\xf6…"
      ]
     },
     "execution_count": 5,
     "metadata": {},
     "output_type": "execute_result"
    }
   ],
   "source": [
    "lighting = LightVegeManager(lightmodel=\"caribu\", environment=environment)\n",
    "lighting.build(geometry=geometry)\n",
    "\n",
    "# compute the lighting\n",
    "energy = 500.\n",
    "hour = 15\n",
    "day = 264\n",
    "lighting.run(energy=energy, hour=hour, day=day)\n",
    "print(lighting.elements_outputs)\n",
    "SceneWidget(lighting.to_plantGL(lighting=True), \n",
    "            position=(-50.0, -50.0, 0.0), \n",
    "            size_display=(600, 400), \n",
    "            plane=True, \n",
    "            size_world = 100, \n",
    "            axes_helper=True)"
   ]
  },
  {
   "cell_type": "markdown",
   "id": "b26d8e8a",
   "metadata": {},
   "source": [
    "### PlantGL scene\n",
    "A plantGL Scene is a list of plantGL Shape which can be considered as organ. The ID of the plantGL Shape are stored as organs ID."
   ]
  },
  {
   "cell_type": "code",
   "execution_count": 7,
   "id": "51870eda",
   "metadata": {},
   "outputs": [],
   "source": [
    "import openalea.plantgl.all as pgl\n",
    "\n",
    "pgl_scene = pgl.Scene([pgl.Shape(pgl.Box(), pgl.Material(), 888), \n",
    "                        pgl.Shape(pgl.Translated((0,0,1), pgl.Cylinder()), pgl.Material(), 999)])"
   ]
  },
  {
   "cell_type": "code",
   "execution_count": 8,
   "id": "933b9683",
   "metadata": {},
   "outputs": [
    {
     "name": "stdout",
     "output_type": "stream",
     "text": [
      "   Day  Hour  Organ  VegetationType      Area    par Eabs      par Ei\n",
      "0  264    15    888               0  6.000000  159.643042  187.815343\n",
      "1  264    15    999               0  4.475681  185.076017  217.736490\n"
     ]
    },
    {
     "data": {
      "application/vnd.jupyter.widget-view+json": {
       "model_id": "df141e710a8545b7a1bdb5ef74208ad2",
       "version_major": 2,
       "version_minor": 0
      },
      "text/plain": [
       "SceneWidget(axes_helper=True, scenes=[{'id': '8kU7diEsaj9G3BXsKdlxCbLNN', 'data': b'x\\xda\\x95\\x99\\xddn\\x1bE\\x1…"
      ]
     },
     "execution_count": 8,
     "metadata": {},
     "output_type": "execute_result"
    }
   ],
   "source": [
    "geometry = {\n",
    "    \"scenes\": [pgl_scene]\n",
    "}\n",
    "lighting = LightVegeManager(lightmodel=\"caribu\", environment=environment)\n",
    "lighting.build(geometry=geometry)\n",
    "lighting.run(energy=energy, hour=hour, day=day)\n",
    "print(lighting.elements_outputs)\n",
    "SceneWidget(lighting.to_plantGL(lighting=True), \n",
    "            position=(0.0, 0.0, 0.0), \n",
    "            size_display=(600, 400), \n",
    "            plane=True, \n",
    "            size_world = 5, \n",
    "            axes_helper=True)"
   ]
  },
  {
   "cell_type": "markdown",
   "id": "cc11d7e3",
   "metadata": {},
   "source": [
    "### VGX file\n",
    "\n",
    "The tool can read a VGX file as an input entry. It extracts triangles which are considered as leaves, following its colors, if Red != 42 . All triangles are stored in the same organ, where its ID is set to 0."
   ]
  },
  {
   "cell_type": "code",
   "execution_count": 5,
   "id": "e8c9d8fe",
   "metadata": {},
   "outputs": [
    {
     "data": {
      "text/plain": [
       "'C:\\\\Users\\\\mwoussen\\\\cdd\\\\codes\\\\dev\\\\lightvegemanager\\\\data\\\\NICatObs1P2.vgx'"
      ]
     },
     "execution_count": 5,
     "metadata": {},
     "output_type": "execute_result"
    }
   ],
   "source": [
    "import os\n",
    "\n",
    "vgx_path = os.path.join(os.path.dirname(os.path.abspath(\"\")), \"data\", \"NICatObs1P2.vgx\")\n",
    "vgx_path"
   ]
  },
  {
   "cell_type": "code",
   "execution_count": 7,
   "id": "6a3fb580",
   "metadata": {},
   "outputs": [
    {
     "name": "stdout",
     "output_type": "stream",
     "text": [
      "   Day  Hour  Organ  VegetationType         Area    par Eabs      par Ei\n",
      "0  264    15      0               0  6062.836763  193.704509  227.887658\n"
     ]
    },
    {
     "data": {
      "application/vnd.jupyter.widget-view+json": {
       "model_id": "cd5d09ab6f06491c90fbd35eff15d706",
       "version_major": 2,
       "version_minor": 0
      },
      "text/plain": [
       "SceneWidget(axes_helper=True, scenes=[{'id': 'bOBZCLMbmtxLySxt6uCQ3jfKw', 'data': b'x\\xda\\x94\\x9d\\x07\\x9c\\x15E…"
      ]
     },
     "execution_count": 7,
     "metadata": {},
     "output_type": "execute_result"
    }
   ],
   "source": [
    "geometry = {\n",
    "    \"scenes\": [vgx_path]\n",
    "}\n",
    "# compute the lighting\n",
    "energy = 500.\n",
    "hour = 15\n",
    "day = 264\n",
    "lighting = LightVegeManager(lightmodel=\"caribu\", environment=environment)\n",
    "lighting.build(geometry=geometry)\n",
    "lighting.run(energy=energy, hour=hour, day=day)\n",
    "print(lighting.elements_outputs)\n",
    "SceneWidget(lighting.to_plantGL(lighting=True), \n",
    "            position=(0.0, 0.0, 0.0), \n",
    "            size_display=(600, 400), \n",
    "            plane=True, \n",
    "            size_world = 100, \n",
    "            axes_helper=True)"
   ]
  },
  {
   "cell_type": "markdown",
   "id": "0f1213f4",
   "metadata": {},
   "source": [
    "### Grid of voxels\n",
    "\n",
    "A voxel grid is represented as a dict of two entries:\n",
    "- `\"LA\"` corresponding to leaf area, is a table (`numpy.array`) of dimension $\\text{number of species} \\times \\text{number of z layers} \\times \\text{number of x layers} \\times \\text{number of y layers} $\n",
    "- `\"distrib\"` corresponding to leaf angle distribution, is a list of list, where is entered a leaf angle distribution for each specy\n",
    "\n",
    "Grid dimensions and voxel size are set in the input parameters of RATP."
   ]
  },
  {
   "cell_type": "code",
   "execution_count": 7,
   "id": "b5baed34",
   "metadata": {},
   "outputs": [],
   "source": [
    "import numpy\n",
    "\n",
    "l_scene = {\"LA\": numpy.ones([2, 3, 4, 4]), \"distrib\": [[0.5, 0.5], [0.3, 0.7]]}"
   ]
  },
  {
   "cell_type": "code",
   "execution_count": 16,
   "id": "54448444",
   "metadata": {},
   "outputs": [
    {
     "name": "stdout",
     "output_type": "stream",
     "text": [
      "     Day  Hour  Organ  VegetationType         Area        PARa  Intercepted  \\\n",
      "0  264.0  15.0      0               1  6062.836763  307.604456   215.922903   \n",
      "\n",
      "   Transmitted   SunlitPAR  SunlitArea   ShadedPAR  ShadedArea  \n",
      "0   215.922903  307.604461  252.377915  307.604461  126.601372  \n"
     ]
    },
    {
     "data": {
      "application/vnd.jupyter.widget-view+json": {
       "model_id": "92aa1a9361374af78d392edf3b92fce5",
       "version_major": 2,
       "version_minor": 0
      },
      "text/plain": [
       "SceneWidget(axes_helper=True, scenes=[{'id': 'OgKLbEOYkRT69libXrZkXUjuC', 'data': b'x\\xda\\x95XMh]E\\x14\\xbe4\\x8…"
      ]
     },
     "execution_count": 16,
     "metadata": {},
     "output_type": "execute_result"
    }
   ],
   "source": [
    "geometry = {\n",
    "    \"scenes\": [vgx_path]\n",
    "}\n",
    "ratp_parameters = {\n",
    "    \"voxel size\" : [20.] * 3\n",
    "}\n",
    "lighting = LightVegeManager(lightmodel=\"ratp\", environment=environment, lightmodel_parameters=ratp_parameters)\n",
    "lighting.build(geometry=geometry)\n",
    "lighting.run(energy=energy, hour=hour, day=day)\n",
    "print(lighting.elements_outputs)\n",
    "SceneWidget(lighting.to_plantGL(lighting=True, printtriangles=False, printvoxels=True), \n",
    "            position=(0.0, 0.0, 0.0), \n",
    "            size_display=(600, 400), \n",
    "            plane=True, \n",
    "            size_world = 100, \n",
    "            axes_helper=True)"
   ]
  },
  {
   "cell_type": "markdown",
   "id": "db5111f0",
   "metadata": {},
   "source": [
    "### MTG object from adelwheat\n",
    "\n",
    "Finally, you can also give a MTG object with a `\"scene\"` property. The package adelwheat offers such objects."
   ]
  },
  {
   "cell_type": "code",
   "execution_count": 8,
   "id": "228bf66a",
   "metadata": {},
   "outputs": [],
   "source": [
    "from alinea.adel.adel_dynamic import AdelDyn\n",
    "from alinea.adel.echap_leaf import echap_leaves\n",
    "INPUTS_DIRPATH = os.path.join(os.path.dirname(os.path.abspath(\"\")), \"data\")\n",
    "adel_wheat = AdelDyn(seed=1, scene_unit=\"m\", leaves=echap_leaves(xy_model=\"Soissons_byleafclass\"))\n",
    "g = adel_wheat.load(dir=INPUTS_DIRPATH)"
   ]
  },
  {
   "cell_type": "code",
   "execution_count": 18,
   "id": "5a73780f",
   "metadata": {},
   "outputs": [
    {
     "name": "stdout",
     "output_type": "stream",
     "text": [
      "   Day  Hour  Organ  VegetationType      Area    par Eabs      par Ei\n",
      "0  264    15     19               0  0.000228  159.208612  187.304249\n",
      "1  264    15     34               0  0.000013   80.953500   95.239412\n",
      "2  264    15    813               0  0.000194  385.317031  453.314154\n",
      "3  264    15    814               0  0.000240  367.646906  432.525772\n",
      "4  264    15     51               0  0.000284  347.458387  408.774573\n"
     ]
    },
    {
     "data": {
      "application/vnd.jupyter.widget-view+json": {
       "model_id": "0d07f0a7f9c541048677b01ae0081ca0",
       "version_major": 2,
       "version_minor": 0
      },
      "text/plain": [
       "SceneWidget(axes_helper=True, scenes=[{'id': 'nOBWAHxiPOAKSUmQc0cHKQkiR', 'data': b'x\\xda\\x95\\x9a{pUW\\x15\\xc6/…"
      ]
     },
     "execution_count": 18,
     "metadata": {},
     "output_type": "execute_result"
    }
   ],
   "source": [
    "geometry = {\n",
    "    \"scenes\": [g]\n",
    "}\n",
    "lighting = LightVegeManager(lightmodel=\"caribu\", environment=environment)\n",
    "lighting.build(geometry=geometry)\n",
    "lighting.run(energy=energy, hour=hour, day=day)\n",
    "print(lighting.elements_outputs)\n",
    "SceneWidget(lighting.to_plantGL(lighting=True), \n",
    "            position=(0.0, 0.0, 0.0), \n",
    "            size_display=(600, 400), \n",
    "            plane=True, \n",
    "            size_world = 0.1, \n",
    "            axes_helper=True)"
   ]
  },
  {
   "cell_type": "markdown",
   "id": "6530bd77",
   "metadata": {},
   "source": [
    "### RATP inputs\n",
    "\n",
    "All the above scenes can be geometric inputs if the lightmodel argument is set to `\"ratp\"`."
   ]
  },
  {
   "cell_type": "code",
   "execution_count": 21,
   "id": "fbd0394a",
   "metadata": {},
   "outputs": [
    {
     "name": "stdout",
     "output_type": "stream",
     "text": [
      "     Day  Hour  Organ  VegetationType      Area        PARa  Intercepted  \\\n",
      "0  264.0  15.0     19               1  0.000228  435.713379     0.000693   \n",
      "1  264.0  15.0     34               1  0.000013  435.713379     0.000693   \n",
      "2  264.0  15.0    813               1  0.000194  435.713379     0.000693   \n",
      "3  264.0  15.0    814               1  0.000240  441.368498     0.000288   \n",
      "4  264.0  15.0     51               1  0.000284  435.713379     0.000693   \n",
      "\n",
      "   Transmitted   SunlitPAR  SunlitArea   ShadedPAR  ShadedArea  \n",
      "0     0.000693  435.713379    0.000776  435.713379    0.000019  \n",
      "1     0.000693  435.713379    0.000776  435.713379    0.000019  \n",
      "2     0.000693  435.713379    0.000776  435.713379    0.000019  \n",
      "3     0.000288  441.368498    0.000322  441.368498    0.000007  \n",
      "4     0.000693  435.713379    0.000776  435.713379    0.000019  \n"
     ]
    },
    {
     "data": {
      "application/vnd.jupyter.widget-view+json": {
       "model_id": "3e6998ef5bbb441a9941d18881a1b19d",
       "version_major": 2,
       "version_minor": 0
      },
      "text/plain": [
       "SceneWidget(axes_helper=True, scenes=[{'id': 'wctv0d7i6YHequCnJz21Y8umG', 'data': b'x\\xda\\x95\\x9a\\x0bpT\\xd5\\x1…"
      ]
     },
     "execution_count": 21,
     "metadata": {},
     "output_type": "execute_result"
    }
   ],
   "source": [
    "geometry = {\n",
    "    \"scenes\": [g]\n",
    "}\n",
    "lighting = LightVegeManager(lightmodel=\"ratp\", environment=environment)\n",
    "lighting.build(geometry=geometry)\n",
    "lighting.run(energy=energy, hour=hour, day=day)\n",
    "print(lighting.elements_outputs)\n",
    "SceneWidget(lighting.to_plantGL(lighting=True, printvoxels=True), \n",
    "            position=(0.0, 0.0, 0.0), \n",
    "            size_display=(600, 400), \n",
    "            plane=True, \n",
    "            size_world = 0.1, \n",
    "            axes_helper=True)"
   ]
  },
  {
   "cell_type": "markdown",
   "id": "6062c7f1",
   "metadata": {},
   "source": [
    "### RiRi5 inputs\n",
    "\n",
    "RiRi5 can have the same inputs as RATP. \n",
    "\n",
    "A scene grid of voxels must have exactly 9 angle classes for its leaf angle distribution, and at least one empty layer above the canopy. \n",
    "\n",
    "Triangles mesh inputs are processed through the RATP pipeline, then is converted to RiRi5."
   ]
  },
  {
   "cell_type": "code",
   "execution_count": 9,
   "id": "ea4d4e57",
   "metadata": {},
   "outputs": [],
   "source": [
    "import numpy\n",
    "\n",
    "l_scene = {\"LA\": numpy.ones([2, 3, 4, 4]), \"distrib\": [[0.1, 0.2, 0.1, 0.1, 0.05, 0.05, 0.1, 0.2, 0.1], \n",
    "                                                        [0.1, 0.1, 0.1, 0.1, 0.05, 0.1, 0.2, 0.2, 0.05]]}\n",
    "for i in range(4):\n",
    "    for j in range(4):\n",
    "        l_scene[\"LA\"][0][0][i][j] = 0.\n",
    "        l_scene[\"LA\"][1][0][i][j] = 0."
   ]
  },
  {
   "cell_type": "code",
   "execution_count": 10,
   "id": "41d5aa27",
   "metadata": {},
   "outputs": [],
   "source": [
    "geometry = {\n",
    "    \"scenes\": [l_scene]\n",
    "}\n",
    "lighting = LightVegeManager(lightmodel=\"riri5\", environment=environment)\n",
    "lighting.build(geometry=geometry)\n",
    "lighting.run(energy=energy, hour=hour, day=day)"
   ]
  },
  {
   "cell_type": "code",
   "execution_count": 21,
   "id": "46727204",
   "metadata": {},
   "outputs": [
    {
     "name": "stdout",
     "output_type": "stream",
     "text": [
      "[[[[  0.           0.           0.           0.        ]\n",
      "   [  0.           0.           0.           0.        ]\n",
      "   [  0.           0.           0.           0.        ]\n",
      "   [  0.           0.           0.           0.        ]]\n",
      "\n",
      "  [[208.05400092 208.05400092 208.05400092 208.05400092]\n",
      "   [208.05400092 208.05400092 208.05400092 208.05400092]\n",
      "   [208.05400092 208.05400092 208.05400092 208.05400092]\n",
      "   [208.05400092 208.05400092 208.05400092 208.05400092]]\n",
      "\n",
      "  [[ 33.75896074  33.75896074  33.75896074  33.75896074]\n",
      "   [ 33.75896074  33.75896074  33.75896074  33.75896074]\n",
      "   [ 33.75896074  33.75896074  33.75896074  33.75896074]\n",
      "   [ 33.75896074  33.75896074  33.75896074  33.75896074]]]\n",
      "\n",
      "\n",
      " [[[  0.           0.           0.           0.        ]\n",
      "   [  0.           0.           0.           0.        ]\n",
      "   [  0.           0.           0.           0.        ]\n",
      "   [  0.           0.           0.           0.        ]]\n",
      "\n",
      "  [[207.34450322 207.34450322 207.34450322 207.34450322]\n",
      "   [207.34450322 207.34450322 207.34450322 207.34450322]\n",
      "   [207.34450322 207.34450322 207.34450322 207.34450322]\n",
      "   [207.34450322 207.34450322 207.34450322 207.34450322]]\n",
      "\n",
      "  [[ 33.2079505   33.2079505   33.2079505   33.2079505 ]\n",
      "   [ 33.2079505   33.2079505   33.2079505   33.2079505 ]\n",
      "   [ 33.2079505   33.2079505   33.2079505   33.2079505 ]\n",
      "   [ 33.2079505   33.2079505   33.2079505   33.2079505 ]]]]\n"
     ]
    }
   ],
   "source": [
    "print(lighting.riri5_intercepted_light)"
   ]
  },
  {
   "cell_type": "code",
   "execution_count": 22,
   "id": "3c2b9445",
   "metadata": {},
   "outputs": [
    {
     "name": "stdout",
     "output_type": "stream",
     "text": [
      "[[[500.         500.         500.         500.        ]\n",
      "  [500.         500.         500.         500.        ]\n",
      "  [500.         500.         500.         500.        ]\n",
      "  [500.         500.         500.         500.        ]]\n",
      "\n",
      " [[ 84.60149586  84.60149586  84.60149586  84.60149586]\n",
      "  [ 84.60149586  84.60149586  84.60149586  84.60149586]\n",
      "  [ 84.60149586  84.60149586  84.60149586  84.60149586]\n",
      "  [ 84.60149586  84.60149586  84.60149586  84.60149586]]\n",
      "\n",
      " [[ 17.63458462  17.63458462  17.63458462  17.63458462]\n",
      "  [ 17.63458462  17.63458462  17.63458462  17.63458462]\n",
      "  [ 17.63458462  17.63458462  17.63458462  17.63458462]\n",
      "  [ 17.63458462  17.63458462  17.63458462  17.63458462]]]\n"
     ]
    }
   ],
   "source": [
    "print(lighting.riri5_transmitted_light)"
   ]
  },
  {
   "cell_type": "code",
   "execution_count": 12,
   "id": "1d2966e9",
   "metadata": {},
   "outputs": [],
   "source": [
    "geometry = {\n",
    "    \"scenes\": [organized_triangles]\n",
    "}\n",
    "\n",
    "lighting.build(geometry=geometry)\n",
    "lighting.run(energy=energy, hour=hour, day=day)"
   ]
  },
  {
   "cell_type": "code",
   "execution_count": 13,
   "id": "e6bf07bc",
   "metadata": {},
   "outputs": [
    {
     "name": "stdout",
     "output_type": "stream",
     "text": [
      "[[[[0. 0. 0. ... 0. 0. 0.]\n",
      "   [0. 0. 0. ... 0. 0. 0.]\n",
      "   [0. 0. 0. ... 0. 0. 0.]\n",
      "   ...\n",
      "   [0. 0. 0. ... 0. 0. 0.]\n",
      "   [0. 0. 0. ... 0. 0. 0.]\n",
      "   [0. 0. 0. ... 0. 0. 0.]]\n",
      "\n",
      "  [[0. 0. 0. ... 0. 0. 0.]\n",
      "   [0. 0. 0. ... 0. 0. 0.]\n",
      "   [0. 0. 0. ... 0. 0. 0.]\n",
      "   ...\n",
      "   [0. 0. 0. ... 0. 0. 0.]\n",
      "   [0. 0. 0. ... 0. 0. 0.]\n",
      "   [0. 0. 0. ... 0. 0. 0.]]\n",
      "\n",
      "  [[0. 0. 0. ... 0. 0. 0.]\n",
      "   [0. 0. 0. ... 0. 0. 0.]\n",
      "   [0. 0. 0. ... 0. 0. 0.]\n",
      "   ...\n",
      "   [0. 0. 0. ... 0. 0. 0.]\n",
      "   [0. 0. 0. ... 0. 0. 0.]\n",
      "   [0. 0. 0. ... 0. 0. 0.]]\n",
      "\n",
      "  ...\n",
      "\n",
      "  [[0. 0. 0. ... 0. 0. 0.]\n",
      "   [0. 0. 0. ... 0. 0. 0.]\n",
      "   [0. 0. 0. ... 0. 0. 0.]\n",
      "   ...\n",
      "   [0. 0. 0. ... 0. 0. 0.]\n",
      "   [0. 0. 0. ... 0. 0. 0.]\n",
      "   [0. 0. 0. ... 0. 0. 0.]]\n",
      "\n",
      "  [[0. 0. 0. ... 0. 0. 0.]\n",
      "   [0. 0. 0. ... 0. 0. 0.]\n",
      "   [0. 0. 0. ... 0. 0. 0.]\n",
      "   ...\n",
      "   [0. 0. 0. ... 0. 0. 0.]\n",
      "   [0. 0. 0. ... 0. 0. 0.]\n",
      "   [0. 0. 0. ... 0. 0. 0.]]\n",
      "\n",
      "  [[0. 0. 0. ... 0. 0. 0.]\n",
      "   [0. 0. 0. ... 0. 0. 0.]\n",
      "   [0. 0. 0. ... 0. 0. 0.]\n",
      "   ...\n",
      "   [0. 0. 0. ... 0. 0. 0.]\n",
      "   [0. 0. 0. ... 0. 0. 0.]\n",
      "   [0. 0. 0. ... 0. 0. 0.]]]]\n"
     ]
    }
   ],
   "source": [
    "print(lighting.riri5_intercepted_light)"
   ]
  },
  {
   "cell_type": "code",
   "execution_count": 14,
   "id": "e2735b98",
   "metadata": {},
   "outputs": [
    {
     "name": "stdout",
     "output_type": "stream",
     "text": [
      "[[[500. 500. 500. ... 500. 500. 500.]\n",
      "  [500. 500. 500. ... 500. 500. 500.]\n",
      "  [500. 500. 500. ... 500. 500. 500.]\n",
      "  ...\n",
      "  [500. 500. 500. ... 500. 500. 500.]\n",
      "  [500. 500. 500. ... 500. 500. 500.]\n",
      "  [500. 500. 500. ... 500. 500. 500.]]\n",
      "\n",
      " [[500. 500. 500. ... 500. 500. 500.]\n",
      "  [500. 500. 500. ... 500. 500. 500.]\n",
      "  [500. 500. 500. ... 500. 500. 500.]\n",
      "  ...\n",
      "  [500. 500. 500. ... 500. 500. 500.]\n",
      "  [500. 500. 500. ... 500. 500. 500.]\n",
      "  [500. 500. 500. ... 500. 500. 500.]]\n",
      "\n",
      " [[500. 500. 500. ... 500. 500. 500.]\n",
      "  [500. 500. 500. ... 500. 500. 500.]\n",
      "  [500. 500. 500. ... 500. 500. 500.]\n",
      "  ...\n",
      "  [500. 500. 500. ... 500. 500. 500.]\n",
      "  [500. 500. 500. ... 500. 500. 500.]\n",
      "  [500. 500. 500. ... 500. 500. 500.]]\n",
      "\n",
      " ...\n",
      "\n",
      " [[500. 500. 500. ... 500. 500. 500.]\n",
      "  [500. 500. 500. ... 500. 500. 500.]\n",
      "  [500. 500. 500. ... 500. 500. 500.]\n",
      "  ...\n",
      "  [500. 500. 500. ... 500. 500. 500.]\n",
      "  [500. 500. 500. ... 500. 500. 500.]\n",
      "  [500. 500. 500. ... 500. 500. 500.]]\n",
      "\n",
      " [[500. 500. 500. ... 500. 500. 500.]\n",
      "  [500. 500. 500. ... 500. 500. 500.]\n",
      "  [500. 500. 500. ... 500. 500. 500.]\n",
      "  ...\n",
      "  [500. 500. 500. ... 500. 500. 500.]\n",
      "  [500. 500. 500. ... 500. 500. 500.]\n",
      "  [500. 500. 500. ... 500. 500. 500.]]\n",
      "\n",
      " [[500. 500. 500. ... 500. 500. 500.]\n",
      "  [500. 500. 500. ... 500. 500. 500.]\n",
      "  [500. 500. 500. ... 500. 500. 500.]\n",
      "  ...\n",
      "  [500. 500. 500. ... 500. 500. 500.]\n",
      "  [500. 500. 500. ... 500. 500. 500.]\n",
      "  [500. 500. 500. ... 500. 500. 500.]]]\n"
     ]
    }
   ],
   "source": [
    "print(lighting.riri5_transmitted_light)"
   ]
  },
  {
   "attachments": {
    "indices.png": {
     "image/png": "[encoded data removed]"
    }
   },
   "cell_type": "markdown",
   "id": "5c4a17a0",
   "metadata": {},
   "source": [
    "## Organizing the inputs\n",
    "\n",
    "They are two levels of possible organization:\n",
    "- species\n",
    "- organs\n",
    "\n",
    "Each triangle are bound to a specy ID and a organ ID. Each specy is represented as a input scene. The organs ID are set inside each scene depending on its format.\n",
    "\n",
    "![indices.png](attachment:indices.png)"
   ]
  },
  {
   "cell_type": "markdown",
   "id": "0af94bb6",
   "metadata": {},
   "source": [
    "An example with several scenes with the same organs ID and CARIBU."
   ]
  },
  {
   "cell_type": "code",
   "execution_count": 22,
   "id": "c5fd41ea",
   "metadata": {},
   "outputs": [],
   "source": [
    "scene1 = {\n",
    "    111: [random_triangle_generator(spheresize=spheresize) for i in range(20)],\n",
    "    222: [random_triangle_generator(spheresize=spheresize) for i in range(30)],\n",
    "    333: [random_triangle_generator(spheresize=spheresize) for i in range(10)],\n",
    "}\n",
    "\n",
    "scene2 = {\n",
    "    111: [random_triangle_generator(spheresize=spheresize) for i in range(20)],\n",
    "    222: [random_triangle_generator(spheresize=spheresize) for i in range(30)],\n",
    "    333: [random_triangle_generator(spheresize=spheresize) for i in range(10)],\n",
    "}\n",
    "\n",
    "scene3 = {\n",
    "    111: [random_triangle_generator(spheresize=spheresize) for i in range(20)],\n",
    "    222: [random_triangle_generator(spheresize=spheresize) for i in range(30)],\n",
    "    333: [random_triangle_generator(spheresize=spheresize) for i in range(10)],\n",
    "}"
   ]
  },
  {
   "cell_type": "markdown",
   "id": "bd4bb72f",
   "metadata": {},
   "source": [
    "We have 3 species"
   ]
  },
  {
   "cell_type": "code",
   "execution_count": 23,
   "id": "9e07c536",
   "metadata": {},
   "outputs": [],
   "source": [
    "scenes = [scene1, scene2, scene3]\n",
    "geometry = { \"scenes\": scenes }"
   ]
  },
  {
   "cell_type": "code",
   "execution_count": 24,
   "id": "3c7fb334",
   "metadata": {},
   "outputs": [
    {
     "name": "stdout",
     "output_type": "stream",
     "text": [
      "   Day  Hour  Organ  VegetationType         Area    par Eabs      par Ei\n",
      "0  264    15    111               0   865.848719  367.620782  432.495038\n",
      "1  264    15    222               0   904.093391  343.903742  404.592638\n",
      "2  264    15    333               0   500.476649  374.891932  441.049332\n",
      "3  264    15    111               1   719.501340  330.624848  388.970410\n",
      "4  264    15    222               1  1023.379192  351.641676  413.696090\n",
      "5  264    15    333               1   129.105369  391.022326  460.026266\n",
      "6  264    15    111               2  1047.414777  335.930702  395.212591\n",
      "7  264    15    222               2  1174.044647  349.124635  410.734865\n",
      "8  264    15    333               2   521.903258  361.052748  424.767939\n"
     ]
    }
   ],
   "source": [
    "lighting = LightVegeManager(lightmodel=\"caribu\")\n",
    "lighting.build(geometry=geometry)\n",
    "\n",
    "# compute the lighting\n",
    "energy = 500.\n",
    "hour = 15\n",
    "day = 264\n",
    "lighting.run(energy=energy, hour=hour, day=day)\n",
    "print(lighting.elements_outputs)"
   ]
  },
  {
   "cell_type": "code",
   "execution_count": 25,
   "id": "345141f9",
   "metadata": {},
   "outputs": [
    {
     "data": {
      "application/vnd.jupyter.widget-view+json": {
       "model_id": "4a97c3e9267f4d9bb46c9c1bd9d82408",
       "version_major": 2,
       "version_minor": 0
      },
      "text/plain": [
       "SceneWidget(axes_helper=True, scenes=[{'id': 'sNiVT3L9ABichdb2gAyBsVr2f', 'data': b'x\\xda\\x85}\\x07|\\x8d\\xd7\\xf…"
      ]
     },
     "execution_count": 25,
     "metadata": {},
     "output_type": "execute_result"
    }
   ],
   "source": [
    "SceneWidget(lighting.to_plantGL(lighting=True), \n",
    "            position=(-50.0, -50.0, 0.0), \n",
    "            size_display=(600, 400), \n",
    "            plane=True, \n",
    "            size_world = 100, \n",
    "            axes_helper=True)"
   ]
  },
  {
   "cell_type": "markdown",
   "id": "b22cca2d",
   "metadata": {},
   "source": [
    "The two level organization are also kept with RATP"
   ]
  },
  {
   "cell_type": "code",
   "execution_count": 27,
   "id": "ceea8138",
   "metadata": {},
   "outputs": [
    {
     "name": "stdout",
     "output_type": "stream",
     "text": [
      "     Day  Hour  Organ  VegetationType         Area        PARa  Intercepted  \\\n",
      "0  264.0  15.0    111               1   865.848719  444.431609   438.050846   \n",
      "1  264.0  15.0    222               1   904.093391  439.138654   508.370824   \n",
      "2  264.0  15.0    333               1   500.476649  438.358519   466.758357   \n",
      "3  264.0  15.0    111               2   719.501340  441.984838   374.664274   \n",
      "4  264.0  15.0    222               2  1023.379192  436.324817   446.932608   \n",
      "5  264.0  15.0    333               2   129.105369  442.768841   373.148804   \n",
      "6  264.0  15.0    111               3  1047.414777  437.256257   728.403508   \n",
      "7  264.0  15.0    222               3  1174.044647  443.465415   536.007093   \n",
      "8  264.0  15.0    333               3   521.903258  432.082470   816.087594   \n",
      "\n",
      "   Transmitted   SunlitPAR  SunlitArea   ShadedPAR  ShadedArea  \n",
      "0   438.050846  450.722334  463.402916  356.222905   49.407779  \n",
      "1   508.370824  446.126727  538.617195  351.627301   58.372064  \n",
      "2   466.758357  446.387940  492.094716  351.888516   56.801907  \n",
      "3   374.664274  449.154416  395.429864  352.554837   42.809579  \n",
      "4   446.932608  444.042247  473.516975  347.442668   51.797538  \n",
      "5   373.148804  449.336097  395.819748  352.736518   45.454794  \n",
      "6   728.403508  444.694193  770.345275  349.806482   81.342446  \n",
      "7   536.007093  450.321284  565.173551  355.433568   58.993793  \n",
      "8   816.087594  440.468993  864.084337  345.581276   97.832614  \n"
     ]
    },
    {
     "name": "stderr",
     "output_type": "stream",
     "text": [
      "c:\\users\\mwoussen\\cdd\\codes\\dev\\lightvegemanager\\src\\lightvegemanager\\outputs.py:255: UserWarning: You are merging on int and float columns where the float values are not equal to their int representation.\n",
      "  trianglesoutputs = pandas.merge(dftriangles, voxels_outputs)\n"
     ]
    }
   ],
   "source": [
    "lighting = LightVegeManager(lightmodel=\"ratp\")\n",
    "lighting.build(geometry=geometry)\n",
    "\n",
    "energy = 500.\n",
    "hour = 15\n",
    "day = 264\n",
    "lighting.run(energy=energy, hour=hour, day=day)\n",
    "print(lighting.elements_outputs)"
   ]
  },
  {
   "cell_type": "markdown",
   "id": "b7aa82d0",
   "metadata": {},
   "source": [
    "## Stems\n",
    "\n",
    "If there are stems elements in the inputs, you can precise their ID and the tool will manage them, depending on the lightmodel:\n",
    "- with CARIBU, the optical parameters associated to the organ won't have a transmission value (rays won't cross the triangle)\n",
    "- with RATP, stems are separated in a new specy with its own leaf angle distribution and their leaf area is divided by 2"
   ]
  },
  {
   "cell_type": "markdown",
   "id": "7e67a4d7",
   "metadata": {},
   "source": [
    "We reuse the wheat geometry given by adelwheat"
   ]
  },
  {
   "cell_type": "code",
   "execution_count": 9,
   "id": "867c73bf",
   "metadata": {},
   "outputs": [],
   "source": [
    "geometry = {\n",
    "    \"scenes\": [g]\n",
    "}"
   ]
  },
  {
   "cell_type": "markdown",
   "id": "bfef5e1a",
   "metadata": {},
   "source": [
    "stems are stored in list where each element is a 2-tuple `(organ ID, specy ID)`"
   ]
  },
  {
   "cell_type": "code",
   "execution_count": 10,
   "id": "6782b2a5",
   "metadata": {},
   "outputs": [],
   "source": [
    "stems = [(19, 0), (34, 0)]\n",
    "geometry.update({\"stems id\": stems})"
   ]
  },
  {
   "cell_type": "code",
   "execution_count": 11,
   "id": "a3efcb4c",
   "metadata": {},
   "outputs": [
    {
     "data": {
      "application/vnd.jupyter.widget-view+json": {
       "model_id": "98dba90d8acc43e8b633b6cd1fd32e01",
       "version_major": 2,
       "version_minor": 0
      },
      "text/plain": [
       "SceneWidget(axes_helper=True, scenes=[{'id': 'jZ9Zexz60T6u6TydCb9uVlZBe', 'data': b'x\\xda\\x95\\x9a\\r\\x8cT\\xd5\\x…"
      ]
     },
     "execution_count": 11,
     "metadata": {},
     "output_type": "execute_result"
    }
   ],
   "source": [
    "lighting = LightVegeManager(lightmodel=\"caribu\")\n",
    "lighting.build(geometry=geometry)\n",
    "SceneWidget(lighting.to_plantGL(), \n",
    "            position=(0.0, 0.0, 0.0), \n",
    "            size_display=(600, 400), \n",
    "            plane=True, \n",
    "            size_world = 0.1, \n",
    "            axes_helper=True)"
   ]
  },
  {
   "cell_type": "code",
   "execution_count": 32,
   "id": "1e700495",
   "metadata": {},
   "outputs": [
    {
     "name": "stdout",
     "output_type": "stream",
     "text": [
      "   Day  Hour  Organ  VegetationType      Area    par Eabs      par Ei\n",
      "0  264    15     19               0  0.000228  194.070089  215.633432\n",
      "1  264    15     34               0  0.000013   93.806573  104.229526\n",
      "2  264    15    813               0  0.000194  458.967637  539.961926\n",
      "3  264    15    814               0  0.000240  392.729426  462.034618\n",
      "4  264    15     51               0  0.000284  350.644177  412.522561\n"
     ]
    },
    {
     "data": {
      "application/vnd.jupyter.widget-view+json": {
       "model_id": "fd11f5056a724394a87d9c6ef72f0448",
       "version_major": 2,
       "version_minor": 0
      },
      "text/plain": [
       "SceneWidget(axes_helper=True, scenes=[{'id': 'X6MEhdoPOJgZ1bvsYLGzPEHsk', 'data': b'x\\xda\\x95\\x9a{p\\x15\\xd5\\x1…"
      ]
     },
     "execution_count": 32,
     "metadata": {},
     "output_type": "execute_result"
    }
   ],
   "source": [
    "lighting.run(energy=energy, hour=hour, day=day)\n",
    "print(lighting.elements_outputs)\n",
    "SceneWidget(lighting.to_plantGL(lighting=True), \n",
    "            position=(0.0, 0.0, 0.0), \n",
    "            size_display=(600, 400), \n",
    "            plane=True, \n",
    "            size_world = 0.1, \n",
    "            axes_helper=True)"
   ]
  },
  {
   "cell_type": "markdown",
   "id": "37db8bea",
   "metadata": {},
   "source": [
    "## Geometric transformations\n",
    "\n",
    "You can apply geometric transformations on some of the inputs scenes. We have currently 3 available transformations\n",
    "- translation by a vector\n",
    "- rescale by a factor or following scenes metric unit\n",
    "- rotation on the xy plane\n",
    "\n",
    "![transform_geo.png](../doc/_img/transform_geo.png)\n",
    "\n",
    "Transformations are stored in a dict, which is stored at key `\"transformations\"` in the geometry entry. Structure of transformations :\n",
    "\n",
    "```python\n",
    "transformations = {\n",
    "    \"scenes unit\": { specy ID: \"metric unit\", ...},\n",
    "    \"rescale\": { specy ID: float, ...},\n",
    "    \"translate\": { specy ID: 3-tuple (x,y,z), ...},\n",
    "    \"xyz orientation\":  { specy ID: \"x+ = NEWS\", ...},\n",
    "}\n",
    "```"
   ]
  },
  {
   "cell_type": "markdown",
   "id": "589b61d1",
   "metadata": {},
   "source": [
    "**Main scenes**"
   ]
  },
  {
   "cell_type": "code",
   "execution_count": 13,
   "id": "9c6cf24b",
   "metadata": {},
   "outputs": [],
   "source": [
    "spheresize = (2., 1.)\n",
    "scene1 = {\n",
    "    0: [random_triangle_generator(spheresize=spheresize, worldsize=(0,10)) for i in range(20)]\n",
    "}\n",
    "scene2 = {\n",
    "    0: [random_triangle_generator(spheresize=spheresize, worldsize=(10,20)) for i in range(20)]\n",
    "}\n",
    "\n",
    "geometry = {\"scenes\": [scene1, scene2] }"
   ]
  },
  {
   "cell_type": "code",
   "execution_count": 14,
   "id": "83d85602",
   "metadata": {},
   "outputs": [
    {
     "data": {
      "application/vnd.jupyter.widget-view+json": {
       "model_id": "46b4c169c54b4e0a8228d7cf1ea18e1e",
       "version_major": 2,
       "version_minor": 0
      },
      "text/plain": [
       "SceneWidget(axes_helper=True, scenes=[{'id': 'DOLcNoqMANQw6VQcJjZQN4EVH', 'data': b'x\\xda\\x85Y{TUu\\x16\\xbe\\x80…"
      ]
     },
     "execution_count": 14,
     "metadata": {},
     "output_type": "execute_result"
    }
   ],
   "source": [
    "lighting = LightVegeManager(lightmodel=\"caribu\")\n",
    "lighting.build(geometry=geometry)\n",
    "SceneWidget(lighting.to_plantGL(), \n",
    "            position=(0.0, 0.0, 0.0), \n",
    "            size_display=(600, 400), \n",
    "            plane=True, \n",
    "            size_world = 50., \n",
    "            axes_helper=True)"
   ]
  },
  {
   "cell_type": "markdown",
   "id": "eeff47a1",
   "metadata": {},
   "source": [
    "### Translate\n",
    "\n",
    "The translation vector is a 3-tuple (x,y,z). Transformations is a dict in the geometry dict."
   ]
  },
  {
   "cell_type": "code",
   "execution_count": 15,
   "id": "49b01ec1",
   "metadata": {},
   "outputs": [],
   "source": [
    "tvec = (10., -10., 10.)\n",
    "transformations = {\n",
    "    \"translate\": {\n",
    "        0: tvec\n",
    "    }\n",
    "}\n",
    "geometry = {\"scenes\": [scene1, scene2] , \"transformations\": transformations}"
   ]
  },
  {
   "cell_type": "code",
   "execution_count": 16,
   "id": "3217bce8",
   "metadata": {},
   "outputs": [
    {
     "data": {
      "application/vnd.jupyter.widget-view+json": {
       "model_id": "76c89db03d554397bf776734f8850040",
       "version_major": 2,
       "version_minor": 0
      },
      "text/plain": [
       "SceneWidget(axes_helper=True, scenes=[{'id': 'WtsDD3lUn5IdvzQMKP8sVF7J8', 'data': b'x\\xda\\x8d\\x99\\rTTe\\x1a\\xc7…"
      ]
     },
     "execution_count": 16,
     "metadata": {},
     "output_type": "execute_result"
    }
   ],
   "source": [
    "lighting = LightVegeManager(lightmodel=\"caribu\")\n",
    "lighting.build(geometry=geometry)\n",
    "SceneWidget(lighting.to_plantGL(), \n",
    "            position=(0.0, 0.0, 0.0), \n",
    "            size_display=(600, 400), \n",
    "            plane=True, \n",
    "            size_world = 50., \n",
    "            axes_helper=True)"
   ]
  },
  {
   "cell_type": "markdown",
   "id": "3b6efd1e",
   "metadata": {},
   "source": [
    "### Rescale following metric unit\n",
    "\n",
    "You can precise the metric unit of each scene from this list: `\"mm\", \"cm\", \"dm\", \"m\", \"dam\", \"hm\", \"km\"`. By default the merged scene is in m but you can change its unit when you create an instance."
   ]
  },
  {
   "cell_type": "code",
   "execution_count": 17,
   "id": "e8a3c8fd",
   "metadata": {},
   "outputs": [],
   "source": [
    "transformations = {\n",
    "    \"scenes unit\": {\n",
    "        0: \"dm\"\n",
    "    }\n",
    "}\n",
    "geometry = {\"scenes\": [scene1, scene2] , \"transformations\": transformations}"
   ]
  },
  {
   "cell_type": "code",
   "execution_count": 18,
   "id": "cb13af72",
   "metadata": {},
   "outputs": [
    {
     "data": {
      "application/vnd.jupyter.widget-view+json": {
       "model_id": "1faf13d540ad444aa201ce3b3091b678",
       "version_major": 2,
       "version_minor": 0
      },
      "text/plain": [
       "SceneWidget(axes_helper=True, scenes=[{'id': 'xZEoaWgcFvXiGSLzBxMdGtVPm', 'data': b'x\\xda\\x85\\x98\\t\\\\\\x95e\\x16…"
      ]
     },
     "execution_count": 18,
     "metadata": {},
     "output_type": "execute_result"
    }
   ],
   "source": [
    "lighting = LightVegeManager(lightmodel=\"caribu\", main_unit=\"m\")\n",
    "lighting.build(geometry=geometry)\n",
    "SceneWidget(lighting.to_plantGL(), \n",
    "            position=(0.0, 0.0, 0.0), \n",
    "            size_display=(600, 400), \n",
    "            plane=True, \n",
    "            size_world = 50., \n",
    "            axes_helper=True)"
   ]
  },
  {
   "cell_type": "markdown",
   "id": "e58c7d97",
   "metadata": {},
   "source": [
    "### Rescale by a scalar factor"
   ]
  },
  {
   "cell_type": "code",
   "execution_count": 19,
   "id": "b50c27e6",
   "metadata": {},
   "outputs": [],
   "source": [
    "transformations = {\n",
    "    \"rescale\": {\n",
    "        0: 2.,\n",
    "    }\n",
    "}\n",
    "geometry = {\"scenes\": [scene1, scene2] , \"transformations\": transformations}"
   ]
  },
  {
   "cell_type": "code",
   "execution_count": 20,
   "id": "f1244a12",
   "metadata": {},
   "outputs": [
    {
     "data": {
      "application/vnd.jupyter.widget-view+json": {
       "model_id": "3371dc76488d43ec874ae447190793c3",
       "version_major": 2,
       "version_minor": 0
      },
      "text/plain": [
       "SceneWidget(axes_helper=True, scenes=[{'id': '5z82zPETDhTAdHCoB1NtdJC6R', 'data': b'x\\xda\\x8d\\x99{T\\x94\\xe5\\x1…"
      ]
     },
     "execution_count": 20,
     "metadata": {},
     "output_type": "execute_result"
    }
   ],
   "source": [
    "lighting = LightVegeManager(lightmodel=\"caribu\")\n",
    "lighting.build(geometry=geometry)\n",
    "SceneWidget(lighting.to_plantGL(), \n",
    "            position=(0.0, 0.0, 0.0), \n",
    "            size_display=(600, 400), \n",
    "            plane=True, \n",
    "            size_world = 50., \n",
    "            axes_helper=True)"
   ]
  },
  {
   "cell_type": "markdown",
   "id": "847e5020",
   "metadata": {},
   "source": [
    "### Rotate\n",
    "\n",
    "Finally, you can also rotate the scene around the z axis, in order to match the x+ convention for each input scene. You have the choice between:\n",
    "- `\"x+ = N\"`\n",
    "- `\"x+ = S\"`\n",
    "- `\"x+ = E\"`\n",
    "- `\"x+ = W\"`\n",
    "\n",
    "The merged scene convention is x+ = N, which the convention in RATP and CARIBU."
   ]
  },
  {
   "cell_type": "code",
   "execution_count": 21,
   "id": "f9bdfded",
   "metadata": {},
   "outputs": [],
   "source": [
    "transformations = {\n",
    "    \"xyz orientation\": {\n",
    "        0: \"x+ = S\",\n",
    "        1: \"x+ = E\",\n",
    "    }\n",
    "}\n",
    "geometry = {\"scenes\": [scene1, scene2] , \"transformations\": transformations}"
   ]
  },
  {
   "cell_type": "code",
   "execution_count": 22,
   "id": "cce4df98",
   "metadata": {},
   "outputs": [
    {
     "data": {
      "application/vnd.jupyter.widget-view+json": {
       "model_id": "76451c57a9b44f0c9b30344714b536b4",
       "version_major": 2,
       "version_minor": 0
      },
      "text/plain": [
       "SceneWidget(axes_helper=True, scenes=[{'id': 'vEFGxUQjZl3lco2qrN9j8zsDG', 'data': b'x\\xda\\x8d\\x99\\x0bTUe\\x16\\x…"
      ]
     },
     "execution_count": 22,
     "metadata": {},
     "output_type": "execute_result"
    }
   ],
   "source": [
    "lighting = LightVegeManager(lightmodel=\"caribu\")\n",
    "lighting.build(geometry=geometry)\n",
    "SceneWidget(lighting.to_plantGL(), \n",
    "            position=(0.0, 0.0, 0.0), \n",
    "            size_display=(600, 400), \n",
    "            plane=True, \n",
    "            size_world = 50., \n",
    "            axes_helper=True)"
   ]
  }
 ],
 "metadata": {
  "kernelspec": {
   "display_name": "Python 3 (ipykernel)",
   "language": "python",
   "name": "python3"
  },
  "language_info": {
   "codemirror_mode": {
    "name": "ipython",
    "version": 3
   },
   "file_extension": ".py",
   "mimetype": "text/x-python",
   "name": "python",
   "nbconvert_exporter": "python",
   "pygments_lexer": "ipython3",
   "version": "3.8.17"
  }
 },
 "nbformat": 4,
 "nbformat_minor": 5
}
